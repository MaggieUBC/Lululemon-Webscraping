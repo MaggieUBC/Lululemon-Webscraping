{
 "cells": [
  {
   "cell_type": "markdown",
   "id": "4c10c30e",
   "metadata": {},
   "source": [
    "<center><h1> Webscraping Project - Steam</h1> </center>"
   ]
  },
  {
   "cell_type": "markdown",
   "id": "7d3b4d36",
   "metadata": {},
   "source": [
    "<center><h3> Yuki Chen & Liz Meng</h3> </center>"
   ]
  },
  {
   "cell_type": "markdown",
   "id": "84012b6e",
   "metadata": {},
   "source": [
    "# Table of Contents"
   ]
  },
  {
   "cell_type": "markdown",
   "id": "1a8b2d23",
   "metadata": {},
   "source": [
    "1. [Install Selenium & Required Libraries](#1.-Install-Selenium-&-Required-Libraries)\n",
    "2. [Setting up Selenium](#2.-Setting-up-Selenium)\n",
    "3. [Data Scraping](#3.-Data-Scraping)\n",
    "4. [Data Cleanup](#4.-Data-Cleanup)\n",
    "5. [Analysis and Graphics](#5.-Analysis-and-Graphics)"
   ]
  },
  {
   "cell_type": "markdown",
   "id": "bbab79d2",
   "metadata": {},
   "source": [
    "## 1. Install Selenium & Required Libraries"
   ]
  },
  {
   "cell_type": "markdown",
   "id": "898ed20b",
   "metadata": {},
   "source": [
    "### 1.1 Install Selenium"
   ]
  },
  {
   "cell_type": "code",
   "execution_count": 1,
   "id": "20b08f9e",
   "metadata": {
    "collapsed": true
   },
   "outputs": [
    {
     "name": "stdout",
     "output_type": "stream",
     "text": [
      "Requirement already satisfied: selenium in c:\\users\\yuki-\\anaconda3\\lib\\site-packages (4.5.0)\n",
      "Requirement already satisfied: urllib3[socks]~=1.26 in c:\\users\\yuki-\\anaconda3\\lib\\site-packages (from selenium) (1.26.9)\n",
      "Requirement already satisfied: certifi>=2021.10.8 in c:\\users\\yuki-\\anaconda3\\lib\\site-packages (from selenium) (2021.10.8)\n",
      "Requirement already satisfied: trio~=0.17 in c:\\users\\yuki-\\anaconda3\\lib\\site-packages (from selenium) (0.22.0)\n",
      "Requirement already satisfied: trio-websocket~=0.9 in c:\\users\\yuki-\\anaconda3\\lib\\site-packages (from selenium) (0.9.2)\n",
      "Requirement already satisfied: sniffio in c:\\users\\yuki-\\anaconda3\\lib\\site-packages (from trio~=0.17->selenium) (1.2.0)\n",
      "Requirement already satisfied: sortedcontainers in c:\\users\\yuki-\\anaconda3\\lib\\site-packages (from trio~=0.17->selenium) (2.4.0)\n",
      "Requirement already satisfied: exceptiongroup>=1.0.0rc9 in c:\\users\\yuki-\\anaconda3\\lib\\site-packages (from trio~=0.17->selenium) (1.0.0rc9)\n",
      "Requirement already satisfied: async-generator>=1.9 in c:\\users\\yuki-\\anaconda3\\lib\\site-packages (from trio~=0.17->selenium) (1.10)\n",
      "Requirement already satisfied: attrs>=19.2.0 in c:\\users\\yuki-\\anaconda3\\lib\\site-packages (from trio~=0.17->selenium) (21.4.0)\n",
      "Requirement already satisfied: cffi>=1.14 in c:\\users\\yuki-\\anaconda3\\lib\\site-packages (from trio~=0.17->selenium) (1.15.0)\n",
      "Requirement already satisfied: idna in c:\\users\\yuki-\\anaconda3\\lib\\site-packages (from trio~=0.17->selenium) (3.3)\n",
      "Requirement already satisfied: outcome in c:\\users\\yuki-\\anaconda3\\lib\\site-packages (from trio~=0.17->selenium) (1.2.0)\n",
      "Requirement already satisfied: pycparser in c:\\users\\yuki-\\anaconda3\\lib\\site-packages (from cffi>=1.14->trio~=0.17->selenium) (2.21)\n",
      "Requirement already satisfied: wsproto>=0.14 in c:\\users\\yuki-\\anaconda3\\lib\\site-packages (from trio-websocket~=0.9->selenium) (1.2.0)\n",
      "Requirement already satisfied: PySocks!=1.5.7,<2.0,>=1.5.6 in c:\\users\\yuki-\\anaconda3\\lib\\site-packages (from urllib3[socks]~=1.26->selenium) (1.7.1)\n",
      "Requirement already satisfied: h11<1,>=0.9.0 in c:\\users\\yuki-\\anaconda3\\lib\\site-packages (from wsproto>=0.14->trio-websocket~=0.9->selenium) (0.14.0)\n"
     ]
    }
   ],
   "source": [
    "!pip install selenium"
   ]
  },
  {
   "cell_type": "code",
   "execution_count": null,
   "id": "41813ea7",
   "metadata": {},
   "outputs": [],
   "source": [
    "from selenium import webdriver\n",
    "from selenium.webdriver.common.keys import Keys\n",
    "from selenium.webdriver.common.by import By\n",
    "from selenium.webdriver.support.ui import Select\n",
    "from selenium.common.exceptions import NoSuchElementException"
   ]
  },
  {
   "cell_type": "markdown",
   "id": "9a425dba",
   "metadata": {},
   "source": [
    "### 1.2 Install Libraries"
   ]
  },
  {
   "cell_type": "code",
   "execution_count": 1,
   "id": "63ccf4c7",
   "metadata": {},
   "outputs": [],
   "source": [
    "from tqdm import tqdm\n",
    "from time import sleep\n",
    "import datetime\n",
    "import re"
   ]
  },
  {
   "cell_type": "code",
   "execution_count": 2,
   "id": "9c53f47d",
   "metadata": {},
   "outputs": [],
   "source": [
    "import pandas as pd\n",
    "import numpy as np\n",
    "import matplotlib.pyplot as plt\n",
    "%matplotlib inline"
   ]
  },
  {
   "cell_type": "markdown",
   "id": "e9887d13",
   "metadata": {},
   "source": [
    "## 2. Setting up Selenium"
   ]
  },
  {
   "cell_type": "code",
   "execution_count": 858,
   "id": "756d58b2",
   "metadata": {},
   "outputs": [
    {
     "name": "stderr",
     "output_type": "stream",
     "text": [
      "C:\\Users\\yuki-\\AppData\\Local\\Temp\\ipykernel_34192\\2675890558.py:1: DeprecationWarning: executable_path has been deprecated, please pass in a Service object\n",
      "  driver = webdriver.Chrome('C:/Users/yuki-/Documents/DS Bootcamp/Lectures/python/chromedriver.exe')\n"
     ]
    }
   ],
   "source": [
    "driver = webdriver.Chrome('C:/Users/yuki-/Documents/DS Bootcamp/Lectures/python/chromedriver.exe')"
   ]
  },
  {
   "cell_type": "markdown",
   "id": "954d6f43",
   "metadata": {},
   "source": [
    "<h3>2.1 Go to Page</h3>"
   ]
  },
  {
   "cell_type": "code",
   "execution_count": 859,
   "id": "46668e73",
   "metadata": {},
   "outputs": [],
   "source": [
    "driver.get(\"https://store.steampowered.com/\")"
   ]
  },
  {
   "cell_type": "markdown",
   "id": "79038c0d",
   "metadata": {},
   "source": [
    "<h4>2.1.1 Set Language</h4>"
   ]
  },
  {
   "cell_type": "markdown",
   "id": "186ade63",
   "metadata": {},
   "source": [
    "My computer has different language settings so setting the default back to English"
   ]
  },
  {
   "cell_type": "code",
   "execution_count": 860,
   "id": "0a3d0606",
   "metadata": {},
   "outputs": [],
   "source": [
    "driver.find_element(By.XPATH,'//*[@id=\"language_pulldown\"]').click()"
   ]
  },
  {
   "cell_type": "code",
   "execution_count": 861,
   "id": "4a22b5c0",
   "metadata": {},
   "outputs": [],
   "source": [
    "select = driver.find_element(By.XPATH,'//*[@id=\"language_dropdown\"]/div/a[9]').click()"
   ]
  },
  {
   "cell_type": "markdown",
   "id": "1f156ffd",
   "metadata": {},
   "source": [
    "<h3>2.2 Naviage to Top Sellers</h3>"
   ]
  },
  {
   "cell_type": "code",
   "execution_count": 862,
   "id": "8398ef7d",
   "metadata": {},
   "outputs": [],
   "source": [
    "driver.find_element(By.XPATH,'//*[@id=\"responsive_page_template_content\"]/div[1]/div[1]/div/div[1]/div[8]/a[1]').click()"
   ]
  },
  {
   "cell_type": "code",
   "execution_count": 863,
   "id": "179fc855",
   "metadata": {},
   "outputs": [],
   "source": [
    "# unapply filter to get most results\n",
    "driver.find_element(By.XPATH,'//*[@id=\"search_results_filtered_warning_persistent\"]/div[2]').click()\n",
    "sleep(3)\n",
    "driver.find_element(By.XPATH,'/html/body/div[3]/div[3]/div/div[2]/div[1]').click()"
   ]
  },
  {
   "cell_type": "markdown",
   "id": "e2905f1e",
   "metadata": {},
   "source": [
    "## 3. Data Scraping"
   ]
  },
  {
   "cell_type": "markdown",
   "id": "1d23e283",
   "metadata": {},
   "source": [
    "### 3.1 Create Dictionary to Store Values"
   ]
  },
  {
   "cell_type": "code",
   "execution_count": 127,
   "id": "2a94118b",
   "metadata": {},
   "outputs": [],
   "source": [
    "top1 = {'name':[],\n",
    "      'price':[],\n",
    "      'discount_price':[],\n",
    "      'release_date':[],\n",
    "      'review_count':[],\n",
    "      'review_quality':[],\n",
    "      'genre': [],\n",
    "      'rating':[],\n",
    "      'developer':[],\n",
    "      'publisher':[],\n",
    "      'player_support':[],\n",
    "      'deck_support': []\n",
    "     }"
   ]
  },
  {
   "cell_type": "markdown",
   "id": "2b1123b2",
   "metadata": {},
   "source": [
    "### 3.2 Find number of items on the page\n",
    "\n",
    "<p>Steam is a dynamic page that implements infinite scroll, and each item is listed by an index in its XPath. In order to find all items on the page, use Selenium to scroll all the way to the bottom and find number of items loaded.</p>"
   ]
  },
  {
   "cell_type": "code",
   "execution_count": 93,
   "id": "eb8ae369",
   "metadata": {},
   "outputs": [
    {
     "name": "stderr",
     "output_type": "stream",
     "text": [
      "100%|██████████| 130/130 [04:27<00:00,  2.06s/it]\n"
     ]
    }
   ],
   "source": [
    "for i in tqdm(range(130)):\n",
    "    # scrolling all the way to bottom (infinite scroll)\n",
    "    driver.execute_script('window.scrollTo(0,document.body.scrollHeight);')\n",
    "    sleep(2)\n",
    "\n",
    "\n",
    "  # find number of items\n",
    "d = driver.find_elements(By.CLASS_NAME,'search_result_row')"
   ]
  },
  {
   "cell_type": "markdown",
   "id": "0137e5e9",
   "metadata": {},
   "source": [
    "### 3.3 Crawling Data"
   ]
  },
  {
   "cell_type": "markdown",
   "id": "f9767b27",
   "metadata": {},
   "source": [
    "Loop Process:\n",
    "1. Need to open each game in its own page to gather important information such as rating, publisher, reviews that are not shown on the seach page\n",
    "2. Open the page in a new tab to avoid refreshing the search page such that it hides elements that are not loaded\n",
    "3. Scrape necessary information from page\n",
    "4. Close the tab and return to search page\n",
    "5. Open next page"
   ]
  },
  {
   "cell_type": "code",
   "execution_count": 132,
   "id": "a25c7e88",
   "metadata": {
    "collapsed": true
   },
   "outputs": [
    {
     "name": "stderr",
     "output_type": "stream",
     "text": [
      " 75%|███████▌  | 4820/6411 [13:27:46<4:26:38, 10.06s/it] \n"
     ]
    },
    {
     "ename": "KeyboardInterrupt",
     "evalue": "",
     "output_type": "error",
     "traceback": [
      "\u001b[1;31m---------------------------------------------------------------------------\u001b[0m",
      "\u001b[1;31mKeyboardInterrupt\u001b[0m                         Traceback (most recent call last)",
      "Input \u001b[1;32mIn [132]\u001b[0m, in \u001b[0;36m<cell line: 3>\u001b[1;34m()\u001b[0m\n\u001b[0;32m      9\u001b[0m driver\u001b[38;5;241m.\u001b[39mexecute_script(\u001b[38;5;124m\"\u001b[39m\u001b[38;5;124mwindow.open(\u001b[39m\u001b[38;5;124m'\u001b[39m\u001b[38;5;124m'\u001b[39m\u001b[38;5;124m);\u001b[39m\u001b[38;5;124m\"\u001b[39m)\n\u001b[0;32m     10\u001b[0m driver\u001b[38;5;241m.\u001b[39mswitch_to\u001b[38;5;241m.\u001b[39mwindow(driver\u001b[38;5;241m.\u001b[39mwindow_handles[\u001b[38;5;241m1\u001b[39m])\n\u001b[1;32m---> 11\u001b[0m \u001b[43mdriver\u001b[49m\u001b[38;5;241;43m.\u001b[39;49m\u001b[43mget\u001b[49m\u001b[43m(\u001b[49m\u001b[43mu\u001b[49m\u001b[43m)\u001b[49m\n\u001b[0;32m     14\u001b[0m \u001b[38;5;66;03m# set appropriate age to bypass age restriction\u001b[39;00m\n\u001b[0;32m     15\u001b[0m \u001b[38;5;28;01mtry\u001b[39;00m:\n",
      "File \u001b[1;32m~\\anaconda3\\lib\\site-packages\\selenium\\webdriver\\remote\\webdriver.py:441\u001b[0m, in \u001b[0;36mWebDriver.get\u001b[1;34m(self, url)\u001b[0m\n\u001b[0;32m    437\u001b[0m \u001b[38;5;28;01mdef\u001b[39;00m \u001b[38;5;21mget\u001b[39m(\u001b[38;5;28mself\u001b[39m, url: \u001b[38;5;28mstr\u001b[39m) \u001b[38;5;241m-\u001b[39m\u001b[38;5;241m>\u001b[39m \u001b[38;5;28;01mNone\u001b[39;00m:\n\u001b[0;32m    438\u001b[0m     \u001b[38;5;124;03m\"\"\"\u001b[39;00m\n\u001b[0;32m    439\u001b[0m \u001b[38;5;124;03m    Loads a web page in the current browser session.\u001b[39;00m\n\u001b[0;32m    440\u001b[0m \u001b[38;5;124;03m    \"\"\"\u001b[39;00m\n\u001b[1;32m--> 441\u001b[0m     \u001b[38;5;28;43mself\u001b[39;49m\u001b[38;5;241;43m.\u001b[39;49m\u001b[43mexecute\u001b[49m\u001b[43m(\u001b[49m\u001b[43mCommand\u001b[49m\u001b[38;5;241;43m.\u001b[39;49m\u001b[43mGET\u001b[49m\u001b[43m,\u001b[49m\u001b[43m \u001b[49m\u001b[43m{\u001b[49m\u001b[38;5;124;43m'\u001b[39;49m\u001b[38;5;124;43murl\u001b[39;49m\u001b[38;5;124;43m'\u001b[39;49m\u001b[43m:\u001b[49m\u001b[43m \u001b[49m\u001b[43murl\u001b[49m\u001b[43m}\u001b[49m\u001b[43m)\u001b[49m\n",
      "File \u001b[1;32m~\\anaconda3\\lib\\site-packages\\selenium\\webdriver\\remote\\webdriver.py:427\u001b[0m, in \u001b[0;36mWebDriver.execute\u001b[1;34m(self, driver_command, params)\u001b[0m\n\u001b[0;32m    424\u001b[0m         params[\u001b[38;5;124m'\u001b[39m\u001b[38;5;124msessionId\u001b[39m\u001b[38;5;124m'\u001b[39m] \u001b[38;5;241m=\u001b[39m \u001b[38;5;28mself\u001b[39m\u001b[38;5;241m.\u001b[39msession_id\n\u001b[0;32m    426\u001b[0m params \u001b[38;5;241m=\u001b[39m \u001b[38;5;28mself\u001b[39m\u001b[38;5;241m.\u001b[39m_wrap_value(params)\n\u001b[1;32m--> 427\u001b[0m response \u001b[38;5;241m=\u001b[39m \u001b[38;5;28;43mself\u001b[39;49m\u001b[38;5;241;43m.\u001b[39;49m\u001b[43mcommand_executor\u001b[49m\u001b[38;5;241;43m.\u001b[39;49m\u001b[43mexecute\u001b[49m\u001b[43m(\u001b[49m\u001b[43mdriver_command\u001b[49m\u001b[43m,\u001b[49m\u001b[43m \u001b[49m\u001b[43mparams\u001b[49m\u001b[43m)\u001b[49m\n\u001b[0;32m    428\u001b[0m \u001b[38;5;28;01mif\u001b[39;00m response:\n\u001b[0;32m    429\u001b[0m     \u001b[38;5;28mself\u001b[39m\u001b[38;5;241m.\u001b[39merror_handler\u001b[38;5;241m.\u001b[39mcheck_response(response)\n",
      "File \u001b[1;32m~\\anaconda3\\lib\\site-packages\\selenium\\webdriver\\remote\\remote_connection.py:344\u001b[0m, in \u001b[0;36mRemoteConnection.execute\u001b[1;34m(self, command, params)\u001b[0m\n\u001b[0;32m    342\u001b[0m data \u001b[38;5;241m=\u001b[39m utils\u001b[38;5;241m.\u001b[39mdump_json(params)\n\u001b[0;32m    343\u001b[0m url \u001b[38;5;241m=\u001b[39m \u001b[38;5;124mf\u001b[39m\u001b[38;5;124m\"\u001b[39m\u001b[38;5;132;01m{\u001b[39;00m\u001b[38;5;28mself\u001b[39m\u001b[38;5;241m.\u001b[39m_url\u001b[38;5;132;01m}\u001b[39;00m\u001b[38;5;132;01m{\u001b[39;00mpath\u001b[38;5;132;01m}\u001b[39;00m\u001b[38;5;124m\"\u001b[39m\n\u001b[1;32m--> 344\u001b[0m \u001b[38;5;28;01mreturn\u001b[39;00m \u001b[38;5;28;43mself\u001b[39;49m\u001b[38;5;241;43m.\u001b[39;49m\u001b[43m_request\u001b[49m\u001b[43m(\u001b[49m\u001b[43mcommand_info\u001b[49m\u001b[43m[\u001b[49m\u001b[38;5;241;43m0\u001b[39;49m\u001b[43m]\u001b[49m\u001b[43m,\u001b[49m\u001b[43m \u001b[49m\u001b[43murl\u001b[49m\u001b[43m,\u001b[49m\u001b[43m \u001b[49m\u001b[43mbody\u001b[49m\u001b[38;5;241;43m=\u001b[39;49m\u001b[43mdata\u001b[49m\u001b[43m)\u001b[49m\n",
      "File \u001b[1;32m~\\anaconda3\\lib\\site-packages\\selenium\\webdriver\\remote\\remote_connection.py:366\u001b[0m, in \u001b[0;36mRemoteConnection._request\u001b[1;34m(self, method, url, body)\u001b[0m\n\u001b[0;32m    363\u001b[0m     body \u001b[38;5;241m=\u001b[39m \u001b[38;5;28;01mNone\u001b[39;00m\n\u001b[0;32m    365\u001b[0m \u001b[38;5;28;01mif\u001b[39;00m \u001b[38;5;28mself\u001b[39m\u001b[38;5;241m.\u001b[39mkeep_alive:\n\u001b[1;32m--> 366\u001b[0m     response \u001b[38;5;241m=\u001b[39m \u001b[38;5;28;43mself\u001b[39;49m\u001b[38;5;241;43m.\u001b[39;49m\u001b[43m_conn\u001b[49m\u001b[38;5;241;43m.\u001b[39;49m\u001b[43mrequest\u001b[49m\u001b[43m(\u001b[49m\u001b[43mmethod\u001b[49m\u001b[43m,\u001b[49m\u001b[43m \u001b[49m\u001b[43murl\u001b[49m\u001b[43m,\u001b[49m\u001b[43m \u001b[49m\u001b[43mbody\u001b[49m\u001b[38;5;241;43m=\u001b[39;49m\u001b[43mbody\u001b[49m\u001b[43m,\u001b[49m\u001b[43m \u001b[49m\u001b[43mheaders\u001b[49m\u001b[38;5;241;43m=\u001b[39;49m\u001b[43mheaders\u001b[49m\u001b[43m)\u001b[49m\n\u001b[0;32m    367\u001b[0m     statuscode \u001b[38;5;241m=\u001b[39m response\u001b[38;5;241m.\u001b[39mstatus\n\u001b[0;32m    368\u001b[0m \u001b[38;5;28;01melse\u001b[39;00m:\n",
      "File \u001b[1;32m~\\anaconda3\\lib\\site-packages\\urllib3\\request.py:78\u001b[0m, in \u001b[0;36mRequestMethods.request\u001b[1;34m(self, method, url, fields, headers, **urlopen_kw)\u001b[0m\n\u001b[0;32m     74\u001b[0m     \u001b[38;5;28;01mreturn\u001b[39;00m \u001b[38;5;28mself\u001b[39m\u001b[38;5;241m.\u001b[39mrequest_encode_url(\n\u001b[0;32m     75\u001b[0m         method, url, fields\u001b[38;5;241m=\u001b[39mfields, headers\u001b[38;5;241m=\u001b[39mheaders, \u001b[38;5;241m*\u001b[39m\u001b[38;5;241m*\u001b[39murlopen_kw\n\u001b[0;32m     76\u001b[0m     )\n\u001b[0;32m     77\u001b[0m \u001b[38;5;28;01melse\u001b[39;00m:\n\u001b[1;32m---> 78\u001b[0m     \u001b[38;5;28;01mreturn\u001b[39;00m \u001b[38;5;28mself\u001b[39m\u001b[38;5;241m.\u001b[39mrequest_encode_body(\n\u001b[0;32m     79\u001b[0m         method, url, fields\u001b[38;5;241m=\u001b[39mfields, headers\u001b[38;5;241m=\u001b[39mheaders, \u001b[38;5;241m*\u001b[39m\u001b[38;5;241m*\u001b[39murlopen_kw\n\u001b[0;32m     80\u001b[0m     )\n",
      "File \u001b[1;32m~\\anaconda3\\lib\\site-packages\\urllib3\\request.py:170\u001b[0m, in \u001b[0;36mRequestMethods.request_encode_body\u001b[1;34m(self, method, url, fields, headers, encode_multipart, multipart_boundary, **urlopen_kw)\u001b[0m\n\u001b[0;32m    167\u001b[0m extra_kw[\u001b[38;5;124m\"\u001b[39m\u001b[38;5;124mheaders\u001b[39m\u001b[38;5;124m\"\u001b[39m]\u001b[38;5;241m.\u001b[39mupdate(headers)\n\u001b[0;32m    168\u001b[0m extra_kw\u001b[38;5;241m.\u001b[39mupdate(urlopen_kw)\n\u001b[1;32m--> 170\u001b[0m \u001b[38;5;28;01mreturn\u001b[39;00m \u001b[38;5;28mself\u001b[39m\u001b[38;5;241m.\u001b[39murlopen(method, url, \u001b[38;5;241m*\u001b[39m\u001b[38;5;241m*\u001b[39mextra_kw)\n",
      "File \u001b[1;32m~\\anaconda3\\lib\\site-packages\\urllib3\\poolmanager.py:376\u001b[0m, in \u001b[0;36mPoolManager.urlopen\u001b[1;34m(self, method, url, redirect, **kw)\u001b[0m\n\u001b[0;32m    374\u001b[0m     response \u001b[38;5;241m=\u001b[39m conn\u001b[38;5;241m.\u001b[39murlopen(method, url, \u001b[38;5;241m*\u001b[39m\u001b[38;5;241m*\u001b[39mkw)\n\u001b[0;32m    375\u001b[0m \u001b[38;5;28;01melse\u001b[39;00m:\n\u001b[1;32m--> 376\u001b[0m     response \u001b[38;5;241m=\u001b[39m conn\u001b[38;5;241m.\u001b[39murlopen(method, u\u001b[38;5;241m.\u001b[39mrequest_uri, \u001b[38;5;241m*\u001b[39m\u001b[38;5;241m*\u001b[39mkw)\n\u001b[0;32m    378\u001b[0m redirect_location \u001b[38;5;241m=\u001b[39m redirect \u001b[38;5;129;01mand\u001b[39;00m response\u001b[38;5;241m.\u001b[39mget_redirect_location()\n\u001b[0;32m    379\u001b[0m \u001b[38;5;28;01mif\u001b[39;00m \u001b[38;5;129;01mnot\u001b[39;00m redirect_location:\n",
      "File \u001b[1;32m~\\anaconda3\\lib\\site-packages\\urllib3\\connectionpool.py:703\u001b[0m, in \u001b[0;36mHTTPConnectionPool.urlopen\u001b[1;34m(self, method, url, body, headers, retries, redirect, assert_same_host, timeout, pool_timeout, release_conn, chunked, body_pos, **response_kw)\u001b[0m\n\u001b[0;32m    700\u001b[0m     \u001b[38;5;28mself\u001b[39m\u001b[38;5;241m.\u001b[39m_prepare_proxy(conn)\n\u001b[0;32m    702\u001b[0m \u001b[38;5;66;03m# Make the request on the httplib connection object.\u001b[39;00m\n\u001b[1;32m--> 703\u001b[0m httplib_response \u001b[38;5;241m=\u001b[39m \u001b[38;5;28;43mself\u001b[39;49m\u001b[38;5;241;43m.\u001b[39;49m\u001b[43m_make_request\u001b[49m\u001b[43m(\u001b[49m\n\u001b[0;32m    704\u001b[0m \u001b[43m    \u001b[49m\u001b[43mconn\u001b[49m\u001b[43m,\u001b[49m\n\u001b[0;32m    705\u001b[0m \u001b[43m    \u001b[49m\u001b[43mmethod\u001b[49m\u001b[43m,\u001b[49m\n\u001b[0;32m    706\u001b[0m \u001b[43m    \u001b[49m\u001b[43murl\u001b[49m\u001b[43m,\u001b[49m\n\u001b[0;32m    707\u001b[0m \u001b[43m    \u001b[49m\u001b[43mtimeout\u001b[49m\u001b[38;5;241;43m=\u001b[39;49m\u001b[43mtimeout_obj\u001b[49m\u001b[43m,\u001b[49m\n\u001b[0;32m    708\u001b[0m \u001b[43m    \u001b[49m\u001b[43mbody\u001b[49m\u001b[38;5;241;43m=\u001b[39;49m\u001b[43mbody\u001b[49m\u001b[43m,\u001b[49m\n\u001b[0;32m    709\u001b[0m \u001b[43m    \u001b[49m\u001b[43mheaders\u001b[49m\u001b[38;5;241;43m=\u001b[39;49m\u001b[43mheaders\u001b[49m\u001b[43m,\u001b[49m\n\u001b[0;32m    710\u001b[0m \u001b[43m    \u001b[49m\u001b[43mchunked\u001b[49m\u001b[38;5;241;43m=\u001b[39;49m\u001b[43mchunked\u001b[49m\u001b[43m,\u001b[49m\n\u001b[0;32m    711\u001b[0m \u001b[43m\u001b[49m\u001b[43m)\u001b[49m\n\u001b[0;32m    713\u001b[0m \u001b[38;5;66;03m# If we're going to release the connection in ``finally:``, then\u001b[39;00m\n\u001b[0;32m    714\u001b[0m \u001b[38;5;66;03m# the response doesn't need to know about the connection. Otherwise\u001b[39;00m\n\u001b[0;32m    715\u001b[0m \u001b[38;5;66;03m# it will also try to release it and we'll have a double-release\u001b[39;00m\n\u001b[0;32m    716\u001b[0m \u001b[38;5;66;03m# mess.\u001b[39;00m\n\u001b[0;32m    717\u001b[0m response_conn \u001b[38;5;241m=\u001b[39m conn \u001b[38;5;28;01mif\u001b[39;00m \u001b[38;5;129;01mnot\u001b[39;00m release_conn \u001b[38;5;28;01melse\u001b[39;00m \u001b[38;5;28;01mNone\u001b[39;00m\n",
      "File \u001b[1;32m~\\anaconda3\\lib\\site-packages\\urllib3\\connectionpool.py:449\u001b[0m, in \u001b[0;36mHTTPConnectionPool._make_request\u001b[1;34m(self, conn, method, url, timeout, chunked, **httplib_request_kw)\u001b[0m\n\u001b[0;32m    444\u001b[0m             httplib_response \u001b[38;5;241m=\u001b[39m conn\u001b[38;5;241m.\u001b[39mgetresponse()\n\u001b[0;32m    445\u001b[0m         \u001b[38;5;28;01mexcept\u001b[39;00m \u001b[38;5;167;01mBaseException\u001b[39;00m \u001b[38;5;28;01mas\u001b[39;00m e:\n\u001b[0;32m    446\u001b[0m             \u001b[38;5;66;03m# Remove the TypeError from the exception chain in\u001b[39;00m\n\u001b[0;32m    447\u001b[0m             \u001b[38;5;66;03m# Python 3 (including for exceptions like SystemExit).\u001b[39;00m\n\u001b[0;32m    448\u001b[0m             \u001b[38;5;66;03m# Otherwise it looks like a bug in the code.\u001b[39;00m\n\u001b[1;32m--> 449\u001b[0m             \u001b[43msix\u001b[49m\u001b[38;5;241;43m.\u001b[39;49m\u001b[43mraise_from\u001b[49m\u001b[43m(\u001b[49m\u001b[43me\u001b[49m\u001b[43m,\u001b[49m\u001b[43m \u001b[49m\u001b[38;5;28;43;01mNone\u001b[39;49;00m\u001b[43m)\u001b[49m\n\u001b[0;32m    450\u001b[0m \u001b[38;5;28;01mexcept\u001b[39;00m (SocketTimeout, BaseSSLError, SocketError) \u001b[38;5;28;01mas\u001b[39;00m e:\n\u001b[0;32m    451\u001b[0m     \u001b[38;5;28mself\u001b[39m\u001b[38;5;241m.\u001b[39m_raise_timeout(err\u001b[38;5;241m=\u001b[39me, url\u001b[38;5;241m=\u001b[39murl, timeout_value\u001b[38;5;241m=\u001b[39mread_timeout)\n",
      "File \u001b[1;32m<string>:3\u001b[0m, in \u001b[0;36mraise_from\u001b[1;34m(value, from_value)\u001b[0m\n",
      "File \u001b[1;32m~\\anaconda3\\lib\\site-packages\\urllib3\\connectionpool.py:444\u001b[0m, in \u001b[0;36mHTTPConnectionPool._make_request\u001b[1;34m(self, conn, method, url, timeout, chunked, **httplib_request_kw)\u001b[0m\n\u001b[0;32m    441\u001b[0m \u001b[38;5;28;01mexcept\u001b[39;00m \u001b[38;5;167;01mTypeError\u001b[39;00m:\n\u001b[0;32m    442\u001b[0m     \u001b[38;5;66;03m# Python 3\u001b[39;00m\n\u001b[0;32m    443\u001b[0m     \u001b[38;5;28;01mtry\u001b[39;00m:\n\u001b[1;32m--> 444\u001b[0m         httplib_response \u001b[38;5;241m=\u001b[39m \u001b[43mconn\u001b[49m\u001b[38;5;241;43m.\u001b[39;49m\u001b[43mgetresponse\u001b[49m\u001b[43m(\u001b[49m\u001b[43m)\u001b[49m\n\u001b[0;32m    445\u001b[0m     \u001b[38;5;28;01mexcept\u001b[39;00m \u001b[38;5;167;01mBaseException\u001b[39;00m \u001b[38;5;28;01mas\u001b[39;00m e:\n\u001b[0;32m    446\u001b[0m         \u001b[38;5;66;03m# Remove the TypeError from the exception chain in\u001b[39;00m\n\u001b[0;32m    447\u001b[0m         \u001b[38;5;66;03m# Python 3 (including for exceptions like SystemExit).\u001b[39;00m\n\u001b[0;32m    448\u001b[0m         \u001b[38;5;66;03m# Otherwise it looks like a bug in the code.\u001b[39;00m\n\u001b[0;32m    449\u001b[0m         six\u001b[38;5;241m.\u001b[39mraise_from(e, \u001b[38;5;28;01mNone\u001b[39;00m)\n",
      "File \u001b[1;32m~\\anaconda3\\lib\\http\\client.py:1377\u001b[0m, in \u001b[0;36mHTTPConnection.getresponse\u001b[1;34m(self)\u001b[0m\n\u001b[0;32m   1375\u001b[0m \u001b[38;5;28;01mtry\u001b[39;00m:\n\u001b[0;32m   1376\u001b[0m     \u001b[38;5;28;01mtry\u001b[39;00m:\n\u001b[1;32m-> 1377\u001b[0m         \u001b[43mresponse\u001b[49m\u001b[38;5;241;43m.\u001b[39;49m\u001b[43mbegin\u001b[49m\u001b[43m(\u001b[49m\u001b[43m)\u001b[49m\n\u001b[0;32m   1378\u001b[0m     \u001b[38;5;28;01mexcept\u001b[39;00m \u001b[38;5;167;01mConnectionError\u001b[39;00m:\n\u001b[0;32m   1379\u001b[0m         \u001b[38;5;28mself\u001b[39m\u001b[38;5;241m.\u001b[39mclose()\n",
      "File \u001b[1;32m~\\anaconda3\\lib\\http\\client.py:320\u001b[0m, in \u001b[0;36mHTTPResponse.begin\u001b[1;34m(self)\u001b[0m\n\u001b[0;32m    318\u001b[0m \u001b[38;5;66;03m# read until we get a non-100 response\u001b[39;00m\n\u001b[0;32m    319\u001b[0m \u001b[38;5;28;01mwhile\u001b[39;00m \u001b[38;5;28;01mTrue\u001b[39;00m:\n\u001b[1;32m--> 320\u001b[0m     version, status, reason \u001b[38;5;241m=\u001b[39m \u001b[38;5;28;43mself\u001b[39;49m\u001b[38;5;241;43m.\u001b[39;49m\u001b[43m_read_status\u001b[49m\u001b[43m(\u001b[49m\u001b[43m)\u001b[49m\n\u001b[0;32m    321\u001b[0m     \u001b[38;5;28;01mif\u001b[39;00m status \u001b[38;5;241m!=\u001b[39m CONTINUE:\n\u001b[0;32m    322\u001b[0m         \u001b[38;5;28;01mbreak\u001b[39;00m\n",
      "File \u001b[1;32m~\\anaconda3\\lib\\http\\client.py:281\u001b[0m, in \u001b[0;36mHTTPResponse._read_status\u001b[1;34m(self)\u001b[0m\n\u001b[0;32m    280\u001b[0m \u001b[38;5;28;01mdef\u001b[39;00m \u001b[38;5;21m_read_status\u001b[39m(\u001b[38;5;28mself\u001b[39m):\n\u001b[1;32m--> 281\u001b[0m     line \u001b[38;5;241m=\u001b[39m \u001b[38;5;28mstr\u001b[39m(\u001b[38;5;28;43mself\u001b[39;49m\u001b[38;5;241;43m.\u001b[39;49m\u001b[43mfp\u001b[49m\u001b[38;5;241;43m.\u001b[39;49m\u001b[43mreadline\u001b[49m\u001b[43m(\u001b[49m\u001b[43m_MAXLINE\u001b[49m\u001b[43m \u001b[49m\u001b[38;5;241;43m+\u001b[39;49m\u001b[43m \u001b[49m\u001b[38;5;241;43m1\u001b[39;49m\u001b[43m)\u001b[49m, \u001b[38;5;124m\"\u001b[39m\u001b[38;5;124miso-8859-1\u001b[39m\u001b[38;5;124m\"\u001b[39m)\n\u001b[0;32m    282\u001b[0m     \u001b[38;5;28;01mif\u001b[39;00m \u001b[38;5;28mlen\u001b[39m(line) \u001b[38;5;241m>\u001b[39m _MAXLINE:\n\u001b[0;32m    283\u001b[0m         \u001b[38;5;28;01mraise\u001b[39;00m LineTooLong(\u001b[38;5;124m\"\u001b[39m\u001b[38;5;124mstatus line\u001b[39m\u001b[38;5;124m\"\u001b[39m)\n",
      "File \u001b[1;32m~\\anaconda3\\lib\\socket.py:704\u001b[0m, in \u001b[0;36mSocketIO.readinto\u001b[1;34m(self, b)\u001b[0m\n\u001b[0;32m    702\u001b[0m \u001b[38;5;28;01mwhile\u001b[39;00m \u001b[38;5;28;01mTrue\u001b[39;00m:\n\u001b[0;32m    703\u001b[0m     \u001b[38;5;28;01mtry\u001b[39;00m:\n\u001b[1;32m--> 704\u001b[0m         \u001b[38;5;28;01mreturn\u001b[39;00m \u001b[38;5;28;43mself\u001b[39;49m\u001b[38;5;241;43m.\u001b[39;49m\u001b[43m_sock\u001b[49m\u001b[38;5;241;43m.\u001b[39;49m\u001b[43mrecv_into\u001b[49m\u001b[43m(\u001b[49m\u001b[43mb\u001b[49m\u001b[43m)\u001b[49m\n\u001b[0;32m    705\u001b[0m     \u001b[38;5;28;01mexcept\u001b[39;00m timeout:\n\u001b[0;32m    706\u001b[0m         \u001b[38;5;28mself\u001b[39m\u001b[38;5;241m.\u001b[39m_timeout_occurred \u001b[38;5;241m=\u001b[39m \u001b[38;5;28;01mTrue\u001b[39;00m\n",
      "\u001b[1;31mKeyboardInterrupt\u001b[0m: "
     ]
    }
   ],
   "source": [
    "# Initialize the page number\n",
    "page = 0\n",
    "\n",
    "# Set up for loop to iterate through all items on the search page\n",
    "for a in tqdm(range(len(d))):\n",
    "    sleep(2)\n",
    "    # get url of link to the item\n",
    "    u = driver.find_element(By.XPATH,f'//*[@id=\"search_resultsRows\"]/a[{a+1}]').get_attribute('href')\n",
    "    \n",
    "    # open link in new tab (to not let the previous page reload)\n",
    "    driver.execute_script(\"window.open('');\")\n",
    "    driver.switch_to.window(driver.window_handles[1])\n",
    "    driver.get(u)\n",
    "    \n",
    "    \n",
    "    # set appropriate age to bypass age restriction\n",
    "    try:\n",
    "        select = Select(driver.find_element(By.ID,'ageYear'))\n",
    "        sleep(2)\n",
    "        select.select_by_index(96)\n",
    "        sleep(1)\n",
    "        driver.find_element(By.XPATH,'//*[@id=\"view_product_page_btn\"]').click()\n",
    "    except:\n",
    "        # no age restriction - proceed to page\n",
    "        try:\n",
    "            sleep(3)\n",
    "            driver.refresh()\n",
    "            name = driver.find_element(By.XPATH,'//*[@id=\"appHubAppName\"]').text\n",
    "        except:\n",
    "            # page unavailable - close page and proceed to next item\n",
    "            sleep(1)\n",
    "            driver.close()\n",
    "            driver.switch_to.window(driver.window_handles[0])\n",
    "            continue\n",
    "    \n",
    "    # scrape data\n",
    "    # name\n",
    "    try:\n",
    "        name = driver.find_element(By.XPATH,'//*[@id=\"appHubAppName\"]').text\n",
    "    except:\n",
    "        name = 'missing'\n",
    "        \n",
    "    # price and discount price of available\n",
    "    try:\n",
    "        price = driver.find_element(By.CLASS_NAME,'game_purchase_price').text\n",
    "        discount_price = 'missing'\n",
    "        if price == '':\n",
    "            try:\n",
    "                price = driver.find_element(By.CLASS_NAME,'discount_original_price').text\n",
    "                discount_price = driver.find_element(By.CLASS_NAME,'discount_final_price').text\n",
    "            except:\n",
    "                price = 'missing'\n",
    "                discount_price = 'missing'\n",
    "    except:\n",
    "        # when there is discount available\n",
    "        try:\n",
    "            price = driver.find_element(By.CLASS_NAME,'discount_original_price').text\n",
    "            discount_price = driver.find_element(By.CLASS_NAME,'discount_final_price').text\n",
    "        except:\n",
    "            price = 'missing'\n",
    "            discount_price = 'missing'\n",
    "                \n",
    "    # release date\n",
    "    try:\n",
    "        release_date = driver.find_element(By.CLASS_NAME,'date').text\n",
    "    except:\n",
    "        release_date = 'missing'\n",
    "        \n",
    "    # review count\n",
    "    try:\n",
    "        review_count = driver.find_element(By.XPATH,'//*[@id=\"userReviews\"]/div[2]/div[2]/span[2]').text\n",
    "    except:\n",
    "        # element in a different div\n",
    "        try:\n",
    "            review_count = driver.find_element(By.XPATH,'//*[@id=\"userReviews\"]/div/div[2]/span[2]').text\n",
    "        except:\n",
    "            review_count = 'missing'\n",
    "      \n",
    "    # review quality\n",
    "    try:\n",
    "        review_quality = driver.find_element(By.XPATH,'//*[@id=\"userReviews\"]/div[2]/div[2]/span[1]').text\n",
    "    except:\n",
    "        # element in a different div\n",
    "        try:\n",
    "            review_quality = driver.find_element(By.XPATH,'//*[@id=\"userReviews\"]/div/div[2]/span[1]').text\n",
    "        except:\n",
    "            review_quality = 'missing'\n",
    "     \n",
    "    # genre: a game can have multiple genres\n",
    "    driver.execute_script(\"window.scrollTo(0, 1000);\")\n",
    "    try:\n",
    "        genre = driver.find_element(By.XPATH,'//*[@id=\"genresAndManufacturer\"]/span').text\n",
    "    except:\n",
    "        genre = 'missing'\n",
    "            \n",
    "    # rating \n",
    "    try:\n",
    "        rating = driver.find_element(By.XPATH,'//*[@id=\"tabletGrid\"]/div[1]/div[5]/div[1]/div[11]/div[2]/div[1]/div[1]/img').get_attribute('src')[-5]\n",
    "    except:\n",
    "        rating = 'missing'\n",
    "    \n",
    "    # developer\n",
    "    try:\n",
    "        developer = driver.find_element(By.XPATH,'//*[@id=\"genresAndManufacturer\"]/div[1]/a').text\n",
    "    except:\n",
    "        developer = 'missing'\n",
    "        \n",
    "    # publisher\n",
    "    try:\n",
    "        publisher = driver.find_element(By.XPATH,'//*[@id=\"genresAndManufacturer\"]/div[2]/a').text\n",
    "    except:\n",
    "        publisher = 'missing'\n",
    "        \n",
    "    # player_support\n",
    "    try:\n",
    "        player_support = driver.find_element(By.XPATH,'//*[@id=\"category_block\"]/div[1]/a[1]/div[2]').text\n",
    "    except:\n",
    "        player_support = 'missing'\n",
    "    \n",
    "    # steam deck support\n",
    "    try:\n",
    "        deck_support = driver.find_element(By.XPATH,'//*[@id=\"tabletGrid\"]/div[1]/div[5]/div[1]/div[10]/div/div[2]/div[1]/span').text\n",
    "    except:\n",
    "        deck_support = 'missing'\n",
    "              \n",
    "        \n",
    "    # append to dict\n",
    "    top1['name'].append(name)\n",
    "    top1['price'].append(price)\n",
    "    top1['discount_price'].append(discount_price)\n",
    "    top1['release_date'].append(release_date)\n",
    "    top1['review_count'].append(review_count)\n",
    "    top1['review_quality'].append(review_quality)\n",
    "    top1['genre'].append(genre)\n",
    "    top1['rating'].append(rating)\n",
    "    top1['developer'].append(developer)\n",
    "    top1['publisher'].append(publisher)\n",
    "    top1['player_support'].append(player_support)\n",
    "    top1['deck_support'].append(deck_support)\n",
    "    \n",
    "        \n",
    "    # go back to previous page\n",
    "    sleep(1)\n",
    "    driver.close()\n",
    "    driver.switch_to.window(driver.window_handles[0])\n",
    "    \n",
    "    # page count\n",
    "    page += 1\n",
    "    \n",
    "    # save to csv every 50 pages\n",
    "    if page % 50 == 0:\n",
    "        # scroll down to batch\n",
    "        driver.execute_script('window.scrollTo(0,document.body.scrollHeight);')\n",
    "        # save data to dataframe\n",
    "        df = pd.DataFrame(top1)\n",
    "        df.to_csv('games.csv',index=False,mode='a',header=False)\n",
    "        # initialize dictionary for next iteration\n",
    "        top1 = {'name':[],\n",
    "                'price':[],\n",
    "                'discount_price':[],\n",
    "                'release_date':[],\n",
    "                'review_count':[],\n",
    "                'review_quality':[],\n",
    "                'genre': [],\n",
    "                'rating':[],\n",
    "                'developer':[],\n",
    "                'publisher':[],\n",
    "                'player_support':[],\n",
    "                'deck_support': []\n",
    "                 }\n",
    "        \n",
    "    # for last few pages\n",
    "    if page == len(d):\n",
    "        # save to dataframe\n",
    "        df = pd.DataFrame(top1)\n",
    "        df.to_csv('games.csv',index=False,mode='a',header=False)"
   ]
  },
  {
   "cell_type": "code",
   "execution_count": 133,
   "id": "7aa99063",
   "metadata": {
    "collapsed": true
   },
   "outputs": [
    {
     "data": {
      "text/plain": [
       "{'name': ['ENDLESS™ Space 2 - Original Soundtrack',\n",
       "  'Nancy Drew®: The Haunting of Castle Malloy',\n",
       "  'Caravaneer 2',\n",
       "  'Music for The Long Dark -- Volume Two',\n",
       "  'Outlaws + A Handful of Missions',\n",
       "  'Big Pharma',\n",
       "  'Frontline: The Great Patriotic War'],\n",
       " 'price': ['CDN$ 7.70',\n",
       "  'CDN$ 7.99',\n",
       "  'CDN$ 6.69',\n",
       "  'CDN$ 8.99',\n",
       "  'CDN$ 6.69',\n",
       "  'CDN$ 28.99',\n",
       "  'CDN$ 6.69'],\n",
       " 'discount_price': ['CDN$ 3.85',\n",
       "  'missing',\n",
       "  'missing',\n",
       "  'missing',\n",
       "  'missing',\n",
       "  'missing',\n",
       "  'CDN$ 2.67'],\n",
       " 'release_date': ['3 Jul, 2020',\n",
       "  '1 Mar, 2009',\n",
       "  '7 Dec, 2014',\n",
       "  '19 May, 2020',\n",
       "  '31 Mar, 1997',\n",
       "  '27 Aug, 2015',\n",
       "  '20 Dec, 2019'],\n",
       " 'review_count': ['', '(120)', '(293)', '(20)', '(435)', '(1,310)', '(19)'],\n",
       " 'review_quality': ['4 user reviews',\n",
       "  'Very Positive',\n",
       "  'Very Positive',\n",
       "  'Positive',\n",
       "  'Very Positive',\n",
       "  'Mostly Positive',\n",
       "  'Positive'],\n",
       " 'genre': ['Strategy',\n",
       "  'Adventure',\n",
       "  'Indie, RPG, Simulation, Strategy',\n",
       "  'missing',\n",
       "  'Action',\n",
       "  'Indie, Simulation, Strategy',\n",
       "  'Action, Adventure, Casual, Indie, Simulation, Strategy'],\n",
       " 'rating': ['missing',\n",
       "  'e',\n",
       "  'missing',\n",
       "  'missing',\n",
       "  'missing',\n",
       "  'missing',\n",
       "  'missing'],\n",
       " 'developer': ['AMPLITUDE Studios',\n",
       "  'HeR Interactive',\n",
       "  'Dmitry Zheltobriukhov',\n",
       "  'Hinterland Studio Inc.',\n",
       "  'LucasArts',\n",
       "  'Twice Circled',\n",
       "  'Frontline: Games Series'],\n",
       " 'publisher': ['SEGA',\n",
       "  'HeR Interactive',\n",
       "  'Dmitry Zheltobriukhov',\n",
       "  'Hinterland Studio',\n",
       "  'Lucasfilm',\n",
       "  'Positech Games',\n",
       "  'Frontline: Games Series'],\n",
       " 'player_support': ['missing',\n",
       "  'Single-player',\n",
       "  'Single-player',\n",
       "  'missing',\n",
       "  'Single-player',\n",
       "  'Single-player',\n",
       "  'Single-player'],\n",
       " 'deck_support': ['missing',\n",
       "  'Unsupported',\n",
       "  'Playable',\n",
       "  'missing',\n",
       "  'missing',\n",
       "  'missing',\n",
       "  'missing']}"
      ]
     },
     "execution_count": 133,
     "metadata": {},
     "output_type": "execute_result"
    }
   ],
   "source": [
    "# test: check dictionary\n",
    "top1"
   ]
  },
  {
   "cell_type": "code",
   "execution_count": 134,
   "id": "b075a8f3",
   "metadata": {},
   "outputs": [],
   "source": [
    "# test: check data frame\n",
    "df = pd.DataFrame(top1)"
   ]
  },
  {
   "cell_type": "code",
   "execution_count": 135,
   "id": "957c441c",
   "metadata": {},
   "outputs": [],
   "source": [
    "# test: check csv generated\n",
    "df.to_csv('games.csv',index=False,mode='a',header=False)"
   ]
  },
  {
   "cell_type": "markdown",
   "id": "6fe0fc6f",
   "metadata": {},
   "source": [
    "### 3.4 Reading csv Into Pandas DataFrame"
   ]
  },
  {
   "cell_type": "code",
   "execution_count": 138,
   "id": "fe58fd79",
   "metadata": {
    "scrolled": true
   },
   "outputs": [],
   "source": [
    "# re-assign headings\n",
    "games = pd.read_csv('games.csv',names=['name','price','discount_price','release_date','review_count','review_quality','genre','rating','dev','publisher','player_sup','deck_sup'])"
   ]
  },
  {
   "cell_type": "code",
   "execution_count": 191,
   "id": "7253f04b",
   "metadata": {
    "collapsed": true
   },
   "outputs": [
    {
     "data": {
      "text/html": [
       "<div>\n",
       "<style scoped>\n",
       "    .dataframe tbody tr th:only-of-type {\n",
       "        vertical-align: middle;\n",
       "    }\n",
       "\n",
       "    .dataframe tbody tr th {\n",
       "        vertical-align: top;\n",
       "    }\n",
       "\n",
       "    .dataframe thead th {\n",
       "        text-align: right;\n",
       "    }\n",
       "</style>\n",
       "<table border=\"1\" class=\"dataframe\">\n",
       "  <thead>\n",
       "    <tr style=\"text-align: right;\">\n",
       "      <th></th>\n",
       "      <th>name</th>\n",
       "      <th>price</th>\n",
       "      <th>discount_price</th>\n",
       "      <th>release_date</th>\n",
       "      <th>review_count</th>\n",
       "      <th>review_quality</th>\n",
       "      <th>genre</th>\n",
       "      <th>rating</th>\n",
       "      <th>dev</th>\n",
       "      <th>publisher</th>\n",
       "      <th>player_sup</th>\n",
       "      <th>deck_sup</th>\n",
       "    </tr>\n",
       "  </thead>\n",
       "  <tbody>\n",
       "    <tr>\n",
       "      <th>0</th>\n",
       "      <td>Counter-Strike: Global Offensive</td>\n",
       "      <td>Free to Play</td>\n",
       "      <td>missing</td>\n",
       "      <td>21 Aug, 2012</td>\n",
       "      <td>(6,685,816)</td>\n",
       "      <td>Very Positive</td>\n",
       "      <td>Action, Free to Play</td>\n",
       "      <td>missing</td>\n",
       "      <td>Valve</td>\n",
       "      <td>Valve</td>\n",
       "      <td>Steam Achievements</td>\n",
       "      <td>Playable</td>\n",
       "    </tr>\n",
       "    <tr>\n",
       "      <th>1</th>\n",
       "      <td>EA SPORTS™ FIFA 23</td>\n",
       "      <td>CDN$ 89.99</td>\n",
       "      <td>missing</td>\n",
       "      <td>29 Sep, 2022</td>\n",
       "      <td>(11,982)</td>\n",
       "      <td>Mostly Negative</td>\n",
       "      <td>Simulation, Sports</td>\n",
       "      <td>e</td>\n",
       "      <td>EA Canada &amp; EA Romania</td>\n",
       "      <td>Electronic Arts</td>\n",
       "      <td>Single-player</td>\n",
       "      <td>Unsupported</td>\n",
       "    </tr>\n",
       "    <tr>\n",
       "      <th>2</th>\n",
       "      <td>Lost Ark</td>\n",
       "      <td>Free To Play</td>\n",
       "      <td>missing</td>\n",
       "      <td>11 Feb, 2022</td>\n",
       "      <td>(173,200)</td>\n",
       "      <td>Mostly Positive</td>\n",
       "      <td>Action, Adventure, Free to Play, Massively Mul...</td>\n",
       "      <td>m</td>\n",
       "      <td>Smilegate RPG</td>\n",
       "      <td>Amazon Games</td>\n",
       "      <td>Single-player</td>\n",
       "      <td>Unsupported</td>\n",
       "    </tr>\n",
       "    <tr>\n",
       "      <th>3</th>\n",
       "      <td>Apex Legends™</td>\n",
       "      <td>Free to Play</td>\n",
       "      <td>missing</td>\n",
       "      <td>4 Nov, 2020</td>\n",
       "      <td>(518,577)</td>\n",
       "      <td>Very Positive</td>\n",
       "      <td>Action, Adventure, Free to Play</td>\n",
       "      <td>t</td>\n",
       "      <td>Respawn Entertainment</td>\n",
       "      <td>Electronic Arts</td>\n",
       "      <td>Online PvP</td>\n",
       "      <td>Verified</td>\n",
       "    </tr>\n",
       "    <tr>\n",
       "      <th>4</th>\n",
       "      <td>Cyberpunk 2077</td>\n",
       "      <td>CDN$ 79.99</td>\n",
       "      <td>missing</td>\n",
       "      <td>9 Dec, 2020</td>\n",
       "      <td>(419,833)</td>\n",
       "      <td>Mostly Positive</td>\n",
       "      <td>RPG</td>\n",
       "      <td>m</td>\n",
       "      <td>CD PROJEKT RED</td>\n",
       "      <td>CD PROJEKT RED</td>\n",
       "      <td>Single-player</td>\n",
       "      <td>Playable</td>\n",
       "    </tr>\n",
       "  </tbody>\n",
       "</table>\n",
       "</div>"
      ],
      "text/plain": [
       "                               name         price discount_price  \\\n",
       "0  Counter-Strike: Global Offensive  Free to Play        missing   \n",
       "1                EA SPORTS™ FIFA 23    CDN$ 89.99        missing   \n",
       "2                          Lost Ark  Free To Play        missing   \n",
       "3                     Apex Legends™  Free to Play        missing   \n",
       "4                    Cyberpunk 2077    CDN$ 79.99        missing   \n",
       "\n",
       "   release_date review_count   review_quality  \\\n",
       "0  21 Aug, 2012  (6,685,816)    Very Positive   \n",
       "1  29 Sep, 2022     (11,982)  Mostly Negative   \n",
       "2  11 Feb, 2022    (173,200)  Mostly Positive   \n",
       "3   4 Nov, 2020    (518,577)    Very Positive   \n",
       "4   9 Dec, 2020    (419,833)  Mostly Positive   \n",
       "\n",
       "                                               genre   rating  \\\n",
       "0                               Action, Free to Play  missing   \n",
       "1                                 Simulation, Sports        e   \n",
       "2  Action, Adventure, Free to Play, Massively Mul...        m   \n",
       "3                    Action, Adventure, Free to Play        t   \n",
       "4                                                RPG        m   \n",
       "\n",
       "                      dev        publisher          player_sup     deck_sup  \n",
       "0                   Valve            Valve  Steam Achievements     Playable  \n",
       "1  EA Canada & EA Romania  Electronic Arts       Single-player  Unsupported  \n",
       "2           Smilegate RPG     Amazon Games       Single-player  Unsupported  \n",
       "3   Respawn Entertainment  Electronic Arts          Online PvP     Verified  \n",
       "4          CD PROJEKT RED   CD PROJEKT RED       Single-player     Playable  "
      ]
     },
     "execution_count": 191,
     "metadata": {},
     "output_type": "execute_result"
    }
   ],
   "source": [
    "games.head()"
   ]
  },
  {
   "cell_type": "code",
   "execution_count": 192,
   "id": "56457586",
   "metadata": {
    "collapsed": true
   },
   "outputs": [
    {
     "name": "stdout",
     "output_type": "stream",
     "text": [
      "<class 'pandas.core.frame.DataFrame'>\n",
      "RangeIndex: 5008 entries, 0 to 5007\n",
      "Data columns (total 12 columns):\n",
      " #   Column          Non-Null Count  Dtype \n",
      "---  ------          --------------  ----- \n",
      " 0   name            5008 non-null   object\n",
      " 1   price           5005 non-null   object\n",
      " 2   discount_price  5008 non-null   object\n",
      " 3   release_date    5008 non-null   object\n",
      " 4   review_count    4787 non-null   object\n",
      " 5   review_quality  5008 non-null   object\n",
      " 6   genre           5008 non-null   object\n",
      " 7   rating          5008 non-null   object\n",
      " 8   dev             5008 non-null   object\n",
      " 9   publisher       5008 non-null   object\n",
      " 10  player_sup      5008 non-null   object\n",
      " 11  deck_sup        5008 non-null   object\n",
      "dtypes: object(12)\n",
      "memory usage: 469.6+ KB\n"
     ]
    }
   ],
   "source": [
    "games.info()"
   ]
  },
  {
   "cell_type": "markdown",
   "id": "e60685c8",
   "metadata": {},
   "source": [
    "## 4. Data Cleanup"
   ]
  },
  {
   "cell_type": "markdown",
   "id": "0143c3e5",
   "metadata": {},
   "source": [
    "### 4.1 Convert `str` type to `int` in `review_counts` column"
   ]
  },
  {
   "cell_type": "code",
   "execution_count": 224,
   "id": "d4a16691",
   "metadata": {},
   "outputs": [],
   "source": [
    "# make a copy of original data frame\n",
    "games_cp = games.copy()"
   ]
  },
  {
   "cell_type": "code",
   "execution_count": 239,
   "id": "79ef1f5b",
   "metadata": {},
   "outputs": [],
   "source": [
    "# define function to remove '()' from string in review counts\n",
    "def replace_s(s):\n",
    "    try:\n",
    "        if s[0] == '(' and s[-1] == ')':\n",
    "            s=s.replace('(','')\n",
    "            s=s.replace(')','')\n",
    "            return s\n",
    "        if s == 'missing':\n",
    "            return '0'\n",
    "    except:\n",
    "        # for NaN values in the column\n",
    "        return 0"
   ]
  },
  {
   "cell_type": "code",
   "execution_count": 256,
   "id": "b9d04f57",
   "metadata": {},
   "outputs": [],
   "source": [
    "# define function to remove ',' from string in review counts\n",
    "def convert_s(s):\n",
    "    try:\n",
    "        s=s.replace(',','')\n",
    "        return s\n",
    "    except:\n",
    "        # for NaN values in the column\n",
    "        return 0"
   ]
  },
  {
   "cell_type": "code",
   "execution_count": 240,
   "id": "5ecf6d71",
   "metadata": {},
   "outputs": [],
   "source": [
    "# remove '()' from review_counts\n",
    "games_cp['review_count'] = games_cp['review_count'].apply(replace_s)"
   ]
  },
  {
   "cell_type": "code",
   "execution_count": 241,
   "id": "94a6fc22",
   "metadata": {
    "collapsed": true
   },
   "outputs": [
    {
     "data": {
      "text/plain": [
       "0       6,685,816\n",
       "1          11,982\n",
       "2         173,200\n",
       "3         518,577\n",
       "4         419,833\n",
       "          ...    \n",
       "5003          293\n",
       "5004           20\n",
       "5005          435\n",
       "5006        1,310\n",
       "5007           19\n",
       "Name: review_count, Length: 5008, dtype: object"
      ]
     },
     "execution_count": 241,
     "metadata": {},
     "output_type": "execute_result"
    }
   ],
   "source": [
    "games_cp['review_count']"
   ]
  },
  {
   "cell_type": "code",
   "execution_count": 258,
   "id": "92a7d94c",
   "metadata": {},
   "outputs": [],
   "source": [
    "# remove ',' from review_counts\n",
    "games_cp['review_count'] = games_cp['review_count'].apply(convert_s)"
   ]
  },
  {
   "cell_type": "code",
   "execution_count": 261,
   "id": "57b37453",
   "metadata": {},
   "outputs": [],
   "source": [
    "# convert review counts into integer values\n",
    "games_cp['review_count'] = pd.to_numeric(games_cp['review_count'])"
   ]
  },
  {
   "cell_type": "code",
   "execution_count": 262,
   "id": "23aa40b8",
   "metadata": {
    "collapsed": true
   },
   "outputs": [
    {
     "data": {
      "text/html": [
       "<div>\n",
       "<style scoped>\n",
       "    .dataframe tbody tr th:only-of-type {\n",
       "        vertical-align: middle;\n",
       "    }\n",
       "\n",
       "    .dataframe tbody tr th {\n",
       "        vertical-align: top;\n",
       "    }\n",
       "\n",
       "    .dataframe thead th {\n",
       "        text-align: right;\n",
       "    }\n",
       "</style>\n",
       "<table border=\"1\" class=\"dataframe\">\n",
       "  <thead>\n",
       "    <tr style=\"text-align: right;\">\n",
       "      <th></th>\n",
       "      <th>name</th>\n",
       "      <th>price</th>\n",
       "      <th>discount_price</th>\n",
       "      <th>release_date</th>\n",
       "      <th>review_count</th>\n",
       "      <th>review_quality</th>\n",
       "      <th>genre</th>\n",
       "      <th>rating</th>\n",
       "      <th>dev</th>\n",
       "      <th>publisher</th>\n",
       "      <th>player_sup</th>\n",
       "      <th>deck_sup</th>\n",
       "    </tr>\n",
       "  </thead>\n",
       "  <tbody>\n",
       "    <tr>\n",
       "      <th>0</th>\n",
       "      <td>Counter-Strike: Global Offensive</td>\n",
       "      <td>Free to Play</td>\n",
       "      <td>missing</td>\n",
       "      <td>21 Aug, 2012</td>\n",
       "      <td>6685816</td>\n",
       "      <td>Very Positive</td>\n",
       "      <td>Action, Free to Play</td>\n",
       "      <td>missing</td>\n",
       "      <td>Valve</td>\n",
       "      <td>Valve</td>\n",
       "      <td>Steam Achievements</td>\n",
       "      <td>Playable</td>\n",
       "    </tr>\n",
       "    <tr>\n",
       "      <th>1</th>\n",
       "      <td>EA SPORTS™ FIFA 23</td>\n",
       "      <td>CDN$ 89.99</td>\n",
       "      <td>missing</td>\n",
       "      <td>29 Sep, 2022</td>\n",
       "      <td>11982</td>\n",
       "      <td>Mostly Negative</td>\n",
       "      <td>Simulation, Sports</td>\n",
       "      <td>e</td>\n",
       "      <td>EA Canada &amp; EA Romania</td>\n",
       "      <td>Electronic Arts</td>\n",
       "      <td>Single-player</td>\n",
       "      <td>Unsupported</td>\n",
       "    </tr>\n",
       "    <tr>\n",
       "      <th>2</th>\n",
       "      <td>Lost Ark</td>\n",
       "      <td>Free To Play</td>\n",
       "      <td>missing</td>\n",
       "      <td>11 Feb, 2022</td>\n",
       "      <td>173200</td>\n",
       "      <td>Mostly Positive</td>\n",
       "      <td>Action, Adventure, Free to Play, Massively Mul...</td>\n",
       "      <td>m</td>\n",
       "      <td>Smilegate RPG</td>\n",
       "      <td>Amazon Games</td>\n",
       "      <td>Single-player</td>\n",
       "      <td>Unsupported</td>\n",
       "    </tr>\n",
       "    <tr>\n",
       "      <th>3</th>\n",
       "      <td>Apex Legends™</td>\n",
       "      <td>Free to Play</td>\n",
       "      <td>missing</td>\n",
       "      <td>4 Nov, 2020</td>\n",
       "      <td>518577</td>\n",
       "      <td>Very Positive</td>\n",
       "      <td>Action, Adventure, Free to Play</td>\n",
       "      <td>t</td>\n",
       "      <td>Respawn Entertainment</td>\n",
       "      <td>Electronic Arts</td>\n",
       "      <td>Online PvP</td>\n",
       "      <td>Verified</td>\n",
       "    </tr>\n",
       "    <tr>\n",
       "      <th>4</th>\n",
       "      <td>Cyberpunk 2077</td>\n",
       "      <td>CDN$ 79.99</td>\n",
       "      <td>missing</td>\n",
       "      <td>9 Dec, 2020</td>\n",
       "      <td>419833</td>\n",
       "      <td>Mostly Positive</td>\n",
       "      <td>RPG</td>\n",
       "      <td>m</td>\n",
       "      <td>CD PROJEKT RED</td>\n",
       "      <td>CD PROJEKT RED</td>\n",
       "      <td>Single-player</td>\n",
       "      <td>Playable</td>\n",
       "    </tr>\n",
       "    <tr>\n",
       "      <th>...</th>\n",
       "      <td>...</td>\n",
       "      <td>...</td>\n",
       "      <td>...</td>\n",
       "      <td>...</td>\n",
       "      <td>...</td>\n",
       "      <td>...</td>\n",
       "      <td>...</td>\n",
       "      <td>...</td>\n",
       "      <td>...</td>\n",
       "      <td>...</td>\n",
       "      <td>...</td>\n",
       "      <td>...</td>\n",
       "    </tr>\n",
       "    <tr>\n",
       "      <th>5003</th>\n",
       "      <td>Caravaneer 2</td>\n",
       "      <td>CDN$ 6.69</td>\n",
       "      <td>missing</td>\n",
       "      <td>7 Dec, 2014</td>\n",
       "      <td>293</td>\n",
       "      <td>Very Positive</td>\n",
       "      <td>Indie, RPG, Simulation, Strategy</td>\n",
       "      <td>missing</td>\n",
       "      <td>Dmitry Zheltobriukhov</td>\n",
       "      <td>Dmitry Zheltobriukhov</td>\n",
       "      <td>Single-player</td>\n",
       "      <td>Playable</td>\n",
       "    </tr>\n",
       "    <tr>\n",
       "      <th>5004</th>\n",
       "      <td>Music for The Long Dark -- Volume Two</td>\n",
       "      <td>CDN$ 8.99</td>\n",
       "      <td>missing</td>\n",
       "      <td>19 May, 2020</td>\n",
       "      <td>20</td>\n",
       "      <td>Positive</td>\n",
       "      <td>missing</td>\n",
       "      <td>missing</td>\n",
       "      <td>Hinterland Studio Inc.</td>\n",
       "      <td>Hinterland Studio</td>\n",
       "      <td>missing</td>\n",
       "      <td>missing</td>\n",
       "    </tr>\n",
       "    <tr>\n",
       "      <th>5005</th>\n",
       "      <td>Outlaws + A Handful of Missions</td>\n",
       "      <td>CDN$ 6.69</td>\n",
       "      <td>missing</td>\n",
       "      <td>31 Mar, 1997</td>\n",
       "      <td>435</td>\n",
       "      <td>Very Positive</td>\n",
       "      <td>Action</td>\n",
       "      <td>missing</td>\n",
       "      <td>LucasArts</td>\n",
       "      <td>Lucasfilm</td>\n",
       "      <td>Single-player</td>\n",
       "      <td>missing</td>\n",
       "    </tr>\n",
       "    <tr>\n",
       "      <th>5006</th>\n",
       "      <td>Big Pharma</td>\n",
       "      <td>CDN$ 28.99</td>\n",
       "      <td>missing</td>\n",
       "      <td>27 Aug, 2015</td>\n",
       "      <td>1310</td>\n",
       "      <td>Mostly Positive</td>\n",
       "      <td>Indie, Simulation, Strategy</td>\n",
       "      <td>missing</td>\n",
       "      <td>Twice Circled</td>\n",
       "      <td>Positech Games</td>\n",
       "      <td>Single-player</td>\n",
       "      <td>missing</td>\n",
       "    </tr>\n",
       "    <tr>\n",
       "      <th>5007</th>\n",
       "      <td>Frontline: The Great Patriotic War</td>\n",
       "      <td>CDN$ 6.69</td>\n",
       "      <td>CDN$ 2.67</td>\n",
       "      <td>20 Dec, 2019</td>\n",
       "      <td>19</td>\n",
       "      <td>Positive</td>\n",
       "      <td>Action, Adventure, Casual, Indie, Simulation, ...</td>\n",
       "      <td>missing</td>\n",
       "      <td>Frontline: Games Series</td>\n",
       "      <td>Frontline: Games Series</td>\n",
       "      <td>Single-player</td>\n",
       "      <td>missing</td>\n",
       "    </tr>\n",
       "  </tbody>\n",
       "</table>\n",
       "<p>5008 rows × 12 columns</p>\n",
       "</div>"
      ],
      "text/plain": [
       "                                       name         price discount_price  \\\n",
       "0          Counter-Strike: Global Offensive  Free to Play        missing   \n",
       "1                        EA SPORTS™ FIFA 23    CDN$ 89.99        missing   \n",
       "2                                  Lost Ark  Free To Play        missing   \n",
       "3                             Apex Legends™  Free to Play        missing   \n",
       "4                            Cyberpunk 2077    CDN$ 79.99        missing   \n",
       "...                                     ...           ...            ...   \n",
       "5003                           Caravaneer 2     CDN$ 6.69        missing   \n",
       "5004  Music for The Long Dark -- Volume Two     CDN$ 8.99        missing   \n",
       "5005        Outlaws + A Handful of Missions     CDN$ 6.69        missing   \n",
       "5006                             Big Pharma    CDN$ 28.99        missing   \n",
       "5007     Frontline: The Great Patriotic War     CDN$ 6.69      CDN$ 2.67   \n",
       "\n",
       "      release_date  review_count   review_quality  \\\n",
       "0     21 Aug, 2012       6685816    Very Positive   \n",
       "1     29 Sep, 2022         11982  Mostly Negative   \n",
       "2     11 Feb, 2022        173200  Mostly Positive   \n",
       "3      4 Nov, 2020        518577    Very Positive   \n",
       "4      9 Dec, 2020        419833  Mostly Positive   \n",
       "...            ...           ...              ...   \n",
       "5003   7 Dec, 2014           293    Very Positive   \n",
       "5004  19 May, 2020            20         Positive   \n",
       "5005  31 Mar, 1997           435    Very Positive   \n",
       "5006  27 Aug, 2015          1310  Mostly Positive   \n",
       "5007  20 Dec, 2019            19         Positive   \n",
       "\n",
       "                                                  genre   rating  \\\n",
       "0                                  Action, Free to Play  missing   \n",
       "1                                    Simulation, Sports        e   \n",
       "2     Action, Adventure, Free to Play, Massively Mul...        m   \n",
       "3                       Action, Adventure, Free to Play        t   \n",
       "4                                                   RPG        m   \n",
       "...                                                 ...      ...   \n",
       "5003                   Indie, RPG, Simulation, Strategy  missing   \n",
       "5004                                            missing  missing   \n",
       "5005                                             Action  missing   \n",
       "5006                        Indie, Simulation, Strategy  missing   \n",
       "5007  Action, Adventure, Casual, Indie, Simulation, ...  missing   \n",
       "\n",
       "                          dev                publisher          player_sup  \\\n",
       "0                       Valve                    Valve  Steam Achievements   \n",
       "1      EA Canada & EA Romania          Electronic Arts       Single-player   \n",
       "2               Smilegate RPG             Amazon Games       Single-player   \n",
       "3       Respawn Entertainment          Electronic Arts          Online PvP   \n",
       "4              CD PROJEKT RED           CD PROJEKT RED       Single-player   \n",
       "...                       ...                      ...                 ...   \n",
       "5003    Dmitry Zheltobriukhov    Dmitry Zheltobriukhov       Single-player   \n",
       "5004   Hinterland Studio Inc.        Hinterland Studio             missing   \n",
       "5005                LucasArts                Lucasfilm       Single-player   \n",
       "5006            Twice Circled           Positech Games       Single-player   \n",
       "5007  Frontline: Games Series  Frontline: Games Series       Single-player   \n",
       "\n",
       "         deck_sup  \n",
       "0        Playable  \n",
       "1     Unsupported  \n",
       "2     Unsupported  \n",
       "3        Verified  \n",
       "4        Playable  \n",
       "...           ...  \n",
       "5003     Playable  \n",
       "5004      missing  \n",
       "5005      missing  \n",
       "5006      missing  \n",
       "5007      missing  \n",
       "\n",
       "[5008 rows x 12 columns]"
      ]
     },
     "execution_count": 262,
     "metadata": {},
     "output_type": "execute_result"
    }
   ],
   "source": [
    "games_cp"
   ]
  },
  {
   "cell_type": "code",
   "execution_count": 265,
   "id": "08461db8",
   "metadata": {
    "collapsed": true
   },
   "outputs": [
    {
     "name": "stdout",
     "output_type": "stream",
     "text": [
      "<class 'pandas.core.frame.DataFrame'>\n",
      "RangeIndex: 5008 entries, 0 to 5007\n",
      "Data columns (total 12 columns):\n",
      " #   Column          Non-Null Count  Dtype \n",
      "---  ------          --------------  ----- \n",
      " 0   name            5008 non-null   object\n",
      " 1   price           5005 non-null   object\n",
      " 2   discount_price  5008 non-null   object\n",
      " 3   release_date    5008 non-null   object\n",
      " 4   review_count    5008 non-null   int64 \n",
      " 5   review_quality  5008 non-null   object\n",
      " 6   genre           5008 non-null   object\n",
      " 7   rating          5008 non-null   object\n",
      " 8   dev             5008 non-null   object\n",
      " 9   publisher       5008 non-null   object\n",
      " 10  player_sup      5008 non-null   object\n",
      " 11  deck_sup        5008 non-null   object\n",
      "dtypes: int64(1), object(11)\n",
      "memory usage: 469.6+ KB\n"
     ]
    }
   ],
   "source": [
    "games_cp.info()"
   ]
  },
  {
   "cell_type": "code",
   "execution_count": 272,
   "id": "c9d26871",
   "metadata": {
    "collapsed": true
   },
   "outputs": [
    {
     "data": {
      "text/html": [
       "<div>\n",
       "<style scoped>\n",
       "    .dataframe tbody tr th:only-of-type {\n",
       "        vertical-align: middle;\n",
       "    }\n",
       "\n",
       "    .dataframe tbody tr th {\n",
       "        vertical-align: top;\n",
       "    }\n",
       "\n",
       "    .dataframe thead th {\n",
       "        text-align: right;\n",
       "    }\n",
       "</style>\n",
       "<table border=\"1\" class=\"dataframe\">\n",
       "  <thead>\n",
       "    <tr style=\"text-align: right;\">\n",
       "      <th></th>\n",
       "      <th>name</th>\n",
       "      <th>price</th>\n",
       "      <th>discount_price</th>\n",
       "      <th>release_date</th>\n",
       "      <th>review_count</th>\n",
       "      <th>review_quality</th>\n",
       "      <th>genre</th>\n",
       "      <th>rating</th>\n",
       "      <th>dev</th>\n",
       "      <th>publisher</th>\n",
       "      <th>player_sup</th>\n",
       "      <th>deck_sup</th>\n",
       "    </tr>\n",
       "  </thead>\n",
       "  <tbody>\n",
       "    <tr>\n",
       "      <th>799</th>\n",
       "      <td>HITMAN 3 Access Pass: HITMAN 2 Standard</td>\n",
       "      <td>CDN$ 49.99</td>\n",
       "      <td>missing</td>\n",
       "      <td>20 Jan, 2022</td>\n",
       "      <td>0</td>\n",
       "      <td>5 user reviews</td>\n",
       "      <td>Action, Adventure</td>\n",
       "      <td>missing</td>\n",
       "      <td>IO Interactive A/S</td>\n",
       "      <td>IO Interactive A/S</td>\n",
       "      <td>Single-player</td>\n",
       "      <td>missing</td>\n",
       "    </tr>\n",
       "    <tr>\n",
       "      <th>876</th>\n",
       "      <td>ELEX II Soundtrack</td>\n",
       "      <td>CDN$ 4.99</td>\n",
       "      <td>CDN$ 2.49</td>\n",
       "      <td>1 Mar, 2022</td>\n",
       "      <td>0</td>\n",
       "      <td>3 user reviews</td>\n",
       "      <td>missing</td>\n",
       "      <td>missing</td>\n",
       "      <td>Piranha Bytes</td>\n",
       "      <td>THQ Nordic</td>\n",
       "      <td>missing</td>\n",
       "      <td>missing</td>\n",
       "    </tr>\n",
       "    <tr>\n",
       "      <th>908</th>\n",
       "      <td>Warframe: Revenant Prime Access - Accessories ...</td>\n",
       "      <td>CDN$ 51.99</td>\n",
       "      <td>missing</td>\n",
       "      <td>5 Oct, 2022</td>\n",
       "      <td>0</td>\n",
       "      <td>5 user reviews</td>\n",
       "      <td>Action, Free to Play, RPG</td>\n",
       "      <td>missing</td>\n",
       "      <td>Digital Extremes</td>\n",
       "      <td>missing</td>\n",
       "      <td>Single-player</td>\n",
       "      <td>missing</td>\n",
       "    </tr>\n",
       "    <tr>\n",
       "      <th>1050</th>\n",
       "      <td>Dome Keeper Soundtrack</td>\n",
       "      <td>CDN$ 5.49</td>\n",
       "      <td>missing</td>\n",
       "      <td>27 Sep, 2022</td>\n",
       "      <td>0</td>\n",
       "      <td>3 user reviews</td>\n",
       "      <td>missing</td>\n",
       "      <td>missing</td>\n",
       "      <td>Bippinbits</td>\n",
       "      <td>Raw Fury</td>\n",
       "      <td>missing</td>\n",
       "      <td>missing</td>\n",
       "    </tr>\n",
       "    <tr>\n",
       "      <th>1122</th>\n",
       "      <td>FOR HONOR™ - Year 6 Season 3 Battle Bundle</td>\n",
       "      <td>CDN$ 34.99</td>\n",
       "      <td>missing</td>\n",
       "      <td>15 Sep, 2022</td>\n",
       "      <td>0</td>\n",
       "      <td>1 user reviews</td>\n",
       "      <td>Action</td>\n",
       "      <td>missing</td>\n",
       "      <td>Ubisoft Montreal</td>\n",
       "      <td>Ubisoft</td>\n",
       "      <td>Single-player</td>\n",
       "      <td>missing</td>\n",
       "    </tr>\n",
       "    <tr>\n",
       "      <th>...</th>\n",
       "      <td>...</td>\n",
       "      <td>...</td>\n",
       "      <td>...</td>\n",
       "      <td>...</td>\n",
       "      <td>...</td>\n",
       "      <td>...</td>\n",
       "      <td>...</td>\n",
       "      <td>...</td>\n",
       "      <td>...</td>\n",
       "      <td>...</td>\n",
       "      <td>...</td>\n",
       "      <td>...</td>\n",
       "    </tr>\n",
       "    <tr>\n",
       "      <th>4983</th>\n",
       "      <td>Beat Saber - Tokyo Machine – \"ROCK IT\"</td>\n",
       "      <td>CDN$ 2.29</td>\n",
       "      <td>missing</td>\n",
       "      <td>7 Nov, 2019</td>\n",
       "      <td>0</td>\n",
       "      <td>8 user reviews</td>\n",
       "      <td>Indie</td>\n",
       "      <td>missing</td>\n",
       "      <td>Beat Games</td>\n",
       "      <td>missing</td>\n",
       "      <td>Single-player</td>\n",
       "      <td>missing</td>\n",
       "    </tr>\n",
       "    <tr>\n",
       "      <th>4985</th>\n",
       "      <td>Beat Saber - Slushii &amp; Dion Timmer – \"Test Me\"</td>\n",
       "      <td>CDN$ 2.29</td>\n",
       "      <td>missing</td>\n",
       "      <td>7 Nov, 2019</td>\n",
       "      <td>0</td>\n",
       "      <td>8 user reviews</td>\n",
       "      <td>Indie</td>\n",
       "      <td>missing</td>\n",
       "      <td>Beat Games</td>\n",
       "      <td>missing</td>\n",
       "      <td>Single-player</td>\n",
       "      <td>missing</td>\n",
       "    </tr>\n",
       "    <tr>\n",
       "      <th>4992</th>\n",
       "      <td>MONSTER HUNTER RISE - \"F Floral Yukata\" Palico...</td>\n",
       "      <td>CDN$ 2.49</td>\n",
       "      <td>missing</td>\n",
       "      <td>12 Jan, 2022</td>\n",
       "      <td>0</td>\n",
       "      <td>5 user reviews</td>\n",
       "      <td>Action</td>\n",
       "      <td>missing</td>\n",
       "      <td>CAPCOM Co., Ltd.</td>\n",
       "      <td>CAPCOM Co., Ltd.</td>\n",
       "      <td>Single-player</td>\n",
       "      <td>missing</td>\n",
       "    </tr>\n",
       "    <tr>\n",
       "      <th>4999</th>\n",
       "      <td>Nature &amp; Wildlife - Jigsaw Puzzle</td>\n",
       "      <td>CDN$ 4.65</td>\n",
       "      <td>missing</td>\n",
       "      <td>18 Aug, 2022</td>\n",
       "      <td>0</td>\n",
       "      <td>1 user reviews</td>\n",
       "      <td>Adventure, Casual, Indie, Simulation, Strategy</td>\n",
       "      <td>missing</td>\n",
       "      <td>Boogygames Studios</td>\n",
       "      <td>Boogygames Studios</td>\n",
       "      <td>Single-player</td>\n",
       "      <td>missing</td>\n",
       "    </tr>\n",
       "    <tr>\n",
       "      <th>5001</th>\n",
       "      <td>ENDLESS™ Space 2 - Original Soundtrack</td>\n",
       "      <td>CDN$ 7.70</td>\n",
       "      <td>CDN$ 3.85</td>\n",
       "      <td>3 Jul, 2020</td>\n",
       "      <td>0</td>\n",
       "      <td>4 user reviews</td>\n",
       "      <td>Strategy</td>\n",
       "      <td>missing</td>\n",
       "      <td>AMPLITUDE Studios</td>\n",
       "      <td>SEGA</td>\n",
       "      <td>missing</td>\n",
       "      <td>missing</td>\n",
       "    </tr>\n",
       "  </tbody>\n",
       "</table>\n",
       "<p>221 rows × 12 columns</p>\n",
       "</div>"
      ],
      "text/plain": [
       "                                                   name       price  \\\n",
       "799             HITMAN 3 Access Pass: HITMAN 2 Standard  CDN$ 49.99   \n",
       "876                                  ELEX II Soundtrack   CDN$ 4.99   \n",
       "908   Warframe: Revenant Prime Access - Accessories ...  CDN$ 51.99   \n",
       "1050                             Dome Keeper Soundtrack   CDN$ 5.49   \n",
       "1122         FOR HONOR™ - Year 6 Season 3 Battle Bundle  CDN$ 34.99   \n",
       "...                                                 ...         ...   \n",
       "4983             Beat Saber - Tokyo Machine – \"ROCK IT\"   CDN$ 2.29   \n",
       "4985     Beat Saber - Slushii & Dion Timmer – \"Test Me\"   CDN$ 2.29   \n",
       "4992  MONSTER HUNTER RISE - \"F Floral Yukata\" Palico...   CDN$ 2.49   \n",
       "4999                  Nature & Wildlife - Jigsaw Puzzle   CDN$ 4.65   \n",
       "5001             ENDLESS™ Space 2 - Original Soundtrack   CDN$ 7.70   \n",
       "\n",
       "     discount_price  release_date  review_count  review_quality  \\\n",
       "799         missing  20 Jan, 2022             0  5 user reviews   \n",
       "876       CDN$ 2.49   1 Mar, 2022             0  3 user reviews   \n",
       "908         missing   5 Oct, 2022             0  5 user reviews   \n",
       "1050        missing  27 Sep, 2022             0  3 user reviews   \n",
       "1122        missing  15 Sep, 2022             0  1 user reviews   \n",
       "...             ...           ...           ...             ...   \n",
       "4983        missing   7 Nov, 2019             0  8 user reviews   \n",
       "4985        missing   7 Nov, 2019             0  8 user reviews   \n",
       "4992        missing  12 Jan, 2022             0  5 user reviews   \n",
       "4999        missing  18 Aug, 2022             0  1 user reviews   \n",
       "5001      CDN$ 3.85   3 Jul, 2020             0  4 user reviews   \n",
       "\n",
       "                                               genre   rating  \\\n",
       "799                                Action, Adventure  missing   \n",
       "876                                          missing  missing   \n",
       "908                        Action, Free to Play, RPG  missing   \n",
       "1050                                         missing  missing   \n",
       "1122                                          Action  missing   \n",
       "...                                              ...      ...   \n",
       "4983                                           Indie  missing   \n",
       "4985                                           Indie  missing   \n",
       "4992                                          Action  missing   \n",
       "4999  Adventure, Casual, Indie, Simulation, Strategy  missing   \n",
       "5001                                        Strategy  missing   \n",
       "\n",
       "                     dev           publisher     player_sup deck_sup  \n",
       "799   IO Interactive A/S  IO Interactive A/S  Single-player  missing  \n",
       "876        Piranha Bytes          THQ Nordic        missing  missing  \n",
       "908     Digital Extremes             missing  Single-player  missing  \n",
       "1050          Bippinbits            Raw Fury        missing  missing  \n",
       "1122    Ubisoft Montreal             Ubisoft  Single-player  missing  \n",
       "...                  ...                 ...            ...      ...  \n",
       "4983          Beat Games             missing  Single-player  missing  \n",
       "4985          Beat Games             missing  Single-player  missing  \n",
       "4992    CAPCOM Co., Ltd.    CAPCOM Co., Ltd.  Single-player  missing  \n",
       "4999  Boogygames Studios  Boogygames Studios  Single-player  missing  \n",
       "5001   AMPLITUDE Studios                SEGA        missing  missing  \n",
       "\n",
       "[221 rows x 12 columns]"
      ]
     },
     "execution_count": 272,
     "metadata": {},
     "output_type": "execute_result"
    }
   ],
   "source": [
    "# some entires have no reviews but have data in 'review_quality' column, move those values to 'review_counts'\n",
    "# find which entires fits the above case\n",
    "games_cp[games_cp['review_quality'].str.contains(' user reviews')]"
   ]
  },
  {
   "cell_type": "code",
   "execution_count": 273,
   "id": "f27316a5",
   "metadata": {
    "collapsed": true
   },
   "outputs": [],
   "source": [
    "# make copy of data frame\n",
    "games_cp1 = games_cp.copy()"
   ]
  },
  {
   "cell_type": "code",
   "execution_count": 320,
   "id": "a5351b1f",
   "metadata": {},
   "outputs": [],
   "source": [
    "# define function to convert '# user reviews' in the review_column into review_count column with number of reviews shown, \n",
    "# then change review_quality to 'other'\n",
    "def conv_num(count,quality):\n",
    "    if ' user reviews' in quality:\n",
    "        count = int(quality[0])\n",
    "        return count\n",
    "    else:\n",
    "        return count\n",
    "    \n",
    "\n",
    "def rep_quality(quality):\n",
    "    if ' user reviews' in quality:\n",
    "        quality = 'Other'\n",
    "        return quality\n",
    "    else:\n",
    "        return quality"
   ]
  },
  {
   "cell_type": "code",
   "execution_count": 344,
   "id": "f94b3f86",
   "metadata": {},
   "outputs": [
    {
     "data": {
      "text/plain": [
       "pandas.core.frame.DataFrame"
      ]
     },
     "execution_count": 344,
     "metadata": {},
     "output_type": "execute_result"
    }
   ],
   "source": [
    "# extract columns to work with\n",
    "lst = games_cp1[['review_count','review_quality']]"
   ]
  },
  {
   "cell_type": "code",
   "execution_count": 351,
   "id": "4ede0039",
   "metadata": {},
   "outputs": [],
   "source": [
    "# apply function to 'review_count' column\n",
    "games_cp1['review_count'] = lst.apply(lambda x: conv_num(x['review_count'],x['review_quality']),axis=1)"
   ]
  },
  {
   "cell_type": "code",
   "execution_count": 353,
   "id": "a42f7ca6",
   "metadata": {},
   "outputs": [],
   "source": [
    "# apply function to 'review_quality' column\n",
    "games_cp1['review_quality'] = games_cp1['review_quality'].apply(rep_quality)"
   ]
  },
  {
   "cell_type": "code",
   "execution_count": 354,
   "id": "98a67238",
   "metadata": {
    "collapsed": true
   },
   "outputs": [
    {
     "data": {
      "text/html": [
       "<div>\n",
       "<style scoped>\n",
       "    .dataframe tbody tr th:only-of-type {\n",
       "        vertical-align: middle;\n",
       "    }\n",
       "\n",
       "    .dataframe tbody tr th {\n",
       "        vertical-align: top;\n",
       "    }\n",
       "\n",
       "    .dataframe thead th {\n",
       "        text-align: right;\n",
       "    }\n",
       "</style>\n",
       "<table border=\"1\" class=\"dataframe\">\n",
       "  <thead>\n",
       "    <tr style=\"text-align: right;\">\n",
       "      <th></th>\n",
       "      <th>name</th>\n",
       "      <th>price</th>\n",
       "      <th>discount_price</th>\n",
       "      <th>release_date</th>\n",
       "      <th>review_count</th>\n",
       "      <th>review_quality</th>\n",
       "      <th>genre</th>\n",
       "      <th>rating</th>\n",
       "      <th>dev</th>\n",
       "      <th>publisher</th>\n",
       "      <th>player_sup</th>\n",
       "      <th>deck_sup</th>\n",
       "    </tr>\n",
       "  </thead>\n",
       "  <tbody>\n",
       "    <tr>\n",
       "      <th>799</th>\n",
       "      <td>HITMAN 3 Access Pass: HITMAN 2 Standard</td>\n",
       "      <td>CDN$ 49.99</td>\n",
       "      <td>missing</td>\n",
       "      <td>20 Jan, 2022</td>\n",
       "      <td>5</td>\n",
       "      <td>Other</td>\n",
       "      <td>Action, Adventure</td>\n",
       "      <td>missing</td>\n",
       "      <td>IO Interactive A/S</td>\n",
       "      <td>IO Interactive A/S</td>\n",
       "      <td>Single-player</td>\n",
       "      <td>missing</td>\n",
       "    </tr>\n",
       "    <tr>\n",
       "      <th>876</th>\n",
       "      <td>ELEX II Soundtrack</td>\n",
       "      <td>CDN$ 4.99</td>\n",
       "      <td>CDN$ 2.49</td>\n",
       "      <td>1 Mar, 2022</td>\n",
       "      <td>3</td>\n",
       "      <td>Other</td>\n",
       "      <td>missing</td>\n",
       "      <td>missing</td>\n",
       "      <td>Piranha Bytes</td>\n",
       "      <td>THQ Nordic</td>\n",
       "      <td>missing</td>\n",
       "      <td>missing</td>\n",
       "    </tr>\n",
       "    <tr>\n",
       "      <th>908</th>\n",
       "      <td>Warframe: Revenant Prime Access - Accessories ...</td>\n",
       "      <td>CDN$ 51.99</td>\n",
       "      <td>missing</td>\n",
       "      <td>5 Oct, 2022</td>\n",
       "      <td>5</td>\n",
       "      <td>Other</td>\n",
       "      <td>Action, Free to Play, RPG</td>\n",
       "      <td>missing</td>\n",
       "      <td>Digital Extremes</td>\n",
       "      <td>missing</td>\n",
       "      <td>Single-player</td>\n",
       "      <td>missing</td>\n",
       "    </tr>\n",
       "    <tr>\n",
       "      <th>1050</th>\n",
       "      <td>Dome Keeper Soundtrack</td>\n",
       "      <td>CDN$ 5.49</td>\n",
       "      <td>missing</td>\n",
       "      <td>27 Sep, 2022</td>\n",
       "      <td>3</td>\n",
       "      <td>Other</td>\n",
       "      <td>missing</td>\n",
       "      <td>missing</td>\n",
       "      <td>Bippinbits</td>\n",
       "      <td>Raw Fury</td>\n",
       "      <td>missing</td>\n",
       "      <td>missing</td>\n",
       "    </tr>\n",
       "    <tr>\n",
       "      <th>1122</th>\n",
       "      <td>FOR HONOR™ - Year 6 Season 3 Battle Bundle</td>\n",
       "      <td>CDN$ 34.99</td>\n",
       "      <td>missing</td>\n",
       "      <td>15 Sep, 2022</td>\n",
       "      <td>1</td>\n",
       "      <td>Other</td>\n",
       "      <td>Action</td>\n",
       "      <td>missing</td>\n",
       "      <td>Ubisoft Montreal</td>\n",
       "      <td>Ubisoft</td>\n",
       "      <td>Single-player</td>\n",
       "      <td>missing</td>\n",
       "    </tr>\n",
       "    <tr>\n",
       "      <th>...</th>\n",
       "      <td>...</td>\n",
       "      <td>...</td>\n",
       "      <td>...</td>\n",
       "      <td>...</td>\n",
       "      <td>...</td>\n",
       "      <td>...</td>\n",
       "      <td>...</td>\n",
       "      <td>...</td>\n",
       "      <td>...</td>\n",
       "      <td>...</td>\n",
       "      <td>...</td>\n",
       "      <td>...</td>\n",
       "    </tr>\n",
       "    <tr>\n",
       "      <th>4983</th>\n",
       "      <td>Beat Saber - Tokyo Machine – \"ROCK IT\"</td>\n",
       "      <td>CDN$ 2.29</td>\n",
       "      <td>missing</td>\n",
       "      <td>7 Nov, 2019</td>\n",
       "      <td>8</td>\n",
       "      <td>Other</td>\n",
       "      <td>Indie</td>\n",
       "      <td>missing</td>\n",
       "      <td>Beat Games</td>\n",
       "      <td>missing</td>\n",
       "      <td>Single-player</td>\n",
       "      <td>missing</td>\n",
       "    </tr>\n",
       "    <tr>\n",
       "      <th>4985</th>\n",
       "      <td>Beat Saber - Slushii &amp; Dion Timmer – \"Test Me\"</td>\n",
       "      <td>CDN$ 2.29</td>\n",
       "      <td>missing</td>\n",
       "      <td>7 Nov, 2019</td>\n",
       "      <td>8</td>\n",
       "      <td>Other</td>\n",
       "      <td>Indie</td>\n",
       "      <td>missing</td>\n",
       "      <td>Beat Games</td>\n",
       "      <td>missing</td>\n",
       "      <td>Single-player</td>\n",
       "      <td>missing</td>\n",
       "    </tr>\n",
       "    <tr>\n",
       "      <th>4992</th>\n",
       "      <td>MONSTER HUNTER RISE - \"F Floral Yukata\" Palico...</td>\n",
       "      <td>CDN$ 2.49</td>\n",
       "      <td>missing</td>\n",
       "      <td>12 Jan, 2022</td>\n",
       "      <td>5</td>\n",
       "      <td>Other</td>\n",
       "      <td>Action</td>\n",
       "      <td>missing</td>\n",
       "      <td>CAPCOM Co., Ltd.</td>\n",
       "      <td>CAPCOM Co., Ltd.</td>\n",
       "      <td>Single-player</td>\n",
       "      <td>missing</td>\n",
       "    </tr>\n",
       "    <tr>\n",
       "      <th>4999</th>\n",
       "      <td>Nature &amp; Wildlife - Jigsaw Puzzle</td>\n",
       "      <td>CDN$ 4.65</td>\n",
       "      <td>missing</td>\n",
       "      <td>18 Aug, 2022</td>\n",
       "      <td>1</td>\n",
       "      <td>Other</td>\n",
       "      <td>Adventure, Casual, Indie, Simulation, Strategy</td>\n",
       "      <td>missing</td>\n",
       "      <td>Boogygames Studios</td>\n",
       "      <td>Boogygames Studios</td>\n",
       "      <td>Single-player</td>\n",
       "      <td>missing</td>\n",
       "    </tr>\n",
       "    <tr>\n",
       "      <th>5001</th>\n",
       "      <td>ENDLESS™ Space 2 - Original Soundtrack</td>\n",
       "      <td>CDN$ 7.70</td>\n",
       "      <td>CDN$ 3.85</td>\n",
       "      <td>3 Jul, 2020</td>\n",
       "      <td>4</td>\n",
       "      <td>Other</td>\n",
       "      <td>Strategy</td>\n",
       "      <td>missing</td>\n",
       "      <td>AMPLITUDE Studios</td>\n",
       "      <td>SEGA</td>\n",
       "      <td>missing</td>\n",
       "      <td>missing</td>\n",
       "    </tr>\n",
       "  </tbody>\n",
       "</table>\n",
       "<p>221 rows × 12 columns</p>\n",
       "</div>"
      ],
      "text/plain": [
       "                                                   name       price  \\\n",
       "799             HITMAN 3 Access Pass: HITMAN 2 Standard  CDN$ 49.99   \n",
       "876                                  ELEX II Soundtrack   CDN$ 4.99   \n",
       "908   Warframe: Revenant Prime Access - Accessories ...  CDN$ 51.99   \n",
       "1050                             Dome Keeper Soundtrack   CDN$ 5.49   \n",
       "1122         FOR HONOR™ - Year 6 Season 3 Battle Bundle  CDN$ 34.99   \n",
       "...                                                 ...         ...   \n",
       "4983             Beat Saber - Tokyo Machine – \"ROCK IT\"   CDN$ 2.29   \n",
       "4985     Beat Saber - Slushii & Dion Timmer – \"Test Me\"   CDN$ 2.29   \n",
       "4992  MONSTER HUNTER RISE - \"F Floral Yukata\" Palico...   CDN$ 2.49   \n",
       "4999                  Nature & Wildlife - Jigsaw Puzzle   CDN$ 4.65   \n",
       "5001             ENDLESS™ Space 2 - Original Soundtrack   CDN$ 7.70   \n",
       "\n",
       "     discount_price  release_date  review_count review_quality  \\\n",
       "799         missing  20 Jan, 2022             5          Other   \n",
       "876       CDN$ 2.49   1 Mar, 2022             3          Other   \n",
       "908         missing   5 Oct, 2022             5          Other   \n",
       "1050        missing  27 Sep, 2022             3          Other   \n",
       "1122        missing  15 Sep, 2022             1          Other   \n",
       "...             ...           ...           ...            ...   \n",
       "4983        missing   7 Nov, 2019             8          Other   \n",
       "4985        missing   7 Nov, 2019             8          Other   \n",
       "4992        missing  12 Jan, 2022             5          Other   \n",
       "4999        missing  18 Aug, 2022             1          Other   \n",
       "5001      CDN$ 3.85   3 Jul, 2020             4          Other   \n",
       "\n",
       "                                               genre   rating  \\\n",
       "799                                Action, Adventure  missing   \n",
       "876                                          missing  missing   \n",
       "908                        Action, Free to Play, RPG  missing   \n",
       "1050                                         missing  missing   \n",
       "1122                                          Action  missing   \n",
       "...                                              ...      ...   \n",
       "4983                                           Indie  missing   \n",
       "4985                                           Indie  missing   \n",
       "4992                                          Action  missing   \n",
       "4999  Adventure, Casual, Indie, Simulation, Strategy  missing   \n",
       "5001                                        Strategy  missing   \n",
       "\n",
       "                     dev           publisher     player_sup deck_sup  \n",
       "799   IO Interactive A/S  IO Interactive A/S  Single-player  missing  \n",
       "876        Piranha Bytes          THQ Nordic        missing  missing  \n",
       "908     Digital Extremes             missing  Single-player  missing  \n",
       "1050          Bippinbits            Raw Fury        missing  missing  \n",
       "1122    Ubisoft Montreal             Ubisoft  Single-player  missing  \n",
       "...                  ...                 ...            ...      ...  \n",
       "4983          Beat Games             missing  Single-player  missing  \n",
       "4985          Beat Games             missing  Single-player  missing  \n",
       "4992    CAPCOM Co., Ltd.    CAPCOM Co., Ltd.  Single-player  missing  \n",
       "4999  Boogygames Studios  Boogygames Studios  Single-player  missing  \n",
       "5001   AMPLITUDE Studios                SEGA        missing  missing  \n",
       "\n",
       "[221 rows x 12 columns]"
      ]
     },
     "execution_count": 354,
     "metadata": {},
     "output_type": "execute_result"
    }
   ],
   "source": [
    "# check column\n",
    "games_cp1[games_cp1['review_quality'].str.contains('Other')]"
   ]
  },
  {
   "cell_type": "code",
   "execution_count": 703,
   "id": "f3da1153",
   "metadata": {
    "collapsed": true
   },
   "outputs": [
    {
     "name": "stdout",
     "output_type": "stream",
     "text": [
      "<class 'pandas.core.frame.DataFrame'>\n",
      "RangeIndex: 5008 entries, 0 to 5007\n",
      "Data columns (total 12 columns):\n",
      " #   Column          Non-Null Count  Dtype \n",
      "---  ------          --------------  ----- \n",
      " 0   name            5008 non-null   object\n",
      " 1   price           5005 non-null   object\n",
      " 2   discount_price  5008 non-null   object\n",
      " 3   release_date    5008 non-null   object\n",
      " 4   review_count    5008 non-null   int64 \n",
      " 5   review_quality  5008 non-null   object\n",
      " 6   genre           5008 non-null   object\n",
      " 7   rating          5008 non-null   object\n",
      " 8   dev             5008 non-null   object\n",
      " 9   publisher       5008 non-null   object\n",
      " 10  player_sup      5008 non-null   object\n",
      " 11  deck_sup        5008 non-null   object\n",
      "dtypes: int64(1), object(11)\n",
      "memory usage: 469.6+ KB\n"
     ]
    }
   ],
   "source": [
    "# check data types to see 'review_count' is now int64\n",
    "games_cp1.info()"
   ]
  },
  {
   "cell_type": "markdown",
   "id": "cc6b1b96",
   "metadata": {},
   "source": [
    "### 4.2 Convert `str` type to `float` in `price` column"
   ]
  },
  {
   "cell_type": "code",
   "execution_count": 693,
   "id": "db04b335",
   "metadata": {},
   "outputs": [],
   "source": [
    "# make copy of data frame\n",
    "games_cp2 = games_cp1.copy()"
   ]
  },
  {
   "cell_type": "code",
   "execution_count": 368,
   "id": "984fbacc",
   "metadata": {
    "collapsed": true
   },
   "outputs": [
    {
     "data": {
      "text/html": [
       "<div>\n",
       "<style scoped>\n",
       "    .dataframe tbody tr th:only-of-type {\n",
       "        vertical-align: middle;\n",
       "    }\n",
       "\n",
       "    .dataframe tbody tr th {\n",
       "        vertical-align: top;\n",
       "    }\n",
       "\n",
       "    .dataframe thead th {\n",
       "        text-align: right;\n",
       "    }\n",
       "</style>\n",
       "<table border=\"1\" class=\"dataframe\">\n",
       "  <thead>\n",
       "    <tr style=\"text-align: right;\">\n",
       "      <th></th>\n",
       "      <th>name</th>\n",
       "      <th>price</th>\n",
       "      <th>discount_price</th>\n",
       "      <th>release_date</th>\n",
       "      <th>review_count</th>\n",
       "      <th>review_quality</th>\n",
       "      <th>genre</th>\n",
       "      <th>rating</th>\n",
       "      <th>dev</th>\n",
       "      <th>publisher</th>\n",
       "      <th>player_sup</th>\n",
       "      <th>deck_sup</th>\n",
       "    </tr>\n",
       "  </thead>\n",
       "  <tbody>\n",
       "    <tr>\n",
       "      <th>16</th>\n",
       "      <td>Grand Theft Auto V</td>\n",
       "      <td>NaN</td>\n",
       "      <td>CDN$ 14.98</td>\n",
       "      <td>14 Apr, 2015</td>\n",
       "      <td>1289530</td>\n",
       "      <td>Very Positive</td>\n",
       "      <td>Action, Adventure</td>\n",
       "      <td>missing</td>\n",
       "      <td>Rockstar North</td>\n",
       "      <td>Rockstar Games</td>\n",
       "      <td>Single-player</td>\n",
       "      <td>missing</td>\n",
       "    </tr>\n",
       "    <tr>\n",
       "      <th>988</th>\n",
       "      <td>Pinball FX3</td>\n",
       "      <td>NaN</td>\n",
       "      <td>Your Price:\\nCDN$ 26.37</td>\n",
       "      <td>26 Sep, 2017</td>\n",
       "      <td>3979</td>\n",
       "      <td>Very Positive</td>\n",
       "      <td>Simulation</td>\n",
       "      <td>missing</td>\n",
       "      <td>Zen Studios</td>\n",
       "      <td>Zen Studios</td>\n",
       "      <td>Single-player</td>\n",
       "      <td>Playable</td>\n",
       "    </tr>\n",
       "    <tr>\n",
       "      <th>1171</th>\n",
       "      <td>Pinball FX3</td>\n",
       "      <td>NaN</td>\n",
       "      <td>Your Price:\\nCDN$ 26.37</td>\n",
       "      <td>26 Sep, 2017</td>\n",
       "      <td>3979</td>\n",
       "      <td>Very Positive</td>\n",
       "      <td>Simulation</td>\n",
       "      <td>missing</td>\n",
       "      <td>Zen Studios</td>\n",
       "      <td>Zen Studios</td>\n",
       "      <td>Single-player</td>\n",
       "      <td>Playable</td>\n",
       "    </tr>\n",
       "  </tbody>\n",
       "</table>\n",
       "</div>"
      ],
      "text/plain": [
       "                    name price           discount_price  release_date  \\\n",
       "16    Grand Theft Auto V   NaN               CDN$ 14.98  14 Apr, 2015   \n",
       "988          Pinball FX3   NaN  Your Price:\\nCDN$ 26.37  26 Sep, 2017   \n",
       "1171         Pinball FX3   NaN  Your Price:\\nCDN$ 26.37  26 Sep, 2017   \n",
       "\n",
       "      review_count review_quality              genre   rating             dev  \\\n",
       "16         1289530  Very Positive  Action, Adventure  missing  Rockstar North   \n",
       "988           3979  Very Positive         Simulation  missing     Zen Studios   \n",
       "1171          3979  Very Positive         Simulation  missing     Zen Studios   \n",
       "\n",
       "           publisher     player_sup  deck_sup  \n",
       "16    Rockstar Games  Single-player   missing  \n",
       "988      Zen Studios  Single-player  Playable  \n",
       "1171     Zen Studios  Single-player  Playable  "
      ]
     },
     "execution_count": 368,
     "metadata": {},
     "output_type": "execute_result"
    }
   ],
   "source": [
    "# check that there are null values in the column, which indicates that it has a special price but no original price\n",
    "# in this case the price will be the special price\n",
    "games_cp2[games_cp2['price'].isnull()]"
   ]
  },
  {
   "cell_type": "code",
   "execution_count": null,
   "id": "fce1af37",
   "metadata": {},
   "outputs": [],
   "source": [
    "# for missing original prices - deals that only come with a special price\n",
    "def conv_discount(price,disc_price):\n",
    "    if price == 0 and 'CDN$' in disc_price:\n",
    "        price = disc_price[-5:]\n",
    "        return price\n",
    "    else:\n",
    "        return price"
   ]
  },
  {
   "cell_type": "code",
   "execution_count": null,
   "id": "90682a1a",
   "metadata": {},
   "outputs": [],
   "source": [
    "# define function to convert price to float\n",
    "def conv_price(price):\n",
    "    try:\n",
    "        # remove 'CDN$' in string\n",
    "        if 'CDN$' in price:\n",
    "            price = float(price.replace('CDN$',''))\n",
    "            return price\n",
    "        else:\n",
    "            return 0\n",
    "    except:\n",
    "        # account for null values\n",
    "        return 0"
   ]
  },
  {
   "cell_type": "code",
   "execution_count": null,
   "id": "c3afa375",
   "metadata": {},
   "outputs": [],
   "source": [
    "# extract columns to work with\n",
    "lst = games_cp2[['price','discount_price']]"
   ]
  },
  {
   "cell_type": "code",
   "execution_count": null,
   "id": "30cddc49",
   "metadata": {},
   "outputs": [],
   "source": [
    "# fill in missing price values with special value\n",
    "games_cp2['price'] = lst.apply(lambda x: conv_discount(x['price'],x['discount_price']),axis=1)"
   ]
  },
  {
   "cell_type": "code",
   "execution_count": 696,
   "id": "be846844",
   "metadata": {},
   "outputs": [],
   "source": [
    "# convert price to float\n",
    "games_cp2['price'] = games_cp2['price'].apply(conv_price)"
   ]
  },
  {
   "cell_type": "code",
   "execution_count": 1117,
   "id": "b8f7109e",
   "metadata": {
    "collapsed": true
   },
   "outputs": [
    {
     "name": "stdout",
     "output_type": "stream",
     "text": [
      "<class 'pandas.core.frame.DataFrame'>\n",
      "RangeIndex: 5008 entries, 0 to 5007\n",
      "Data columns (total 12 columns):\n",
      " #   Column          Non-Null Count  Dtype  \n",
      "---  ------          --------------  -----  \n",
      " 0   name            5008 non-null   object \n",
      " 1   price           5008 non-null   float64\n",
      " 2   discount_price  5008 non-null   object \n",
      " 3   release_date    5008 non-null   object \n",
      " 4   review_count    5008 non-null   int64  \n",
      " 5   review_quality  5008 non-null   object \n",
      " 6   genre           5008 non-null   object \n",
      " 7   rating          5008 non-null   object \n",
      " 8   dev             5008 non-null   object \n",
      " 9   publisher       5008 non-null   object \n",
      " 10  player_sup      5008 non-null   object \n",
      " 11  deck_sup        5008 non-null   object \n",
      "dtypes: float64(1), int64(1), object(10)\n",
      "memory usage: 469.6+ KB\n"
     ]
    }
   ],
   "source": [
    "# check the data type has become 'float'\n",
    "games_cp2.info()"
   ]
  },
  {
   "cell_type": "markdown",
   "id": "b8e9e303",
   "metadata": {},
   "source": [
    "### 4.3 Convert date values to `datetime`"
   ]
  },
  {
   "cell_type": "code",
   "execution_count": 712,
   "id": "fa096e6d",
   "metadata": {},
   "outputs": [],
   "source": [
    "# make copy of data frame\n",
    "games_cp3 = games_cp2.copy()"
   ]
  },
  {
   "cell_type": "code",
   "execution_count": 713,
   "id": "422d92d8",
   "metadata": {},
   "outputs": [],
   "source": [
    "# define function, using regex to find date patterns\n",
    "def conv_date(date):\n",
    "    # some titles' release dates are not available - either the page does not\n",
    "    # contain the information or the release date is not planned\n",
    "    if date == 'missing':\n",
    "        return date\n",
    "    # use regex to find each component of date due to different entries having different formats\n",
    "    mth = re.findall('(?:Jan(?:uary)?|Feb(?:ruary)?|Mar(?:ch)?|Apr(?:il)?|May|June?|July?|Aug(?:ust)?|Sep(?:tember)?|Oct(?:ober)?|Nov(?:ember)?|Dec(?:ember)?)',date)\n",
    "    mth = mth[0][:3]\n",
    "    yr = re.findall('[0-9]{4}[\\s]?$',date)\n",
    "    if yr == []:\n",
    "        # to be released this year, no year in string, then year = '2022'\n",
    "        yr = '2022'\n",
    "        dayy = re.findall('[0-9]{1,2}',date)\n",
    "        dayy = dayy[0]\n",
    "    else:\n",
    "        # remove year from string to better locate the date\n",
    "        yr = yr[0]\n",
    "        date1 = date.replace(yr,'')\n",
    "        dayy = re.findall('[0-9]{1,2}',date1)\n",
    "    if dayy == []:\n",
    "        # no day available, set day = first day of month\n",
    "        dayy = '01'\n",
    "    else:\n",
    "        dayy = dayy[0]\n",
    "    date_new = dayy+'-'+mth+'-'+yr\n",
    "    date_new = datetime.datetime.strptime(date_new,'%d-%b-%Y')\n",
    "    return date_new"
   ]
  },
  {
   "cell_type": "code",
   "execution_count": 714,
   "id": "cab1e04e",
   "metadata": {},
   "outputs": [],
   "source": [
    "# convert dates to datetime\n",
    "games_cp3['release_date'] = games_cp3['release_date'].apply(conv_date)"
   ]
  },
  {
   "cell_type": "code",
   "execution_count": 719,
   "id": "17f1f3b5",
   "metadata": {},
   "outputs": [
    {
     "data": {
      "text/plain": [
       "datetime.datetime(2012, 8, 21, 0, 0)"
      ]
     },
     "execution_count": 719,
     "metadata": {},
     "output_type": "execute_result"
    }
   ],
   "source": [
    "# check data type\n",
    "games_cp3.loc[0,'release_date']"
   ]
  },
  {
   "cell_type": "markdown",
   "id": "754b18a0",
   "metadata": {},
   "source": [
    "### 4.4 Convert `str` to `float` in `discount_price` column"
   ]
  },
  {
   "cell_type": "code",
   "execution_count": 786,
   "id": "fc9ccccb",
   "metadata": {},
   "outputs": [],
   "source": [
    "# make copy of data frame\n",
    "games_cp6 = games_cp3.copy()"
   ]
  },
  {
   "cell_type": "code",
   "execution_count": 1098,
   "id": "5843c0de",
   "metadata": {},
   "outputs": [],
   "source": [
    "# define function to convert discount price\n",
    "def conv_discount(price,d_price):\n",
    "    # if there is not discount price, discount price = original price\n",
    "    if d_price == 'missing':\n",
    "        d_price = price\n",
    "        return d_price\n",
    "    else:\n",
    "        d_price = float(d_price[-5:])\n",
    "        return d_price"
   ]
  },
  {
   "cell_type": "code",
   "execution_count": 788,
   "id": "1ecd0420",
   "metadata": {},
   "outputs": [],
   "source": [
    "# apply function to convert discount price\n",
    "games_cp6['discount_price'] = games_cp6[['price','discount_price']].apply(lambda x: conv_discount(x['price'],x['discount_price']),axis=1)"
   ]
  },
  {
   "cell_type": "code",
   "execution_count": 789,
   "id": "02184bf2",
   "metadata": {
    "collapsed": true
   },
   "outputs": [
    {
     "name": "stdout",
     "output_type": "stream",
     "text": [
      "<class 'pandas.core.frame.DataFrame'>\n",
      "RangeIndex: 5008 entries, 0 to 5007\n",
      "Data columns (total 12 columns):\n",
      " #   Column          Non-Null Count  Dtype  \n",
      "---  ------          --------------  -----  \n",
      " 0   name            5008 non-null   object \n",
      " 1   price           5008 non-null   float64\n",
      " 2   discount_price  5008 non-null   float64\n",
      " 3   release_date    5008 non-null   object \n",
      " 4   review_count    5008 non-null   int64  \n",
      " 5   review_quality  5008 non-null   object \n",
      " 6   genre           5008 non-null   object \n",
      " 7   rating          5008 non-null   object \n",
      " 8   dev             5008 non-null   object \n",
      " 9   publisher       5008 non-null   object \n",
      " 10  player_sup      5008 non-null   object \n",
      " 11  deck_sup        5008 non-null   object \n",
      "dtypes: float64(2), int64(1), object(9)\n",
      "memory usage: 469.6+ KB\n"
     ]
    }
   ],
   "source": [
    "games_cp6.info()"
   ]
  },
  {
   "cell_type": "markdown",
   "id": "43691470",
   "metadata": {},
   "source": [
    "### 4.5 Clean up the `rating` column"
   ]
  },
  {
   "cell_type": "markdown",
   "id": "8a3e812b",
   "metadata": {},
   "source": [
    "There are 6 rating categories according to ESRB guildlines:\n",
    "1. e: everyone\n",
    "2. e10: everyone 10+\n",
    "3. t: teen\n",
    "4. m: mature 17+\n",
    "5. ao: adults only 18+\n",
    "6. rp: rating pending"
   ]
  },
  {
   "cell_type": "code",
   "execution_count": null,
   "id": "b8d0d0bf",
   "metadata": {},
   "outputs": [],
   "source": [
    "# cleaning up & complete category name\n",
    "games_cp6['rating'] = games_cp6['rating'].apply(lambda x :x.replace('0','e10'))\n",
    "games_cp6['rating'] = games_cp6['rating'].apply(lambda x :x.replace('o','ao'))\n",
    "games_cp6['rating'] = games_cp6['rating'].apply(lambda x :x.replace('p','rp'))"
   ]
  },
  {
   "cell_type": "markdown",
   "id": "c8ba1dd5",
   "metadata": {},
   "source": [
    "### 4.6 Export data to csv"
   ]
  },
  {
   "cell_type": "code",
   "execution_count": 798,
   "id": "e54c70fe",
   "metadata": {},
   "outputs": [],
   "source": [
    "# export to csv\n",
    "games_cp6.to_csv('games_cleaned.csv',index=False)"
   ]
  },
  {
   "cell_type": "markdown",
   "id": "9905b62b",
   "metadata": {},
   "source": [
    "### 4.7 Expand data frame by genre"
   ]
  },
  {
   "cell_type": "markdown",
   "id": "8f9f8069",
   "metadata": {},
   "source": [
    "<p>A game fits multiple categories - not mutually exclusive</p>\n",
    "<p>Splitting the genre list in each entry can provide insights on which genres have the larger market, as well as enabling group by functions for each category</p>"
   ]
  },
  {
   "cell_type": "code",
   "execution_count": 799,
   "id": "6c18baa6",
   "metadata": {},
   "outputs": [],
   "source": [
    "# make copy of data frame\n",
    "games_cp4 = games_cp6.copy()"
   ]
  },
  {
   "cell_type": "code",
   "execution_count": 801,
   "id": "65a84288",
   "metadata": {
    "collapsed": true
   },
   "outputs": [
    {
     "data": {
      "text/plain": [
       "0                                    Action, Free to Play\n",
       "1                                      Simulation, Sports\n",
       "2       Action, Adventure, Free to Play, Massively Mul...\n",
       "3                         Action, Adventure, Free to Play\n",
       "4                                                     RPG\n",
       "                              ...                        \n",
       "5003                     Indie, RPG, Simulation, Strategy\n",
       "5004                                              missing\n",
       "5005                                               Action\n",
       "5006                          Indie, Simulation, Strategy\n",
       "5007    Action, Adventure, Casual, Indie, Simulation, ...\n",
       "Name: genre, Length: 5008, dtype: object"
      ]
     },
     "execution_count": 801,
     "metadata": {},
     "output_type": "execute_result"
    }
   ],
   "source": [
    "# find 'genre' column\n",
    "games_cp4['genre']"
   ]
  },
  {
   "cell_type": "code",
   "execution_count": 802,
   "id": "8c1cac17",
   "metadata": {},
   "outputs": [],
   "source": [
    "# make new series of lists by splitting the genres within each row\n",
    "genre = games_cp4['genre'].str.split(', ')"
   ]
  },
  {
   "cell_type": "code",
   "execution_count": 724,
   "id": "9a5762e5",
   "metadata": {},
   "outputs": [
    {
     "data": {
      "text/plain": [
       "0                                  [Action, Free to Play]\n",
       "1                                    [Simulation, Sports]\n",
       "2       [Action, Adventure, Free to Play, Massively Mu...\n",
       "3                       [Action, Adventure, Free to Play]\n",
       "4                                                   [RPG]\n",
       "                              ...                        \n",
       "5003                   [Indie, RPG, Simulation, Strategy]\n",
       "5004                                            [missing]\n",
       "5005                                             [Action]\n",
       "5006                        [Indie, Simulation, Strategy]\n",
       "5007    [Action, Adventure, Casual, Indie, Simulation,...\n",
       "Name: genre, Length: 5008, dtype: object"
      ]
     },
     "execution_count": 724,
     "metadata": {},
     "output_type": "execute_result"
    }
   ],
   "source": [
    "genre"
   ]
  },
  {
   "cell_type": "code",
   "execution_count": 803,
   "id": "d846e665",
   "metadata": {},
   "outputs": [
    {
     "data": {
      "text/plain": [
       "5008"
      ]
     },
     "execution_count": 803,
     "metadata": {},
     "output_type": "execute_result"
    }
   ],
   "source": [
    "len(genre)"
   ]
  },
  {
   "cell_type": "code",
   "execution_count": 804,
   "id": "8a904453",
   "metadata": {},
   "outputs": [],
   "source": [
    "# make new list to expand each genre into a new row\n",
    "genre1 = []\n",
    "for x in range(len(genre)):\n",
    "    for y in genre[x]:\n",
    "        genre1.append(y)"
   ]
  },
  {
   "cell_type": "code",
   "execution_count": 805,
   "id": "c88f0aab",
   "metadata": {},
   "outputs": [
    {
     "data": {
      "text/plain": [
       "12667"
      ]
     },
     "execution_count": 805,
     "metadata": {},
     "output_type": "execute_result"
    }
   ],
   "source": [
    "len(genre1)"
   ]
  },
  {
   "cell_type": "code",
   "execution_count": 806,
   "id": "a0a94873",
   "metadata": {},
   "outputs": [],
   "source": [
    "# convert the list into DataFrame\n",
    "genre2 = pd.DataFrame(genre1,columns=['genre'])"
   ]
  },
  {
   "cell_type": "code",
   "execution_count": 807,
   "id": "ade01f30",
   "metadata": {},
   "outputs": [
    {
     "data": {
      "text/html": [
       "<div>\n",
       "<style scoped>\n",
       "    .dataframe tbody tr th:only-of-type {\n",
       "        vertical-align: middle;\n",
       "    }\n",
       "\n",
       "    .dataframe tbody tr th {\n",
       "        vertical-align: top;\n",
       "    }\n",
       "\n",
       "    .dataframe thead th {\n",
       "        text-align: right;\n",
       "    }\n",
       "</style>\n",
       "<table border=\"1\" class=\"dataframe\">\n",
       "  <thead>\n",
       "    <tr style=\"text-align: right;\">\n",
       "      <th></th>\n",
       "      <th>genre</th>\n",
       "    </tr>\n",
       "  </thead>\n",
       "  <tbody>\n",
       "    <tr>\n",
       "      <th>0</th>\n",
       "      <td>Action</td>\n",
       "    </tr>\n",
       "    <tr>\n",
       "      <th>1</th>\n",
       "      <td>Free to Play</td>\n",
       "    </tr>\n",
       "    <tr>\n",
       "      <th>2</th>\n",
       "      <td>Simulation</td>\n",
       "    </tr>\n",
       "    <tr>\n",
       "      <th>3</th>\n",
       "      <td>Sports</td>\n",
       "    </tr>\n",
       "    <tr>\n",
       "      <th>4</th>\n",
       "      <td>Action</td>\n",
       "    </tr>\n",
       "    <tr>\n",
       "      <th>5</th>\n",
       "      <td>Adventure</td>\n",
       "    </tr>\n",
       "    <tr>\n",
       "      <th>6</th>\n",
       "      <td>Free to Play</td>\n",
       "    </tr>\n",
       "    <tr>\n",
       "      <th>7</th>\n",
       "      <td>Massively Multiplayer</td>\n",
       "    </tr>\n",
       "    <tr>\n",
       "      <th>8</th>\n",
       "      <td>RPG</td>\n",
       "    </tr>\n",
       "    <tr>\n",
       "      <th>9</th>\n",
       "      <td>Action</td>\n",
       "    </tr>\n",
       "  </tbody>\n",
       "</table>\n",
       "</div>"
      ],
      "text/plain": [
       "                   genre\n",
       "0                 Action\n",
       "1           Free to Play\n",
       "2             Simulation\n",
       "3                 Sports\n",
       "4                 Action\n",
       "5              Adventure\n",
       "6           Free to Play\n",
       "7  Massively Multiplayer\n",
       "8                    RPG\n",
       "9                 Action"
      ]
     },
     "execution_count": 807,
     "metadata": {},
     "output_type": "execute_result"
    }
   ],
   "source": [
    "genre2.head(10)"
   ]
  },
  {
   "cell_type": "code",
   "execution_count": 808,
   "id": "33c2b53d",
   "metadata": {},
   "outputs": [],
   "source": [
    "# find unique genres\n",
    "genre3 = pd.unique(genre1)"
   ]
  },
  {
   "cell_type": "code",
   "execution_count": 731,
   "id": "5eafe338",
   "metadata": {},
   "outputs": [
    {
     "data": {
      "text/plain": [
       "array(['Action', 'Free to Play', 'Simulation', 'Sports', 'Adventure',\n",
       "       'Massively Multiplayer', 'RPG', 'Early Access', 'missing',\n",
       "       'Strategy', 'Racing', 'Indie', 'Casual', 'Animation & Modeling',\n",
       "       'Game Development', 'Design & Illustration', 'Photo Editing',\n",
       "       'Utilities', 'Web Publishing', 'Audio Production',\n",
       "       'Video Production', 'Education', 'Software Training'], dtype=object)"
      ]
     },
     "execution_count": 731,
     "metadata": {},
     "output_type": "execute_result"
    }
   ],
   "source": [
    "genre3"
   ]
  },
  {
   "cell_type": "code",
   "execution_count": 809,
   "id": "3c705f76",
   "metadata": {},
   "outputs": [
    {
     "data": {
      "text/plain": [
       "genre\n",
       "Action                   2170\n",
       "Adventure                1562\n",
       "Animation & Modeling       14\n",
       "Audio Production            4\n",
       "Casual                    839\n",
       "Design & Illustration      13\n",
       "Early Access              441\n",
       "Education                   3\n",
       "Free to Play              313\n",
       "Game Development            5\n",
       "Indie                    2182\n",
       "Massively Multiplayer     283\n",
       "Photo Editing               3\n",
       "RPG                      1143\n",
       "Racing                    231\n",
       "Simulation               1610\n",
       "Software Training           4\n",
       "Sports                    289\n",
       "Strategy                 1439\n",
       "Utilities                  40\n",
       "Video Production            7\n",
       "Web Publishing              4\n",
       "missing                    68\n",
       "dtype: int64"
      ]
     },
     "execution_count": 809,
     "metadata": {},
     "output_type": "execute_result"
    }
   ],
   "source": [
    "# find number of games in each genre - there are overlapping values (some games have more than 1 genre)\n",
    "genre2.groupby('genre').value_counts()"
   ]
  },
  {
   "cell_type": "code",
   "execution_count": 810,
   "id": "e7cccb84",
   "metadata": {},
   "outputs": [],
   "source": [
    "# drop the 'genre' column in copy of original DataFrame\n",
    "games_cp4 = games_cp4.drop(columns=['genre'])"
   ]
  },
  {
   "cell_type": "code",
   "execution_count": 828,
   "id": "271a36ae",
   "metadata": {},
   "outputs": [],
   "source": [
    "# make a new dictionary for new DataFrame\n",
    "t2 = {\n",
    "      'name':[],\n",
    "      'price':[],\n",
    "      'discount_price':[],\n",
    "      'release_date':[],\n",
    "      'review_count':[],\n",
    "      'review_quality':[],\n",
    "      'rating':[],\n",
    "      'dev':[],\n",
    "      'publisher':[],\n",
    "      'player_sup':[],\n",
    "      'deck_sup': []\n",
    "    }"
   ]
  },
  {
   "cell_type": "code",
   "execution_count": 829,
   "id": "79eab730",
   "metadata": {},
   "outputs": [],
   "source": [
    "df=pd.DataFrame(t2)"
   ]
  },
  {
   "cell_type": "code",
   "execution_count": 813,
   "id": "579a9e7b",
   "metadata": {},
   "outputs": [
    {
     "data": {
      "text/plain": [
       "5008"
      ]
     },
     "execution_count": 813,
     "metadata": {},
     "output_type": "execute_result"
    }
   ],
   "source": [
    "games_cp4.shape[0]"
   ]
  },
  {
   "cell_type": "code",
   "execution_count": 830,
   "id": "81ce74a1",
   "metadata": {},
   "outputs": [
    {
     "name": "stderr",
     "output_type": "stream",
     "text": [
      "100%|██████████| 5008/5008 [00:04<00:00, 1180.36it/s]\n"
     ]
    }
   ],
   "source": [
    "# duplicate each row based on number of genres it has and append to new DataFrame\n",
    "for s in tqdm(range(games_cp4.shape[0])):\n",
    "    t = len(genre[s])\n",
    "    df1 = pd.DataFrame(np.repeat([games_cp4.loc[s]],t,axis=0),\\\n",
    "                        columns=['name','price','discount_price','release_date','review_count','review_quality',\\\n",
    "                      'rating','dev','publisher','player_sup','deck_sup'], index=None)\n",
    "    df = pd.concat([df,df1])"
   ]
  },
  {
   "cell_type": "code",
   "execution_count": 831,
   "id": "b1a59593",
   "metadata": {},
   "outputs": [],
   "source": [
    "# reset index values for new DataFrame\n",
    "df = df.reset_index(drop=True)"
   ]
  },
  {
   "cell_type": "code",
   "execution_count": 832,
   "id": "70b06a19",
   "metadata": {
    "collapsed": true
   },
   "outputs": [
    {
     "name": "stdout",
     "output_type": "stream",
     "text": [
      "<class 'pandas.core.frame.DataFrame'>\n",
      "RangeIndex: 12667 entries, 0 to 12666\n",
      "Data columns (total 11 columns):\n",
      " #   Column          Non-Null Count  Dtype \n",
      "---  ------          --------------  ----- \n",
      " 0   name            12667 non-null  object\n",
      " 1   price           12667 non-null  object\n",
      " 2   discount_price  12667 non-null  object\n",
      " 3   release_date    12667 non-null  object\n",
      " 4   review_count    12667 non-null  object\n",
      " 5   review_quality  12667 non-null  object\n",
      " 6   rating          12667 non-null  object\n",
      " 7   dev             12667 non-null  object\n",
      " 8   publisher       12667 non-null  object\n",
      " 9   player_sup      12667 non-null  object\n",
      " 10  deck_sup        12667 non-null  object\n",
      "dtypes: object(11)\n",
      "memory usage: 1.1+ MB\n"
     ]
    }
   ],
   "source": [
    "df.info()"
   ]
  },
  {
   "cell_type": "code",
   "execution_count": 833,
   "id": "0a73ce24",
   "metadata": {},
   "outputs": [],
   "source": [
    "# add 'genre' column back, now each game has a entry for each genre it fits\n",
    "df['genre'] = genre2"
   ]
  },
  {
   "cell_type": "code",
   "execution_count": 818,
   "id": "72b44be9",
   "metadata": {
    "collapsed": true
   },
   "outputs": [
    {
     "data": {
      "text/plain": [
       "Indie                    2182\n",
       "Action                   2170\n",
       "Simulation               1610\n",
       "Adventure                1562\n",
       "Strategy                 1439\n",
       "RPG                      1143\n",
       "Casual                    839\n",
       "Early Access              441\n",
       "Free to Play              313\n",
       "Sports                    289\n",
       "Massively Multiplayer     283\n",
       "Racing                    231\n",
       "missing                    68\n",
       "Utilities                  40\n",
       "Animation & Modeling       14\n",
       "Design & Illustration      13\n",
       "Video Production            7\n",
       "Game Development            5\n",
       "Web Publishing              4\n",
       "Audio Production            4\n",
       "Software Training           4\n",
       "Photo Editing               3\n",
       "Education                   3\n",
       "Name: genre, dtype: int64"
      ]
     },
     "execution_count": 818,
     "metadata": {},
     "output_type": "execute_result"
    }
   ],
   "source": [
    "df['genre'].value_counts()"
   ]
  },
  {
   "cell_type": "code",
   "execution_count": 839,
   "id": "1b81061b",
   "metadata": {},
   "outputs": [
    {
     "data": {
      "text/html": [
       "<div>\n",
       "<style scoped>\n",
       "    .dataframe tbody tr th:only-of-type {\n",
       "        vertical-align: middle;\n",
       "    }\n",
       "\n",
       "    .dataframe tbody tr th {\n",
       "        vertical-align: top;\n",
       "    }\n",
       "\n",
       "    .dataframe thead th {\n",
       "        text-align: right;\n",
       "    }\n",
       "</style>\n",
       "<table border=\"1\" class=\"dataframe\">\n",
       "  <thead>\n",
       "    <tr style=\"text-align: right;\">\n",
       "      <th></th>\n",
       "      <th>name</th>\n",
       "      <th>price</th>\n",
       "      <th>discount_price</th>\n",
       "      <th>release_date</th>\n",
       "      <th>review_count</th>\n",
       "      <th>review_quality</th>\n",
       "      <th>rating</th>\n",
       "      <th>dev</th>\n",
       "      <th>publisher</th>\n",
       "      <th>player_sup</th>\n",
       "      <th>deck_sup</th>\n",
       "      <th>genre</th>\n",
       "    </tr>\n",
       "  </thead>\n",
       "  <tbody>\n",
       "    <tr>\n",
       "      <th>0</th>\n",
       "      <td>Counter-Strike: Global Offensive</td>\n",
       "      <td>0.00</td>\n",
       "      <td>0.00</td>\n",
       "      <td>2012-08-21 00:00:00</td>\n",
       "      <td>6685816</td>\n",
       "      <td>Very Positive</td>\n",
       "      <td>missing</td>\n",
       "      <td>Valve</td>\n",
       "      <td>Valve</td>\n",
       "      <td>Steam Achievements</td>\n",
       "      <td>Playable</td>\n",
       "      <td>Action</td>\n",
       "    </tr>\n",
       "    <tr>\n",
       "      <th>1</th>\n",
       "      <td>Counter-Strike: Global Offensive</td>\n",
       "      <td>0.00</td>\n",
       "      <td>0.00</td>\n",
       "      <td>2012-08-21 00:00:00</td>\n",
       "      <td>6685816</td>\n",
       "      <td>Very Positive</td>\n",
       "      <td>missing</td>\n",
       "      <td>Valve</td>\n",
       "      <td>Valve</td>\n",
       "      <td>Steam Achievements</td>\n",
       "      <td>Playable</td>\n",
       "      <td>Free to Play</td>\n",
       "    </tr>\n",
       "    <tr>\n",
       "      <th>2</th>\n",
       "      <td>EA SPORTS™ FIFA 23</td>\n",
       "      <td>89.99</td>\n",
       "      <td>89.99</td>\n",
       "      <td>2022-09-29 00:00:00</td>\n",
       "      <td>11982</td>\n",
       "      <td>Mostly Negative</td>\n",
       "      <td>e</td>\n",
       "      <td>EA Canada &amp; EA Romania</td>\n",
       "      <td>Electronic Arts</td>\n",
       "      <td>Single-player</td>\n",
       "      <td>Unsupported</td>\n",
       "      <td>Simulation</td>\n",
       "    </tr>\n",
       "    <tr>\n",
       "      <th>3</th>\n",
       "      <td>EA SPORTS™ FIFA 23</td>\n",
       "      <td>89.99</td>\n",
       "      <td>89.99</td>\n",
       "      <td>2022-09-29 00:00:00</td>\n",
       "      <td>11982</td>\n",
       "      <td>Mostly Negative</td>\n",
       "      <td>e</td>\n",
       "      <td>EA Canada &amp; EA Romania</td>\n",
       "      <td>Electronic Arts</td>\n",
       "      <td>Single-player</td>\n",
       "      <td>Unsupported</td>\n",
       "      <td>Sports</td>\n",
       "    </tr>\n",
       "    <tr>\n",
       "      <th>4</th>\n",
       "      <td>Lost Ark</td>\n",
       "      <td>0.00</td>\n",
       "      <td>0.00</td>\n",
       "      <td>2022-02-11 00:00:00</td>\n",
       "      <td>173200</td>\n",
       "      <td>Mostly Positive</td>\n",
       "      <td>m</td>\n",
       "      <td>Smilegate RPG</td>\n",
       "      <td>Amazon Games</td>\n",
       "      <td>Single-player</td>\n",
       "      <td>Unsupported</td>\n",
       "      <td>Action</td>\n",
       "    </tr>\n",
       "    <tr>\n",
       "      <th>5</th>\n",
       "      <td>Lost Ark</td>\n",
       "      <td>0.00</td>\n",
       "      <td>0.00</td>\n",
       "      <td>2022-02-11 00:00:00</td>\n",
       "      <td>173200</td>\n",
       "      <td>Mostly Positive</td>\n",
       "      <td>m</td>\n",
       "      <td>Smilegate RPG</td>\n",
       "      <td>Amazon Games</td>\n",
       "      <td>Single-player</td>\n",
       "      <td>Unsupported</td>\n",
       "      <td>Adventure</td>\n",
       "    </tr>\n",
       "    <tr>\n",
       "      <th>6</th>\n",
       "      <td>Lost Ark</td>\n",
       "      <td>0.00</td>\n",
       "      <td>0.00</td>\n",
       "      <td>2022-02-11 00:00:00</td>\n",
       "      <td>173200</td>\n",
       "      <td>Mostly Positive</td>\n",
       "      <td>m</td>\n",
       "      <td>Smilegate RPG</td>\n",
       "      <td>Amazon Games</td>\n",
       "      <td>Single-player</td>\n",
       "      <td>Unsupported</td>\n",
       "      <td>Free to Play</td>\n",
       "    </tr>\n",
       "    <tr>\n",
       "      <th>7</th>\n",
       "      <td>Lost Ark</td>\n",
       "      <td>0.00</td>\n",
       "      <td>0.00</td>\n",
       "      <td>2022-02-11 00:00:00</td>\n",
       "      <td>173200</td>\n",
       "      <td>Mostly Positive</td>\n",
       "      <td>m</td>\n",
       "      <td>Smilegate RPG</td>\n",
       "      <td>Amazon Games</td>\n",
       "      <td>Single-player</td>\n",
       "      <td>Unsupported</td>\n",
       "      <td>Massively Multiplayer</td>\n",
       "    </tr>\n",
       "    <tr>\n",
       "      <th>8</th>\n",
       "      <td>Lost Ark</td>\n",
       "      <td>0.00</td>\n",
       "      <td>0.00</td>\n",
       "      <td>2022-02-11 00:00:00</td>\n",
       "      <td>173200</td>\n",
       "      <td>Mostly Positive</td>\n",
       "      <td>m</td>\n",
       "      <td>Smilegate RPG</td>\n",
       "      <td>Amazon Games</td>\n",
       "      <td>Single-player</td>\n",
       "      <td>Unsupported</td>\n",
       "      <td>RPG</td>\n",
       "    </tr>\n",
       "    <tr>\n",
       "      <th>9</th>\n",
       "      <td>Apex Legends™</td>\n",
       "      <td>0.00</td>\n",
       "      <td>0.00</td>\n",
       "      <td>2020-11-04 00:00:00</td>\n",
       "      <td>518577</td>\n",
       "      <td>Very Positive</td>\n",
       "      <td>t</td>\n",
       "      <td>Respawn Entertainment</td>\n",
       "      <td>Electronic Arts</td>\n",
       "      <td>Online PvP</td>\n",
       "      <td>Verified</td>\n",
       "      <td>Action</td>\n",
       "    </tr>\n",
       "  </tbody>\n",
       "</table>\n",
       "</div>"
      ],
      "text/plain": [
       "                               name  price  discount_price  \\\n",
       "0  Counter-Strike: Global Offensive   0.00            0.00   \n",
       "1  Counter-Strike: Global Offensive   0.00            0.00   \n",
       "2                EA SPORTS™ FIFA 23  89.99           89.99   \n",
       "3                EA SPORTS™ FIFA 23  89.99           89.99   \n",
       "4                          Lost Ark   0.00            0.00   \n",
       "5                          Lost Ark   0.00            0.00   \n",
       "6                          Lost Ark   0.00            0.00   \n",
       "7                          Lost Ark   0.00            0.00   \n",
       "8                          Lost Ark   0.00            0.00   \n",
       "9                     Apex Legends™   0.00            0.00   \n",
       "\n",
       "          release_date  review_count   review_quality   rating  \\\n",
       "0  2012-08-21 00:00:00       6685816    Very Positive  missing   \n",
       "1  2012-08-21 00:00:00       6685816    Very Positive  missing   \n",
       "2  2022-09-29 00:00:00         11982  Mostly Negative        e   \n",
       "3  2022-09-29 00:00:00         11982  Mostly Negative        e   \n",
       "4  2022-02-11 00:00:00        173200  Mostly Positive        m   \n",
       "5  2022-02-11 00:00:00        173200  Mostly Positive        m   \n",
       "6  2022-02-11 00:00:00        173200  Mostly Positive        m   \n",
       "7  2022-02-11 00:00:00        173200  Mostly Positive        m   \n",
       "8  2022-02-11 00:00:00        173200  Mostly Positive        m   \n",
       "9  2020-11-04 00:00:00        518577    Very Positive        t   \n",
       "\n",
       "                      dev        publisher          player_sup     deck_sup  \\\n",
       "0                   Valve            Valve  Steam Achievements     Playable   \n",
       "1                   Valve            Valve  Steam Achievements     Playable   \n",
       "2  EA Canada & EA Romania  Electronic Arts       Single-player  Unsupported   \n",
       "3  EA Canada & EA Romania  Electronic Arts       Single-player  Unsupported   \n",
       "4           Smilegate RPG     Amazon Games       Single-player  Unsupported   \n",
       "5           Smilegate RPG     Amazon Games       Single-player  Unsupported   \n",
       "6           Smilegate RPG     Amazon Games       Single-player  Unsupported   \n",
       "7           Smilegate RPG     Amazon Games       Single-player  Unsupported   \n",
       "8           Smilegate RPG     Amazon Games       Single-player  Unsupported   \n",
       "9   Respawn Entertainment  Electronic Arts          Online PvP     Verified   \n",
       "\n",
       "                   genre  \n",
       "0                 Action  \n",
       "1           Free to Play  \n",
       "2             Simulation  \n",
       "3                 Sports  \n",
       "4                 Action  \n",
       "5              Adventure  \n",
       "6           Free to Play  \n",
       "7  Massively Multiplayer  \n",
       "8                    RPG  \n",
       "9                 Action  "
      ]
     },
     "execution_count": 839,
     "metadata": {},
     "output_type": "execute_result"
    }
   ],
   "source": [
    "# check data frame\n",
    "df.head(10)"
   ]
  },
  {
   "cell_type": "code",
   "execution_count": 835,
   "id": "ccb80d0a",
   "metadata": {},
   "outputs": [],
   "source": [
    "# re-set data types\n",
    "df['review_count'] = df['review_count'].astype(int)"
   ]
  },
  {
   "cell_type": "code",
   "execution_count": 836,
   "id": "09bdae14",
   "metadata": {},
   "outputs": [],
   "source": [
    "df['price'] = df['price'].astype(float)"
   ]
  },
  {
   "cell_type": "code",
   "execution_count": 837,
   "id": "53a2c0c3",
   "metadata": {},
   "outputs": [],
   "source": [
    "df['discount_price'] = df['discount_price'].astype(float)"
   ]
  },
  {
   "cell_type": "code",
   "execution_count": 838,
   "id": "f9cf20bd",
   "metadata": {},
   "outputs": [
    {
     "name": "stdout",
     "output_type": "stream",
     "text": [
      "<class 'pandas.core.frame.DataFrame'>\n",
      "RangeIndex: 12667 entries, 0 to 12666\n",
      "Data columns (total 12 columns):\n",
      " #   Column          Non-Null Count  Dtype  \n",
      "---  ------          --------------  -----  \n",
      " 0   name            12667 non-null  object \n",
      " 1   price           12667 non-null  float64\n",
      " 2   discount_price  12667 non-null  float64\n",
      " 3   release_date    12667 non-null  object \n",
      " 4   review_count    12667 non-null  int32  \n",
      " 5   review_quality  12667 non-null  object \n",
      " 6   rating          12667 non-null  object \n",
      " 7   dev             12667 non-null  object \n",
      " 8   publisher       12667 non-null  object \n",
      " 9   player_sup      12667 non-null  object \n",
      " 10  deck_sup        12667 non-null  object \n",
      " 11  genre           12667 non-null  object \n",
      "dtypes: float64(2), int32(1), object(9)\n",
      "memory usage: 1.1+ MB\n"
     ]
    }
   ],
   "source": [
    "df.info()"
   ]
  },
  {
   "cell_type": "code",
   "execution_count": 843,
   "id": "f089f9d6",
   "metadata": {},
   "outputs": [
    {
     "data": {
      "text/html": [
       "<div>\n",
       "<style scoped>\n",
       "    .dataframe tbody tr th:only-of-type {\n",
       "        vertical-align: middle;\n",
       "    }\n",
       "\n",
       "    .dataframe tbody tr th {\n",
       "        vertical-align: top;\n",
       "    }\n",
       "\n",
       "    .dataframe thead th {\n",
       "        text-align: right;\n",
       "    }\n",
       "</style>\n",
       "<table border=\"1\" class=\"dataframe\">\n",
       "  <thead>\n",
       "    <tr style=\"text-align: right;\">\n",
       "      <th></th>\n",
       "      <th>min</th>\n",
       "      <th>max</th>\n",
       "      <th>mean</th>\n",
       "      <th>count</th>\n",
       "    </tr>\n",
       "    <tr>\n",
       "      <th>genre</th>\n",
       "      <th></th>\n",
       "      <th></th>\n",
       "      <th></th>\n",
       "      <th></th>\n",
       "    </tr>\n",
       "  </thead>\n",
       "  <tbody>\n",
       "    <tr>\n",
       "      <th>Action</th>\n",
       "      <td>0.00</td>\n",
       "      <td>139.99</td>\n",
       "      <td>19.574793</td>\n",
       "      <td>2170</td>\n",
       "    </tr>\n",
       "    <tr>\n",
       "      <th>Adventure</th>\n",
       "      <td>0.00</td>\n",
       "      <td>139.99</td>\n",
       "      <td>19.410890</td>\n",
       "      <td>1562</td>\n",
       "    </tr>\n",
       "    <tr>\n",
       "      <th>Animation &amp; Modeling</th>\n",
       "      <td>0.00</td>\n",
       "      <td>170.99</td>\n",
       "      <td>49.828571</td>\n",
       "      <td>14</td>\n",
       "    </tr>\n",
       "    <tr>\n",
       "      <th>Audio Production</th>\n",
       "      <td>13.49</td>\n",
       "      <td>64.95</td>\n",
       "      <td>35.230000</td>\n",
       "      <td>4</td>\n",
       "    </tr>\n",
       "    <tr>\n",
       "      <th>Casual</th>\n",
       "      <td>0.00</td>\n",
       "      <td>79.99</td>\n",
       "      <td>14.482241</td>\n",
       "      <td>839</td>\n",
       "    </tr>\n",
       "    <tr>\n",
       "      <th>Design &amp; Illustration</th>\n",
       "      <td>0.00</td>\n",
       "      <td>91.99</td>\n",
       "      <td>26.530769</td>\n",
       "      <td>13</td>\n",
       "    </tr>\n",
       "    <tr>\n",
       "      <th>Early Access</th>\n",
       "      <td>0.00</td>\n",
       "      <td>69.99</td>\n",
       "      <td>19.555238</td>\n",
       "      <td>441</td>\n",
       "    </tr>\n",
       "    <tr>\n",
       "      <th>Education</th>\n",
       "      <td>5.23</td>\n",
       "      <td>7.99</td>\n",
       "      <td>7.070000</td>\n",
       "      <td>3</td>\n",
       "    </tr>\n",
       "    <tr>\n",
       "      <th>Free to Play</th>\n",
       "      <td>0.00</td>\n",
       "      <td>113.99</td>\n",
       "      <td>7.429712</td>\n",
       "      <td>313</td>\n",
       "    </tr>\n",
       "    <tr>\n",
       "      <th>Game Development</th>\n",
       "      <td>0.00</td>\n",
       "      <td>170.99</td>\n",
       "      <td>107.152000</td>\n",
       "      <td>5</td>\n",
       "    </tr>\n",
       "    <tr>\n",
       "      <th>Indie</th>\n",
       "      <td>0.00</td>\n",
       "      <td>113.99</td>\n",
       "      <td>15.112640</td>\n",
       "      <td>2182</td>\n",
       "    </tr>\n",
       "    <tr>\n",
       "      <th>Massively Multiplayer</th>\n",
       "      <td>0.00</td>\n",
       "      <td>83.99</td>\n",
       "      <td>13.250424</td>\n",
       "      <td>283</td>\n",
       "    </tr>\n",
       "    <tr>\n",
       "      <th>Photo Editing</th>\n",
       "      <td>4.99</td>\n",
       "      <td>17.50</td>\n",
       "      <td>13.330000</td>\n",
       "      <td>3</td>\n",
       "    </tr>\n",
       "    <tr>\n",
       "      <th>RPG</th>\n",
       "      <td>0.00</td>\n",
       "      <td>139.99</td>\n",
       "      <td>20.025381</td>\n",
       "      <td>1143</td>\n",
       "    </tr>\n",
       "    <tr>\n",
       "      <th>Racing</th>\n",
       "      <td>0.00</td>\n",
       "      <td>79.99</td>\n",
       "      <td>16.488571</td>\n",
       "      <td>231</td>\n",
       "    </tr>\n",
       "    <tr>\n",
       "      <th>Simulation</th>\n",
       "      <td>0.00</td>\n",
       "      <td>101.99</td>\n",
       "      <td>18.739894</td>\n",
       "      <td>1610</td>\n",
       "    </tr>\n",
       "    <tr>\n",
       "      <th>Software Training</th>\n",
       "      <td>5.23</td>\n",
       "      <td>64.95</td>\n",
       "      <td>21.540000</td>\n",
       "      <td>4</td>\n",
       "    </tr>\n",
       "    <tr>\n",
       "      <th>Sports</th>\n",
       "      <td>0.00</td>\n",
       "      <td>89.99</td>\n",
       "      <td>19.581661</td>\n",
       "      <td>289</td>\n",
       "    </tr>\n",
       "    <tr>\n",
       "      <th>Strategy</th>\n",
       "      <td>0.00</td>\n",
       "      <td>265.35</td>\n",
       "      <td>18.855462</td>\n",
       "      <td>1439</td>\n",
       "    </tr>\n",
       "    <tr>\n",
       "      <th>Utilities</th>\n",
       "      <td>0.00</td>\n",
       "      <td>64.95</td>\n",
       "      <td>13.177250</td>\n",
       "      <td>40</td>\n",
       "    </tr>\n",
       "    <tr>\n",
       "      <th>Video Production</th>\n",
       "      <td>0.00</td>\n",
       "      <td>64.95</td>\n",
       "      <td>20.487143</td>\n",
       "      <td>7</td>\n",
       "    </tr>\n",
       "    <tr>\n",
       "      <th>Web Publishing</th>\n",
       "      <td>10.99</td>\n",
       "      <td>91.99</td>\n",
       "      <td>46.230000</td>\n",
       "      <td>4</td>\n",
       "    </tr>\n",
       "    <tr>\n",
       "      <th>missing</th>\n",
       "      <td>0.00</td>\n",
       "      <td>659.00</td>\n",
       "      <td>26.921029</td>\n",
       "      <td>68</td>\n",
       "    </tr>\n",
       "  </tbody>\n",
       "</table>\n",
       "</div>"
      ],
      "text/plain": [
       "                         min     max        mean  count\n",
       "genre                                                  \n",
       "Action                  0.00  139.99   19.574793   2170\n",
       "Adventure               0.00  139.99   19.410890   1562\n",
       "Animation & Modeling    0.00  170.99   49.828571     14\n",
       "Audio Production       13.49   64.95   35.230000      4\n",
       "Casual                  0.00   79.99   14.482241    839\n",
       "Design & Illustration   0.00   91.99   26.530769     13\n",
       "Early Access            0.00   69.99   19.555238    441\n",
       "Education               5.23    7.99    7.070000      3\n",
       "Free to Play            0.00  113.99    7.429712    313\n",
       "Game Development        0.00  170.99  107.152000      5\n",
       "Indie                   0.00  113.99   15.112640   2182\n",
       "Massively Multiplayer   0.00   83.99   13.250424    283\n",
       "Photo Editing           4.99   17.50   13.330000      3\n",
       "RPG                     0.00  139.99   20.025381   1143\n",
       "Racing                  0.00   79.99   16.488571    231\n",
       "Simulation              0.00  101.99   18.739894   1610\n",
       "Software Training       5.23   64.95   21.540000      4\n",
       "Sports                  0.00   89.99   19.581661    289\n",
       "Strategy                0.00  265.35   18.855462   1439\n",
       "Utilities               0.00   64.95   13.177250     40\n",
       "Video Production        0.00   64.95   20.487143      7\n",
       "Web Publishing         10.99   91.99   46.230000      4\n",
       "missing                 0.00  659.00   26.921029     68"
      ]
     },
     "execution_count": 843,
     "metadata": {},
     "output_type": "execute_result"
    }
   ],
   "source": [
    "# test: groupby\n",
    "df.groupby('genre')['price'].agg(['min','max','mean','count'])"
   ]
  },
  {
   "cell_type": "code",
   "execution_count": 840,
   "id": "8f7a519c",
   "metadata": {},
   "outputs": [],
   "source": [
    "games_expanded_by_genre = df.copy()"
   ]
  },
  {
   "cell_type": "code",
   "execution_count": 841,
   "id": "7dc01f13",
   "metadata": {},
   "outputs": [],
   "source": [
    "# save new DataFrame to csv\n",
    "games_expanded_by_genre.to_csv('games_expanded_by_genre.csv',index=False)"
   ]
  },
  {
   "cell_type": "markdown",
   "id": "7755c3b9",
   "metadata": {},
   "source": [
    "## 5. Analysis and Graphics"
   ]
  },
  {
   "cell_type": "code",
   "execution_count": 1186,
   "id": "6c79b313",
   "metadata": {},
   "outputs": [],
   "source": [
    "# df1: using the original list\n",
    "# df2: using the expanded list\n",
    "df1 = pd.read_csv('games_cleaned.csv')\n",
    "df2 = pd.read_csv('games_expanded_by_genre.csv')"
   ]
  },
  {
   "cell_type": "markdown",
   "id": "632503fb",
   "metadata": {},
   "source": [
    "### 5.1 Min, max, average, and number of games per genre"
   ]
  },
  {
   "cell_type": "code",
   "execution_count": 1187,
   "id": "a71bc240",
   "metadata": {},
   "outputs": [
    {
     "data": {
      "text/html": [
       "<div>\n",
       "<style scoped>\n",
       "    .dataframe tbody tr th:only-of-type {\n",
       "        vertical-align: middle;\n",
       "    }\n",
       "\n",
       "    .dataframe tbody tr th {\n",
       "        vertical-align: top;\n",
       "    }\n",
       "\n",
       "    .dataframe thead th {\n",
       "        text-align: right;\n",
       "    }\n",
       "</style>\n",
       "<table border=\"1\" class=\"dataframe\">\n",
       "  <thead>\n",
       "    <tr style=\"text-align: right;\">\n",
       "      <th></th>\n",
       "      <th>min</th>\n",
       "      <th>max</th>\n",
       "      <th>mean</th>\n",
       "      <th>count</th>\n",
       "    </tr>\n",
       "    <tr>\n",
       "      <th>genre</th>\n",
       "      <th></th>\n",
       "      <th></th>\n",
       "      <th></th>\n",
       "      <th></th>\n",
       "    </tr>\n",
       "  </thead>\n",
       "  <tbody>\n",
       "    <tr>\n",
       "      <th>Action</th>\n",
       "      <td>0.00</td>\n",
       "      <td>139.99</td>\n",
       "      <td>19.574793</td>\n",
       "      <td>2170</td>\n",
       "    </tr>\n",
       "    <tr>\n",
       "      <th>Adventure</th>\n",
       "      <td>0.00</td>\n",
       "      <td>139.99</td>\n",
       "      <td>19.410890</td>\n",
       "      <td>1562</td>\n",
       "    </tr>\n",
       "    <tr>\n",
       "      <th>Animation &amp; Modeling</th>\n",
       "      <td>0.00</td>\n",
       "      <td>170.99</td>\n",
       "      <td>49.828571</td>\n",
       "      <td>14</td>\n",
       "    </tr>\n",
       "    <tr>\n",
       "      <th>Audio Production</th>\n",
       "      <td>13.49</td>\n",
       "      <td>64.95</td>\n",
       "      <td>35.230000</td>\n",
       "      <td>4</td>\n",
       "    </tr>\n",
       "    <tr>\n",
       "      <th>Casual</th>\n",
       "      <td>0.00</td>\n",
       "      <td>79.99</td>\n",
       "      <td>14.482241</td>\n",
       "      <td>839</td>\n",
       "    </tr>\n",
       "    <tr>\n",
       "      <th>Design &amp; Illustration</th>\n",
       "      <td>0.00</td>\n",
       "      <td>91.99</td>\n",
       "      <td>26.530769</td>\n",
       "      <td>13</td>\n",
       "    </tr>\n",
       "    <tr>\n",
       "      <th>Early Access</th>\n",
       "      <td>0.00</td>\n",
       "      <td>69.99</td>\n",
       "      <td>19.555238</td>\n",
       "      <td>441</td>\n",
       "    </tr>\n",
       "    <tr>\n",
       "      <th>Education</th>\n",
       "      <td>5.23</td>\n",
       "      <td>7.99</td>\n",
       "      <td>7.070000</td>\n",
       "      <td>3</td>\n",
       "    </tr>\n",
       "    <tr>\n",
       "      <th>Free to Play</th>\n",
       "      <td>0.00</td>\n",
       "      <td>113.99</td>\n",
       "      <td>7.429712</td>\n",
       "      <td>313</td>\n",
       "    </tr>\n",
       "    <tr>\n",
       "      <th>Game Development</th>\n",
       "      <td>0.00</td>\n",
       "      <td>170.99</td>\n",
       "      <td>107.152000</td>\n",
       "      <td>5</td>\n",
       "    </tr>\n",
       "    <tr>\n",
       "      <th>Indie</th>\n",
       "      <td>0.00</td>\n",
       "      <td>113.99</td>\n",
       "      <td>15.112640</td>\n",
       "      <td>2182</td>\n",
       "    </tr>\n",
       "    <tr>\n",
       "      <th>Massively Multiplayer</th>\n",
       "      <td>0.00</td>\n",
       "      <td>83.99</td>\n",
       "      <td>13.250424</td>\n",
       "      <td>283</td>\n",
       "    </tr>\n",
       "    <tr>\n",
       "      <th>Photo Editing</th>\n",
       "      <td>4.99</td>\n",
       "      <td>17.50</td>\n",
       "      <td>13.330000</td>\n",
       "      <td>3</td>\n",
       "    </tr>\n",
       "    <tr>\n",
       "      <th>RPG</th>\n",
       "      <td>0.00</td>\n",
       "      <td>139.99</td>\n",
       "      <td>20.025381</td>\n",
       "      <td>1143</td>\n",
       "    </tr>\n",
       "    <tr>\n",
       "      <th>Racing</th>\n",
       "      <td>0.00</td>\n",
       "      <td>79.99</td>\n",
       "      <td>16.488571</td>\n",
       "      <td>231</td>\n",
       "    </tr>\n",
       "    <tr>\n",
       "      <th>Simulation</th>\n",
       "      <td>0.00</td>\n",
       "      <td>101.99</td>\n",
       "      <td>18.739894</td>\n",
       "      <td>1610</td>\n",
       "    </tr>\n",
       "    <tr>\n",
       "      <th>Software Training</th>\n",
       "      <td>5.23</td>\n",
       "      <td>64.95</td>\n",
       "      <td>21.540000</td>\n",
       "      <td>4</td>\n",
       "    </tr>\n",
       "    <tr>\n",
       "      <th>Sports</th>\n",
       "      <td>0.00</td>\n",
       "      <td>89.99</td>\n",
       "      <td>19.581661</td>\n",
       "      <td>289</td>\n",
       "    </tr>\n",
       "    <tr>\n",
       "      <th>Strategy</th>\n",
       "      <td>0.00</td>\n",
       "      <td>265.35</td>\n",
       "      <td>18.855462</td>\n",
       "      <td>1439</td>\n",
       "    </tr>\n",
       "    <tr>\n",
       "      <th>Utilities</th>\n",
       "      <td>0.00</td>\n",
       "      <td>64.95</td>\n",
       "      <td>13.177250</td>\n",
       "      <td>40</td>\n",
       "    </tr>\n",
       "    <tr>\n",
       "      <th>Video Production</th>\n",
       "      <td>0.00</td>\n",
       "      <td>64.95</td>\n",
       "      <td>20.487143</td>\n",
       "      <td>7</td>\n",
       "    </tr>\n",
       "    <tr>\n",
       "      <th>Web Publishing</th>\n",
       "      <td>10.99</td>\n",
       "      <td>91.99</td>\n",
       "      <td>46.230000</td>\n",
       "      <td>4</td>\n",
       "    </tr>\n",
       "    <tr>\n",
       "      <th>missing</th>\n",
       "      <td>0.00</td>\n",
       "      <td>659.00</td>\n",
       "      <td>26.921029</td>\n",
       "      <td>68</td>\n",
       "    </tr>\n",
       "  </tbody>\n",
       "</table>\n",
       "</div>"
      ],
      "text/plain": [
       "                         min     max        mean  count\n",
       "genre                                                  \n",
       "Action                  0.00  139.99   19.574793   2170\n",
       "Adventure               0.00  139.99   19.410890   1562\n",
       "Animation & Modeling    0.00  170.99   49.828571     14\n",
       "Audio Production       13.49   64.95   35.230000      4\n",
       "Casual                  0.00   79.99   14.482241    839\n",
       "Design & Illustration   0.00   91.99   26.530769     13\n",
       "Early Access            0.00   69.99   19.555238    441\n",
       "Education               5.23    7.99    7.070000      3\n",
       "Free to Play            0.00  113.99    7.429712    313\n",
       "Game Development        0.00  170.99  107.152000      5\n",
       "Indie                   0.00  113.99   15.112640   2182\n",
       "Massively Multiplayer   0.00   83.99   13.250424    283\n",
       "Photo Editing           4.99   17.50   13.330000      3\n",
       "RPG                     0.00  139.99   20.025381   1143\n",
       "Racing                  0.00   79.99   16.488571    231\n",
       "Simulation              0.00  101.99   18.739894   1610\n",
       "Software Training       5.23   64.95   21.540000      4\n",
       "Sports                  0.00   89.99   19.581661    289\n",
       "Strategy                0.00  265.35   18.855462   1439\n",
       "Utilities               0.00   64.95   13.177250     40\n",
       "Video Production        0.00   64.95   20.487143      7\n",
       "Web Publishing         10.99   91.99   46.230000      4\n",
       "missing                 0.00  659.00   26.921029     68"
      ]
     },
     "execution_count": 1187,
     "metadata": {},
     "output_type": "execute_result"
    }
   ],
   "source": [
    "# min, max, average, and number of games per genre\n",
    "df2.groupby('genre')['price'].agg(['min','max','mean','count'])"
   ]
  },
  {
   "cell_type": "markdown",
   "id": "f219ced3",
   "metadata": {},
   "source": [
    "### 5.1.1 Number of games by genre"
   ]
  },
  {
   "cell_type": "code",
   "execution_count": 1195,
   "id": "28b03b42",
   "metadata": {},
   "outputs": [
    {
     "data": {
      "image/png": "[encoded data removed]",
      "text/plain": [
       "<Figure size 432x288 with 1 Axes>"
      ]
     },
     "metadata": {
      "needs_background": "light"
     },
     "output_type": "display_data"
    }
   ],
   "source": [
    "df2['genre'].value_counts().plot(kind='bar',title='Number of Games by Genre')\n",
    "plt.xlabel('Genre', fontsize=12)\n",
    "plt.ylabel('Num Games',fontsize=10);"
   ]
  },
  {
   "cell_type": "markdown",
   "id": "205d4c8a",
   "metadata": {},
   "source": [
    "### 5.1.2 Percentage Distribution of Number of Games by Genre"
   ]
  },
  {
   "cell_type": "code",
   "execution_count": 1205,
   "id": "90834835",
   "metadata": {},
   "outputs": [
    {
     "data": {
      "image/png": "[encoded data removed]",
      "text/plain": [
       "<Figure size 432x288 with 1 Axes>"
      ]
     },
     "metadata": {},
     "output_type": "display_data"
    }
   ],
   "source": [
    "df2['genre'].value_counts().plot(kind='pie',autopct=lambda x: format(x,'.1f') if x>5 else None, labels=None,title='Genres by Percentage')\n",
    "plt.legend(labels=genre3,loc='center right',bbox_to_anchor=(1.1,0),bbox_transform=plt.gcf().transFigure);"
   ]
  },
  {
   "cell_type": "markdown",
   "id": "9346503e",
   "metadata": {},
   "source": [
    "### 5.1.3 Average price per Genre"
   ]
  },
  {
   "cell_type": "code",
   "execution_count": 1202,
   "id": "3fea6781",
   "metadata": {},
   "outputs": [
    {
     "data": {
      "image/png": "[encoded data removed]",
      "text/plain": [
       "<Figure size 432x288 with 1 Axes>"
      ]
     },
     "metadata": {
      "needs_background": "light"
     },
     "output_type": "display_data"
    }
   ],
   "source": [
    "df2.groupby('genre')['price'].agg(['mean']).plot(kind='bar',title='Average Price by Genre')\n",
    "plt.xlabel('Genre', fontsize=12)\n",
    "plt.ylabel('Average Price',fontsize=10);"
   ]
  },
  {
   "cell_type": "markdown",
   "id": "170003c8",
   "metadata": {},
   "source": [
    "### 5.2 Min, max, and average number of reviews by Steam Deck support mode"
   ]
  },
  {
   "cell_type": "code",
   "execution_count": 1188,
   "id": "9d841800",
   "metadata": {},
   "outputs": [
    {
     "data": {
      "text/html": [
       "<div>\n",
       "<style scoped>\n",
       "    .dataframe tbody tr th:only-of-type {\n",
       "        vertical-align: middle;\n",
       "    }\n",
       "\n",
       "    .dataframe tbody tr th {\n",
       "        vertical-align: top;\n",
       "    }\n",
       "\n",
       "    .dataframe thead th {\n",
       "        text-align: right;\n",
       "    }\n",
       "</style>\n",
       "<table border=\"1\" class=\"dataframe\">\n",
       "  <thead>\n",
       "    <tr style=\"text-align: right;\">\n",
       "      <th></th>\n",
       "      <th>min</th>\n",
       "      <th>max</th>\n",
       "      <th>mean</th>\n",
       "    </tr>\n",
       "    <tr>\n",
       "      <th>deck_sup</th>\n",
       "      <th></th>\n",
       "      <th></th>\n",
       "      <th></th>\n",
       "    </tr>\n",
       "  </thead>\n",
       "  <tbody>\n",
       "    <tr>\n",
       "      <th>Playable</th>\n",
       "      <td>14</td>\n",
       "      <td>6685816</td>\n",
       "      <td>28112.490094</td>\n",
       "    </tr>\n",
       "    <tr>\n",
       "      <th>Unknown</th>\n",
       "      <td>797</td>\n",
       "      <td>21622</td>\n",
       "      <td>11209.500000</td>\n",
       "    </tr>\n",
       "    <tr>\n",
       "      <th>Unsupported</th>\n",
       "      <td>18</td>\n",
       "      <td>2083747</td>\n",
       "      <td>24944.067864</td>\n",
       "    </tr>\n",
       "    <tr>\n",
       "      <th>Verified</th>\n",
       "      <td>13</td>\n",
       "      <td>812431</td>\n",
       "      <td>20731.117175</td>\n",
       "    </tr>\n",
       "    <tr>\n",
       "      <th>missing</th>\n",
       "      <td>0</td>\n",
       "      <td>1289530</td>\n",
       "      <td>3031.603490</td>\n",
       "    </tr>\n",
       "  </tbody>\n",
       "</table>\n",
       "</div>"
      ],
      "text/plain": [
       "             min      max          mean\n",
       "deck_sup                               \n",
       "Playable      14  6685816  28112.490094\n",
       "Unknown      797    21622  11209.500000\n",
       "Unsupported   18  2083747  24944.067864\n",
       "Verified      13   812431  20731.117175\n",
       "missing        0  1289530   3031.603490"
      ]
     },
     "execution_count": 1188,
     "metadata": {},
     "output_type": "execute_result"
    }
   ],
   "source": [
    "df1.groupby('deck_sup')['review_count'].agg(['min','max','mean'])"
   ]
  },
  {
   "cell_type": "markdown",
   "id": "d520b5cb",
   "metadata": {},
   "source": [
    "### 5.3 Min, max, and average price for each rating category"
   ]
  },
  {
   "cell_type": "code",
   "execution_count": 1203,
   "id": "a74c078d",
   "metadata": {},
   "outputs": [
    {
     "data": {
      "text/html": [
       "<div>\n",
       "<style scoped>\n",
       "    .dataframe tbody tr th:only-of-type {\n",
       "        vertical-align: middle;\n",
       "    }\n",
       "\n",
       "    .dataframe tbody tr th {\n",
       "        vertical-align: top;\n",
       "    }\n",
       "\n",
       "    .dataframe thead th {\n",
       "        text-align: right;\n",
       "    }\n",
       "</style>\n",
       "<table border=\"1\" class=\"dataframe\">\n",
       "  <thead>\n",
       "    <tr style=\"text-align: right;\">\n",
       "      <th></th>\n",
       "      <th>min</th>\n",
       "      <th>max</th>\n",
       "      <th>mean</th>\n",
       "    </tr>\n",
       "    <tr>\n",
       "      <th>rating</th>\n",
       "      <th></th>\n",
       "      <th></th>\n",
       "      <th></th>\n",
       "    </tr>\n",
       "  </thead>\n",
       "  <tbody>\n",
       "    <tr>\n",
       "      <th>ao</th>\n",
       "      <td>6.69</td>\n",
       "      <td>6.69</td>\n",
       "      <td>6.690000</td>\n",
       "    </tr>\n",
       "    <tr>\n",
       "      <th>e</th>\n",
       "      <td>0.00</td>\n",
       "      <td>89.99</td>\n",
       "      <td>24.445515</td>\n",
       "    </tr>\n",
       "    <tr>\n",
       "      <th>e10</th>\n",
       "      <td>0.00</td>\n",
       "      <td>79.99</td>\n",
       "      <td>24.195923</td>\n",
       "    </tr>\n",
       "    <tr>\n",
       "      <th>m</th>\n",
       "      <td>0.00</td>\n",
       "      <td>109.99</td>\n",
       "      <td>29.505226</td>\n",
       "    </tr>\n",
       "    <tr>\n",
       "      <th>missing</th>\n",
       "      <td>0.00</td>\n",
       "      <td>659.00</td>\n",
       "      <td>16.720862</td>\n",
       "    </tr>\n",
       "    <tr>\n",
       "      <th>rp</th>\n",
       "      <td>64.99</td>\n",
       "      <td>64.99</td>\n",
       "      <td>64.990000</td>\n",
       "    </tr>\n",
       "    <tr>\n",
       "      <th>t</th>\n",
       "      <td>0.00</td>\n",
       "      <td>139.99</td>\n",
       "      <td>30.505315</td>\n",
       "    </tr>\n",
       "  </tbody>\n",
       "</table>\n",
       "</div>"
      ],
      "text/plain": [
       "           min     max       mean\n",
       "rating                           \n",
       "ao        6.69    6.69   6.690000\n",
       "e         0.00   89.99  24.445515\n",
       "e10       0.00   79.99  24.195923\n",
       "m         0.00  109.99  29.505226\n",
       "missing   0.00  659.00  16.720862\n",
       "rp       64.99   64.99  64.990000\n",
       "t         0.00  139.99  30.505315"
      ]
     },
     "execution_count": 1203,
     "metadata": {},
     "output_type": "execute_result"
    }
   ],
   "source": [
    "df1.groupby('rating')['price'].agg(['min','max','mean'])"
   ]
  },
  {
   "cell_type": "markdown",
   "id": "8f2d0f6e",
   "metadata": {},
   "source": [
    "### 5.3.1 Number of games per rating category"
   ]
  },
  {
   "cell_type": "code",
   "execution_count": 1190,
   "id": "3c20932a",
   "metadata": {},
   "outputs": [
    {
     "data": {
      "text/html": [
       "<div>\n",
       "<style scoped>\n",
       "    .dataframe tbody tr th:only-of-type {\n",
       "        vertical-align: middle;\n",
       "    }\n",
       "\n",
       "    .dataframe tbody tr th {\n",
       "        vertical-align: top;\n",
       "    }\n",
       "\n",
       "    .dataframe thead th {\n",
       "        text-align: right;\n",
       "    }\n",
       "</style>\n",
       "<table border=\"1\" class=\"dataframe\">\n",
       "  <thead>\n",
       "    <tr style=\"text-align: right;\">\n",
       "      <th></th>\n",
       "      <th>count</th>\n",
       "    </tr>\n",
       "    <tr>\n",
       "      <th>rating</th>\n",
       "      <th></th>\n",
       "    </tr>\n",
       "  </thead>\n",
       "  <tbody>\n",
       "    <tr>\n",
       "      <th>ao</th>\n",
       "      <td>1</td>\n",
       "    </tr>\n",
       "    <tr>\n",
       "      <th>e</th>\n",
       "      <td>136</td>\n",
       "    </tr>\n",
       "    <tr>\n",
       "      <th>e10</th>\n",
       "      <td>130</td>\n",
       "    </tr>\n",
       "    <tr>\n",
       "      <th>m</th>\n",
       "      <td>310</td>\n",
       "    </tr>\n",
       "    <tr>\n",
       "      <th>missing</th>\n",
       "      <td>4097</td>\n",
       "    </tr>\n",
       "    <tr>\n",
       "      <th>rp</th>\n",
       "      <td>1</td>\n",
       "    </tr>\n",
       "    <tr>\n",
       "      <th>t</th>\n",
       "      <td>333</td>\n",
       "    </tr>\n",
       "  </tbody>\n",
       "</table>\n",
       "</div>"
      ],
      "text/plain": [
       "         count\n",
       "rating        \n",
       "ao           1\n",
       "e          136\n",
       "e10        130\n",
       "m          310\n",
       "missing   4097\n",
       "rp           1\n",
       "t          333"
      ]
     },
     "execution_count": 1190,
     "metadata": {},
     "output_type": "execute_result"
    }
   ],
   "source": [
    "df1.groupby('rating')['name'].agg(['count'])"
   ]
  },
  {
   "cell_type": "markdown",
   "id": "bad55f14",
   "metadata": {},
   "source": [
    "### 5.4 Number of games vs Price"
   ]
  },
  {
   "cell_type": "code",
   "execution_count": 898,
   "id": "afac811b",
   "metadata": {},
   "outputs": [],
   "source": [
    "# make copy of df\n",
    "g2 = df1.copy()"
   ]
  },
  {
   "cell_type": "code",
   "execution_count": 1206,
   "id": "8d8af23a",
   "metadata": {},
   "outputs": [
    {
     "data": {
      "image/png": "[encoded data removed]",
      "text/plain": [
       "<Figure size 432x288 with 1 Axes>"
      ]
     },
     "metadata": {
      "needs_background": "light"
     },
     "output_type": "display_data"
    }
   ],
   "source": [
    "g2['price'].plot(kind='hist',range=[0,150],bins=20)\n",
    "plt.xlabel('Price', fontsize=12)\n",
    "plt.ylabel('Number of Games',fontsize=10);"
   ]
  },
  {
   "cell_type": "markdown",
   "id": "cbc4938d",
   "metadata": {},
   "source": [
    "### 5.5 Reviews and Price Range"
   ]
  },
  {
   "cell_type": "code",
   "execution_count": 923,
   "id": "d4c4866e",
   "metadata": {},
   "outputs": [],
   "source": [
    "# find price range and compare with reviews\n",
    "# first make new tables from original table separated by price range"
   ]
  },
  {
   "cell_type": "code",
   "execution_count": 931,
   "id": "ccc1c0b6",
   "metadata": {
    "collapsed": true
   },
   "outputs": [
    {
     "data": {
      "text/html": [
       "<div>\n",
       "<style scoped>\n",
       "    .dataframe tbody tr th:only-of-type {\n",
       "        vertical-align: middle;\n",
       "    }\n",
       "\n",
       "    .dataframe tbody tr th {\n",
       "        vertical-align: top;\n",
       "    }\n",
       "\n",
       "    .dataframe thead th {\n",
       "        text-align: right;\n",
       "    }\n",
       "</style>\n",
       "<table border=\"1\" class=\"dataframe\">\n",
       "  <thead>\n",
       "    <tr style=\"text-align: right;\">\n",
       "      <th></th>\n",
       "      <th>name</th>\n",
       "      <th>price</th>\n",
       "      <th>discount_price</th>\n",
       "      <th>release_date</th>\n",
       "      <th>review_count</th>\n",
       "      <th>review_quality</th>\n",
       "      <th>genre</th>\n",
       "      <th>rating</th>\n",
       "      <th>dev</th>\n",
       "      <th>publisher</th>\n",
       "      <th>player_sup</th>\n",
       "      <th>deck_sup</th>\n",
       "    </tr>\n",
       "  </thead>\n",
       "  <tbody>\n",
       "    <tr>\n",
       "      <th>6</th>\n",
       "      <td>Valve Index® Headset</td>\n",
       "      <td>659.00</td>\n",
       "      <td>659.0</td>\n",
       "      <td>missing</td>\n",
       "      <td>0</td>\n",
       "      <td>missing</td>\n",
       "      <td>missing</td>\n",
       "      <td>missing</td>\n",
       "      <td>missing</td>\n",
       "      <td>missing</td>\n",
       "      <td>missing</td>\n",
       "      <td>missing</td>\n",
       "    </tr>\n",
       "    <tr>\n",
       "      <th>198</th>\n",
       "      <td>Valve Index® Controllers</td>\n",
       "      <td>369.00</td>\n",
       "      <td>369.0</td>\n",
       "      <td>missing</td>\n",
       "      <td>0</td>\n",
       "      <td>missing</td>\n",
       "      <td>missing</td>\n",
       "      <td>missing</td>\n",
       "      <td>missing</td>\n",
       "      <td>missing</td>\n",
       "      <td>missing</td>\n",
       "      <td>missing</td>\n",
       "    </tr>\n",
       "    <tr>\n",
       "      <th>2517</th>\n",
       "      <td>Sid Meier's Civilization® VI: Nubia Civilizati...</td>\n",
       "      <td>265.35</td>\n",
       "      <td>24.5</td>\n",
       "      <td>2017-07-27 00:00:00</td>\n",
       "      <td>326</td>\n",
       "      <td>Mostly Negative</td>\n",
       "      <td>Strategy</td>\n",
       "      <td>missing</td>\n",
       "      <td>Firaxis Games</td>\n",
       "      <td>2K</td>\n",
       "      <td>Single-player</td>\n",
       "      <td>missing</td>\n",
       "    </tr>\n",
       "    <tr>\n",
       "      <th>1915</th>\n",
       "      <td>Sid Meier's Civilization® VI: Khmer and Indone...</td>\n",
       "      <td>265.35</td>\n",
       "      <td>24.5</td>\n",
       "      <td>2017-10-19 00:00:00</td>\n",
       "      <td>286</td>\n",
       "      <td>Mixed</td>\n",
       "      <td>Strategy</td>\n",
       "      <td>missing</td>\n",
       "      <td>Firaxis Games</td>\n",
       "      <td>2K</td>\n",
       "      <td>Single-player</td>\n",
       "      <td>missing</td>\n",
       "    </tr>\n",
       "    <tr>\n",
       "      <th>1749</th>\n",
       "      <td>Sid Meier's Civilization® VI: Persia and Maced...</td>\n",
       "      <td>265.35</td>\n",
       "      <td>24.5</td>\n",
       "      <td>2017-03-28 00:00:00</td>\n",
       "      <td>497</td>\n",
       "      <td>Mostly Negative</td>\n",
       "      <td>Strategy</td>\n",
       "      <td>missing</td>\n",
       "      <td>Firaxis Games</td>\n",
       "      <td>2K</td>\n",
       "      <td>Single-player</td>\n",
       "      <td>missing</td>\n",
       "    </tr>\n",
       "    <tr>\n",
       "      <th>...</th>\n",
       "      <td>...</td>\n",
       "      <td>...</td>\n",
       "      <td>...</td>\n",
       "      <td>...</td>\n",
       "      <td>...</td>\n",
       "      <td>...</td>\n",
       "      <td>...</td>\n",
       "      <td>...</td>\n",
       "      <td>...</td>\n",
       "      <td>...</td>\n",
       "      <td>...</td>\n",
       "      <td>...</td>\n",
       "    </tr>\n",
       "    <tr>\n",
       "      <th>2640</th>\n",
       "      <td>School of Dragons</td>\n",
       "      <td>0.00</td>\n",
       "      <td>0.0</td>\n",
       "      <td>2014-12-04 00:00:00</td>\n",
       "      <td>4977</td>\n",
       "      <td>Mixed</td>\n",
       "      <td>Adventure, Free to Play, Massively Multiplayer...</td>\n",
       "      <td>e</td>\n",
       "      <td>JumpStart Games, Inc.</td>\n",
       "      <td>JumpStart Games, Inc.</td>\n",
       "      <td>MMO</td>\n",
       "      <td>Playable</td>\n",
       "    </tr>\n",
       "    <tr>\n",
       "      <th>2678</th>\n",
       "      <td>Aim Lab</td>\n",
       "      <td>0.00</td>\n",
       "      <td>0.0</td>\n",
       "      <td>2018-02-07 00:00:00</td>\n",
       "      <td>77394</td>\n",
       "      <td>Very Positive</td>\n",
       "      <td>Action, Adventure, Casual, Free to Play, Indie...</td>\n",
       "      <td>missing</td>\n",
       "      <td>Statespace</td>\n",
       "      <td>Statespace</td>\n",
       "      <td>Single-player</td>\n",
       "      <td>Unsupported</td>\n",
       "    </tr>\n",
       "    <tr>\n",
       "      <th>2686</th>\n",
       "      <td>Guarding Goddess</td>\n",
       "      <td>0.00</td>\n",
       "      <td>0.0</td>\n",
       "      <td>2022-09-27 00:00:00</td>\n",
       "      <td>73</td>\n",
       "      <td>Mostly Positive</td>\n",
       "      <td>Action, Adventure, Casual, Free to Play, Indie...</td>\n",
       "      <td>missing</td>\n",
       "      <td>Goddess</td>\n",
       "      <td>Goddess</td>\n",
       "      <td>MMO</td>\n",
       "      <td>missing</td>\n",
       "    </tr>\n",
       "    <tr>\n",
       "      <th>2715</th>\n",
       "      <td>Toribash</td>\n",
       "      <td>0.00</td>\n",
       "      <td>0.0</td>\n",
       "      <td>2006-03-01 00:00:00</td>\n",
       "      <td>15518</td>\n",
       "      <td>Very Positive</td>\n",
       "      <td>Action, Free to Play, Indie, Strategy</td>\n",
       "      <td>missing</td>\n",
       "      <td>Nabi Studios</td>\n",
       "      <td>Nicalis, Inc.</td>\n",
       "      <td>Single-player</td>\n",
       "      <td>Playable</td>\n",
       "    </tr>\n",
       "    <tr>\n",
       "      <th>2504</th>\n",
       "      <td>Incremental Epic Hero 2</td>\n",
       "      <td>0.00</td>\n",
       "      <td>0.0</td>\n",
       "      <td>2022-07-22 00:00:00</td>\n",
       "      <td>493</td>\n",
       "      <td>Mixed</td>\n",
       "      <td>Adventure, Free to Play, Indie, RPG, Strategy,...</td>\n",
       "      <td>missing</td>\n",
       "      <td>Hapiwaku</td>\n",
       "      <td>Idle System, Inc.</td>\n",
       "      <td>Single-player</td>\n",
       "      <td>missing</td>\n",
       "    </tr>\n",
       "  </tbody>\n",
       "</table>\n",
       "<p>5008 rows × 12 columns</p>\n",
       "</div>"
      ],
      "text/plain": [
       "                                                   name   price  \\\n",
       "6                                  Valve Index® Headset  659.00   \n",
       "198                            Valve Index® Controllers  369.00   \n",
       "2517  Sid Meier's Civilization® VI: Nubia Civilizati...  265.35   \n",
       "1915  Sid Meier's Civilization® VI: Khmer and Indone...  265.35   \n",
       "1749  Sid Meier's Civilization® VI: Persia and Maced...  265.35   \n",
       "...                                                 ...     ...   \n",
       "2640                                  School of Dragons    0.00   \n",
       "2678                                            Aim Lab    0.00   \n",
       "2686                                   Guarding Goddess    0.00   \n",
       "2715                                           Toribash    0.00   \n",
       "2504                            Incremental Epic Hero 2    0.00   \n",
       "\n",
       "      discount_price         release_date  review_count   review_quality  \\\n",
       "6              659.0              missing             0          missing   \n",
       "198            369.0              missing             0          missing   \n",
       "2517            24.5  2017-07-27 00:00:00           326  Mostly Negative   \n",
       "1915            24.5  2017-10-19 00:00:00           286            Mixed   \n",
       "1749            24.5  2017-03-28 00:00:00           497  Mostly Negative   \n",
       "...              ...                  ...           ...              ...   \n",
       "2640             0.0  2014-12-04 00:00:00          4977            Mixed   \n",
       "2678             0.0  2018-02-07 00:00:00         77394    Very Positive   \n",
       "2686             0.0  2022-09-27 00:00:00            73  Mostly Positive   \n",
       "2715             0.0  2006-03-01 00:00:00         15518    Very Positive   \n",
       "2504             0.0  2022-07-22 00:00:00           493            Mixed   \n",
       "\n",
       "                                                  genre   rating  \\\n",
       "6                                               missing  missing   \n",
       "198                                             missing  missing   \n",
       "2517                                           Strategy  missing   \n",
       "1915                                           Strategy  missing   \n",
       "1749                                           Strategy  missing   \n",
       "...                                                 ...      ...   \n",
       "2640  Adventure, Free to Play, Massively Multiplayer...        e   \n",
       "2678  Action, Adventure, Casual, Free to Play, Indie...  missing   \n",
       "2686  Action, Adventure, Casual, Free to Play, Indie...  missing   \n",
       "2715              Action, Free to Play, Indie, Strategy  missing   \n",
       "2504  Adventure, Free to Play, Indie, RPG, Strategy,...  missing   \n",
       "\n",
       "                        dev              publisher     player_sup     deck_sup  \n",
       "6                   missing                missing        missing      missing  \n",
       "198                 missing                missing        missing      missing  \n",
       "2517          Firaxis Games                     2K  Single-player      missing  \n",
       "1915          Firaxis Games                     2K  Single-player      missing  \n",
       "1749          Firaxis Games                     2K  Single-player      missing  \n",
       "...                     ...                    ...            ...          ...  \n",
       "2640  JumpStart Games, Inc.  JumpStart Games, Inc.            MMO     Playable  \n",
       "2678             Statespace             Statespace  Single-player  Unsupported  \n",
       "2686                Goddess                Goddess            MMO      missing  \n",
       "2715           Nabi Studios          Nicalis, Inc.  Single-player     Playable  \n",
       "2504               Hapiwaku      Idle System, Inc.  Single-player      missing  \n",
       "\n",
       "[5008 rows x 12 columns]"
      ]
     },
     "execution_count": 931,
     "metadata": {},
     "output_type": "execute_result"
    }
   ],
   "source": [
    "g2.sort_values('price',ascending=False)"
   ]
  },
  {
   "cell_type": "code",
   "execution_count": 975,
   "id": "0d53d3a4",
   "metadata": {},
   "outputs": [],
   "source": [
    "p1 = g2[(g2['price']>=0) & (g2['price']<10)]"
   ]
  },
  {
   "cell_type": "code",
   "execution_count": 978,
   "id": "821e0d1f",
   "metadata": {},
   "outputs": [],
   "source": [
    "p2 = g2[(g2['price']>=10) & (g2['price']<20)]"
   ]
  },
  {
   "cell_type": "code",
   "execution_count": 979,
   "id": "80d40ad2",
   "metadata": {},
   "outputs": [],
   "source": [
    "p3 = g2[(g2['price']>=20) & (g2['price']<30)]"
   ]
  },
  {
   "cell_type": "code",
   "execution_count": 980,
   "id": "3371678f",
   "metadata": {},
   "outputs": [],
   "source": [
    "p4 = g2[(g2['price']>=30) & (g2['price']<40)]"
   ]
  },
  {
   "cell_type": "code",
   "execution_count": 981,
   "id": "a60e56ab",
   "metadata": {},
   "outputs": [],
   "source": [
    "p5 = g2[(g2['price']>=40) & (g2['price']<50)]"
   ]
  },
  {
   "cell_type": "code",
   "execution_count": 982,
   "id": "077c40eb",
   "metadata": {},
   "outputs": [],
   "source": [
    "p6 = g2[(g2['price']>=50) & (g2['price']<60)]"
   ]
  },
  {
   "cell_type": "code",
   "execution_count": 983,
   "id": "0274c1b4",
   "metadata": {},
   "outputs": [],
   "source": [
    "p7 = g2[(g2['price']>=60) & (g2['price']<70)]"
   ]
  },
  {
   "cell_type": "code",
   "execution_count": 984,
   "id": "dcd5883d",
   "metadata": {},
   "outputs": [],
   "source": [
    "p8 = g2[(g2['price']>=70) & (g2['price']<80)]"
   ]
  },
  {
   "cell_type": "code",
   "execution_count": 985,
   "id": "feb60144",
   "metadata": {},
   "outputs": [],
   "source": [
    "p9 = g2[(g2['price']>=80) & (g2['price']<100)]"
   ]
  },
  {
   "cell_type": "code",
   "execution_count": 986,
   "id": "2c4481b7",
   "metadata": {},
   "outputs": [],
   "source": [
    "p10 = g2[(g2['price']>=100) & (g2['price']<200)]"
   ]
  },
  {
   "cell_type": "code",
   "execution_count": 987,
   "id": "8212a6ba",
   "metadata": {},
   "outputs": [],
   "source": [
    "p11 = g2[g2['price']>=200]"
   ]
  },
  {
   "cell_type": "code",
   "execution_count": 961,
   "id": "6c6b43b7",
   "metadata": {
    "collapsed": true
   },
   "outputs": [
    {
     "data": {
      "text/html": [
       "<div>\n",
       "<style scoped>\n",
       "    .dataframe tbody tr th:only-of-type {\n",
       "        vertical-align: middle;\n",
       "    }\n",
       "\n",
       "    .dataframe tbody tr th {\n",
       "        vertical-align: top;\n",
       "    }\n",
       "\n",
       "    .dataframe thead th {\n",
       "        text-align: right;\n",
       "    }\n",
       "</style>\n",
       "<table border=\"1\" class=\"dataframe\">\n",
       "  <thead>\n",
       "    <tr style=\"text-align: right;\">\n",
       "      <th></th>\n",
       "      <th>name</th>\n",
       "      <th>price</th>\n",
       "      <th>discount_price</th>\n",
       "      <th>release_date</th>\n",
       "      <th>review_count</th>\n",
       "      <th>review_quality</th>\n",
       "      <th>genre</th>\n",
       "      <th>rating</th>\n",
       "      <th>dev</th>\n",
       "      <th>publisher</th>\n",
       "      <th>player_sup</th>\n",
       "      <th>deck_sup</th>\n",
       "      <th>price_range</th>\n",
       "    </tr>\n",
       "  </thead>\n",
       "  <tbody>\n",
       "    <tr>\n",
       "      <th>45</th>\n",
       "      <td>ELEX II</td>\n",
       "      <td>2.49</td>\n",
       "      <td>2.49</td>\n",
       "      <td>2022-03-01 00:00:00</td>\n",
       "      <td>2224</td>\n",
       "      <td>Mostly Positive</td>\n",
       "      <td>Action, Adventure, RPG</td>\n",
       "      <td>m</td>\n",
       "      <td>Piranha Bytes</td>\n",
       "      <td>THQ Nordic</td>\n",
       "      <td>Single-player</td>\n",
       "      <td>Unsupported</td>\n",
       "      <td>0-10</td>\n",
       "    </tr>\n",
       "    <tr>\n",
       "      <th>53</th>\n",
       "      <td>ELEX</td>\n",
       "      <td>2.87</td>\n",
       "      <td>2.87</td>\n",
       "      <td>2017-10-17 00:00:00</td>\n",
       "      <td>10934</td>\n",
       "      <td>Mostly Positive</td>\n",
       "      <td>Action, Adventure, RPG</td>\n",
       "      <td>m</td>\n",
       "      <td>Piranha Bytes</td>\n",
       "      <td>THQ Nordic</td>\n",
       "      <td>Single-player</td>\n",
       "      <td>Playable</td>\n",
       "      <td>0-10</td>\n",
       "    </tr>\n",
       "    <tr>\n",
       "      <th>80</th>\n",
       "      <td>Sonic Mania</td>\n",
       "      <td>3.49</td>\n",
       "      <td>3.49</td>\n",
       "      <td>2017-08-29 00:00:00</td>\n",
       "      <td>17752</td>\n",
       "      <td>Very Positive</td>\n",
       "      <td>Action, Adventure, Casual</td>\n",
       "      <td>e</td>\n",
       "      <td>Christian Whitehead</td>\n",
       "      <td>SEGA</td>\n",
       "      <td>Single-player</td>\n",
       "      <td>Verified</td>\n",
       "      <td>0-10</td>\n",
       "    </tr>\n",
       "    <tr>\n",
       "      <th>89</th>\n",
       "      <td>Among Us</td>\n",
       "      <td>5.69</td>\n",
       "      <td>5.69</td>\n",
       "      <td>2018-11-16 00:00:00</td>\n",
       "      <td>560343</td>\n",
       "      <td>Very Positive</td>\n",
       "      <td>Casual</td>\n",
       "      <td>missing</td>\n",
       "      <td>Innersloth</td>\n",
       "      <td>Innersloth</td>\n",
       "      <td>Online PvP</td>\n",
       "      <td>Playable</td>\n",
       "      <td>0-10</td>\n",
       "    </tr>\n",
       "    <tr>\n",
       "      <th>91</th>\n",
       "      <td>Travellers Rest</td>\n",
       "      <td>3.72</td>\n",
       "      <td>3.72</td>\n",
       "      <td>2020-07-28 00:00:00</td>\n",
       "      <td>3322</td>\n",
       "      <td>Very Positive</td>\n",
       "      <td>Adventure, Casual, Indie, RPG, Simulation, Ear...</td>\n",
       "      <td>missing</td>\n",
       "      <td>Isolated Games</td>\n",
       "      <td>Isolated Games</td>\n",
       "      <td>Single-player</td>\n",
       "      <td>Verified</td>\n",
       "      <td>0-10</td>\n",
       "    </tr>\n",
       "    <tr>\n",
       "      <th>...</th>\n",
       "      <td>...</td>\n",
       "      <td>...</td>\n",
       "      <td>...</td>\n",
       "      <td>...</td>\n",
       "      <td>...</td>\n",
       "      <td>...</td>\n",
       "      <td>...</td>\n",
       "      <td>...</td>\n",
       "      <td>...</td>\n",
       "      <td>...</td>\n",
       "      <td>...</td>\n",
       "      <td>...</td>\n",
       "      <td>...</td>\n",
       "    </tr>\n",
       "    <tr>\n",
       "      <th>5002</th>\n",
       "      <td>Nancy Drew®: The Haunting of Castle Malloy</td>\n",
       "      <td>7.99</td>\n",
       "      <td>7.99</td>\n",
       "      <td>2009-03-01 00:00:00</td>\n",
       "      <td>120</td>\n",
       "      <td>Very Positive</td>\n",
       "      <td>Adventure</td>\n",
       "      <td>e</td>\n",
       "      <td>HeR Interactive</td>\n",
       "      <td>HeR Interactive</td>\n",
       "      <td>Single-player</td>\n",
       "      <td>Unsupported</td>\n",
       "      <td>0-10</td>\n",
       "    </tr>\n",
       "    <tr>\n",
       "      <th>5003</th>\n",
       "      <td>Caravaneer 2</td>\n",
       "      <td>6.69</td>\n",
       "      <td>6.69</td>\n",
       "      <td>2014-12-07 00:00:00</td>\n",
       "      <td>293</td>\n",
       "      <td>Very Positive</td>\n",
       "      <td>Indie, RPG, Simulation, Strategy</td>\n",
       "      <td>missing</td>\n",
       "      <td>Dmitry Zheltobriukhov</td>\n",
       "      <td>Dmitry Zheltobriukhov</td>\n",
       "      <td>Single-player</td>\n",
       "      <td>Playable</td>\n",
       "      <td>0-10</td>\n",
       "    </tr>\n",
       "    <tr>\n",
       "      <th>5004</th>\n",
       "      <td>Music for The Long Dark -- Volume Two</td>\n",
       "      <td>8.99</td>\n",
       "      <td>8.99</td>\n",
       "      <td>2020-05-19 00:00:00</td>\n",
       "      <td>20</td>\n",
       "      <td>Positive</td>\n",
       "      <td>missing</td>\n",
       "      <td>missing</td>\n",
       "      <td>Hinterland Studio Inc.</td>\n",
       "      <td>Hinterland Studio</td>\n",
       "      <td>missing</td>\n",
       "      <td>missing</td>\n",
       "      <td>0-10</td>\n",
       "    </tr>\n",
       "    <tr>\n",
       "      <th>5005</th>\n",
       "      <td>Outlaws + A Handful of Missions</td>\n",
       "      <td>6.69</td>\n",
       "      <td>6.69</td>\n",
       "      <td>1997-03-31 00:00:00</td>\n",
       "      <td>435</td>\n",
       "      <td>Very Positive</td>\n",
       "      <td>Action</td>\n",
       "      <td>missing</td>\n",
       "      <td>LucasArts</td>\n",
       "      <td>Lucasfilm</td>\n",
       "      <td>Single-player</td>\n",
       "      <td>missing</td>\n",
       "      <td>0-10</td>\n",
       "    </tr>\n",
       "    <tr>\n",
       "      <th>5007</th>\n",
       "      <td>Frontline: The Great Patriotic War</td>\n",
       "      <td>6.69</td>\n",
       "      <td>2.67</td>\n",
       "      <td>2019-12-20 00:00:00</td>\n",
       "      <td>19</td>\n",
       "      <td>Positive</td>\n",
       "      <td>Action, Adventure, Casual, Indie, Simulation, ...</td>\n",
       "      <td>missing</td>\n",
       "      <td>Frontline: Games Series</td>\n",
       "      <td>Frontline: Games Series</td>\n",
       "      <td>Single-player</td>\n",
       "      <td>missing</td>\n",
       "      <td>0-10</td>\n",
       "    </tr>\n",
       "  </tbody>\n",
       "</table>\n",
       "<p>1513 rows × 13 columns</p>\n",
       "</div>"
      ],
      "text/plain": [
       "                                            name  price  discount_price  \\\n",
       "45                                       ELEX II   2.49            2.49   \n",
       "53                                          ELEX   2.87            2.87   \n",
       "80                                   Sonic Mania   3.49            3.49   \n",
       "89                                      Among Us   5.69            5.69   \n",
       "91                               Travellers Rest   3.72            3.72   \n",
       "...                                          ...    ...             ...   \n",
       "5002  Nancy Drew®: The Haunting of Castle Malloy   7.99            7.99   \n",
       "5003                                Caravaneer 2   6.69            6.69   \n",
       "5004       Music for The Long Dark -- Volume Two   8.99            8.99   \n",
       "5005             Outlaws + A Handful of Missions   6.69            6.69   \n",
       "5007          Frontline: The Great Patriotic War   6.69            2.67   \n",
       "\n",
       "             release_date  review_count   review_quality  \\\n",
       "45    2022-03-01 00:00:00          2224  Mostly Positive   \n",
       "53    2017-10-17 00:00:00         10934  Mostly Positive   \n",
       "80    2017-08-29 00:00:00         17752    Very Positive   \n",
       "89    2018-11-16 00:00:00        560343    Very Positive   \n",
       "91    2020-07-28 00:00:00          3322    Very Positive   \n",
       "...                   ...           ...              ...   \n",
       "5002  2009-03-01 00:00:00           120    Very Positive   \n",
       "5003  2014-12-07 00:00:00           293    Very Positive   \n",
       "5004  2020-05-19 00:00:00            20         Positive   \n",
       "5005  1997-03-31 00:00:00           435    Very Positive   \n",
       "5007  2019-12-20 00:00:00            19         Positive   \n",
       "\n",
       "                                                  genre   rating  \\\n",
       "45                               Action, Adventure, RPG        m   \n",
       "53                               Action, Adventure, RPG        m   \n",
       "80                            Action, Adventure, Casual        e   \n",
       "89                                               Casual  missing   \n",
       "91    Adventure, Casual, Indie, RPG, Simulation, Ear...  missing   \n",
       "...                                                 ...      ...   \n",
       "5002                                          Adventure        e   \n",
       "5003                   Indie, RPG, Simulation, Strategy  missing   \n",
       "5004                                            missing  missing   \n",
       "5005                                             Action  missing   \n",
       "5007  Action, Adventure, Casual, Indie, Simulation, ...  missing   \n",
       "\n",
       "                          dev                publisher     player_sup  \\\n",
       "45              Piranha Bytes               THQ Nordic  Single-player   \n",
       "53              Piranha Bytes               THQ Nordic  Single-player   \n",
       "80        Christian Whitehead                     SEGA  Single-player   \n",
       "89                 Innersloth               Innersloth     Online PvP   \n",
       "91             Isolated Games           Isolated Games  Single-player   \n",
       "...                       ...                      ...            ...   \n",
       "5002          HeR Interactive          HeR Interactive  Single-player   \n",
       "5003    Dmitry Zheltobriukhov    Dmitry Zheltobriukhov  Single-player   \n",
       "5004   Hinterland Studio Inc.        Hinterland Studio        missing   \n",
       "5005                LucasArts                Lucasfilm  Single-player   \n",
       "5007  Frontline: Games Series  Frontline: Games Series  Single-player   \n",
       "\n",
       "         deck_sup price_range  \n",
       "45    Unsupported        0-10  \n",
       "53       Playable        0-10  \n",
       "80       Verified        0-10  \n",
       "89       Playable        0-10  \n",
       "91       Verified        0-10  \n",
       "...           ...         ...  \n",
       "5002  Unsupported        0-10  \n",
       "5003     Playable        0-10  \n",
       "5004      missing        0-10  \n",
       "5005      missing        0-10  \n",
       "5007      missing        0-10  \n",
       "\n",
       "[1513 rows x 13 columns]"
      ]
     },
     "execution_count": 961,
     "metadata": {},
     "output_type": "execute_result"
    }
   ],
   "source": [
    "p1"
   ]
  },
  {
   "cell_type": "code",
   "execution_count": null,
   "id": "00834f1c",
   "metadata": {},
   "outputs": [],
   "source": [
    "# append new column to table"
   ]
  },
  {
   "cell_type": "code",
   "execution_count": 993,
   "id": "a93b276c",
   "metadata": {
    "collapsed": true
   },
   "outputs": [
    {
     "name": "stderr",
     "output_type": "stream",
     "text": [
      "C:\\Users\\yuki-\\AppData\\Local\\Temp\\ipykernel_34192\\1654641431.py:1: SettingWithCopyWarning: \n",
      "A value is trying to be set on a copy of a slice from a DataFrame.\n",
      "Try using .loc[row_indexer,col_indexer] = value instead\n",
      "\n",
      "See the caveats in the documentation: https://pandas.pydata.org/pandas-docs/stable/user_guide/indexing.html#returning-a-view-versus-a-copy\n",
      "  p2['price_range'] = '10-20'\n"
     ]
    }
   ],
   "source": [
    "p2['price_range'] = '10-20'"
   ]
  },
  {
   "cell_type": "code",
   "execution_count": 990,
   "id": "dbb0fdd3",
   "metadata": {
    "collapsed": true
   },
   "outputs": [
    {
     "name": "stderr",
     "output_type": "stream",
     "text": [
      "C:\\Users\\yuki-\\AppData\\Local\\Temp\\ipykernel_34192\\68289820.py:1: SettingWithCopyWarning: \n",
      "A value is trying to be set on a copy of a slice from a DataFrame.\n",
      "Try using .loc[row_indexer,col_indexer] = value instead\n",
      "\n",
      "See the caveats in the documentation: https://pandas.pydata.org/pandas-docs/stable/user_guide/indexing.html#returning-a-view-versus-a-copy\n",
      "  p3['price_range'] = '20-30'\n"
     ]
    }
   ],
   "source": [
    "p3['price_range'] = '20-30'"
   ]
  },
  {
   "cell_type": "code",
   "execution_count": 991,
   "id": "41df0edf",
   "metadata": {
    "collapsed": true
   },
   "outputs": [
    {
     "name": "stderr",
     "output_type": "stream",
     "text": [
      "C:\\Users\\yuki-\\AppData\\Local\\Temp\\ipykernel_34192\\208147474.py:1: SettingWithCopyWarning: \n",
      "A value is trying to be set on a copy of a slice from a DataFrame.\n",
      "Try using .loc[row_indexer,col_indexer] = value instead\n",
      "\n",
      "See the caveats in the documentation: https://pandas.pydata.org/pandas-docs/stable/user_guide/indexing.html#returning-a-view-versus-a-copy\n",
      "  p4['price_range'] = '30-40'\n"
     ]
    }
   ],
   "source": [
    "p4['price_range'] = '30-40'"
   ]
  },
  {
   "cell_type": "code",
   "execution_count": 994,
   "id": "e89a3b50",
   "metadata": {
    "collapsed": true
   },
   "outputs": [
    {
     "name": "stderr",
     "output_type": "stream",
     "text": [
      "C:\\Users\\yuki-\\AppData\\Local\\Temp\\ipykernel_34192\\3918721805.py:1: SettingWithCopyWarning: \n",
      "A value is trying to be set on a copy of a slice from a DataFrame.\n",
      "Try using .loc[row_indexer,col_indexer] = value instead\n",
      "\n",
      "See the caveats in the documentation: https://pandas.pydata.org/pandas-docs/stable/user_guide/indexing.html#returning-a-view-versus-a-copy\n",
      "  p5['price_range'] = '40-50'\n"
     ]
    }
   ],
   "source": [
    "p5['price_range'] = '40-50'"
   ]
  },
  {
   "cell_type": "code",
   "execution_count": 995,
   "id": "605d21cb",
   "metadata": {
    "collapsed": true
   },
   "outputs": [
    {
     "name": "stderr",
     "output_type": "stream",
     "text": [
      "C:\\Users\\yuki-\\AppData\\Local\\Temp\\ipykernel_34192\\2750159277.py:1: SettingWithCopyWarning: \n",
      "A value is trying to be set on a copy of a slice from a DataFrame.\n",
      "Try using .loc[row_indexer,col_indexer] = value instead\n",
      "\n",
      "See the caveats in the documentation: https://pandas.pydata.org/pandas-docs/stable/user_guide/indexing.html#returning-a-view-versus-a-copy\n",
      "  p6['price_range'] = '50-60'\n"
     ]
    }
   ],
   "source": [
    "p6['price_range'] = '50-60'"
   ]
  },
  {
   "cell_type": "code",
   "execution_count": 996,
   "id": "3fd24544",
   "metadata": {
    "collapsed": true
   },
   "outputs": [
    {
     "name": "stderr",
     "output_type": "stream",
     "text": [
      "C:\\Users\\yuki-\\AppData\\Local\\Temp\\ipykernel_34192\\1976013018.py:1: SettingWithCopyWarning: \n",
      "A value is trying to be set on a copy of a slice from a DataFrame.\n",
      "Try using .loc[row_indexer,col_indexer] = value instead\n",
      "\n",
      "See the caveats in the documentation: https://pandas.pydata.org/pandas-docs/stable/user_guide/indexing.html#returning-a-view-versus-a-copy\n",
      "  p7['price_range'] = '60-70'\n"
     ]
    }
   ],
   "source": [
    "p7['price_range'] = '60-70'"
   ]
  },
  {
   "cell_type": "code",
   "execution_count": 997,
   "id": "89377b99",
   "metadata": {
    "collapsed": true
   },
   "outputs": [
    {
     "name": "stderr",
     "output_type": "stream",
     "text": [
      "C:\\Users\\yuki-\\AppData\\Local\\Temp\\ipykernel_34192\\3369604806.py:1: SettingWithCopyWarning: \n",
      "A value is trying to be set on a copy of a slice from a DataFrame.\n",
      "Try using .loc[row_indexer,col_indexer] = value instead\n",
      "\n",
      "See the caveats in the documentation: https://pandas.pydata.org/pandas-docs/stable/user_guide/indexing.html#returning-a-view-versus-a-copy\n",
      "  p8['price_range'] = '70-80'\n"
     ]
    }
   ],
   "source": [
    "p8['price_range'] = '70-80'"
   ]
  },
  {
   "cell_type": "code",
   "execution_count": 998,
   "id": "ca320c5e",
   "metadata": {
    "collapsed": true
   },
   "outputs": [
    {
     "name": "stderr",
     "output_type": "stream",
     "text": [
      "C:\\Users\\yuki-\\AppData\\Local\\Temp\\ipykernel_34192\\229618685.py:1: SettingWithCopyWarning: \n",
      "A value is trying to be set on a copy of a slice from a DataFrame.\n",
      "Try using .loc[row_indexer,col_indexer] = value instead\n",
      "\n",
      "See the caveats in the documentation: https://pandas.pydata.org/pandas-docs/stable/user_guide/indexing.html#returning-a-view-versus-a-copy\n",
      "  p9['price_range'] = '80-100'\n"
     ]
    }
   ],
   "source": [
    "p9['price_range'] = '80-100'"
   ]
  },
  {
   "cell_type": "code",
   "execution_count": 1006,
   "id": "cef8a71c",
   "metadata": {
    "collapsed": true
   },
   "outputs": [
    {
     "name": "stderr",
     "output_type": "stream",
     "text": [
      "C:\\Users\\yuki-\\AppData\\Local\\Temp\\ipykernel_34192\\1040686607.py:1: SettingWithCopyWarning: \n",
      "A value is trying to be set on a copy of a slice from a DataFrame.\n",
      "Try using .loc[row_indexer,col_indexer] = value instead\n",
      "\n",
      "See the caveats in the documentation: https://pandas.pydata.org/pandas-docs/stable/user_guide/indexing.html#returning-a-view-versus-a-copy\n",
      "  p10['price_range'] = '<100-200'\n"
     ]
    }
   ],
   "source": [
    "p10['price_range'] = '<100-200'"
   ]
  },
  {
   "cell_type": "code",
   "execution_count": 1000,
   "id": "d2b9464f",
   "metadata": {
    "collapsed": true
   },
   "outputs": [
    {
     "name": "stderr",
     "output_type": "stream",
     "text": [
      "C:\\Users\\yuki-\\AppData\\Local\\Temp\\ipykernel_34192\\1260037515.py:1: SettingWithCopyWarning: \n",
      "A value is trying to be set on a copy of a slice from a DataFrame.\n",
      "Try using .loc[row_indexer,col_indexer] = value instead\n",
      "\n",
      "See the caveats in the documentation: https://pandas.pydata.org/pandas-docs/stable/user_guide/indexing.html#returning-a-view-versus-a-copy\n",
      "  p11['price_range'] = '>200'\n"
     ]
    }
   ],
   "source": [
    "p11['price_range'] = '>200'"
   ]
  },
  {
   "cell_type": "code",
   "execution_count": null,
   "id": "f8c23a4f",
   "metadata": {},
   "outputs": [],
   "source": [
    "# combine tables into new table"
   ]
  },
  {
   "cell_type": "code",
   "execution_count": 1007,
   "id": "d85a2cc5",
   "metadata": {},
   "outputs": [],
   "source": [
    "g3 = pd.concat([p1,p2,p3,p4,p5,p6,p7,p8,p9,p10,p11])"
   ]
  },
  {
   "cell_type": "code",
   "execution_count": null,
   "id": "c75a2f83",
   "metadata": {},
   "outputs": [],
   "source": [
    "# plot average review count vs price range"
   ]
  },
  {
   "cell_type": "code",
   "execution_count": 1207,
   "id": "fdd605b6",
   "metadata": {},
   "outputs": [
    {
     "data": {
      "image/png": "[encoded data removed]",
      "text/plain": [
       "<Figure size 432x288 with 1 Axes>"
      ]
     },
     "metadata": {
      "needs_background": "light"
     },
     "output_type": "display_data"
    }
   ],
   "source": [
    "g3.groupby('price_range')['review_count'].agg('mean').plot(kind='bar',title='Review and Price Range');\n",
    "plt.xlabel('Price Range (CDN$)', fontsize=10)\n",
    "plt.ylabel('Avg Review Count',fontsize=10);"
   ]
  },
  {
   "cell_type": "markdown",
   "id": "222f1a30",
   "metadata": {},
   "source": [
    "### 5.6 Games on Discount"
   ]
  },
  {
   "cell_type": "code",
   "execution_count": null,
   "id": "f765c81f",
   "metadata": {},
   "outputs": [],
   "source": [
    "# find out if game is on discount and append column"
   ]
  },
  {
   "cell_type": "code",
   "execution_count": 1016,
   "id": "cc5c740d",
   "metadata": {
    "collapsed": true
   },
   "outputs": [
    {
     "data": {
      "text/html": [
       "<div>\n",
       "<style scoped>\n",
       "    .dataframe tbody tr th:only-of-type {\n",
       "        vertical-align: middle;\n",
       "    }\n",
       "\n",
       "    .dataframe tbody tr th {\n",
       "        vertical-align: top;\n",
       "    }\n",
       "\n",
       "    .dataframe thead th {\n",
       "        text-align: right;\n",
       "    }\n",
       "</style>\n",
       "<table border=\"1\" class=\"dataframe\">\n",
       "  <thead>\n",
       "    <tr style=\"text-align: right;\">\n",
       "      <th></th>\n",
       "      <th>name</th>\n",
       "      <th>price</th>\n",
       "      <th>discount_price</th>\n",
       "      <th>release_date</th>\n",
       "      <th>review_count</th>\n",
       "      <th>review_quality</th>\n",
       "      <th>genre</th>\n",
       "      <th>rating</th>\n",
       "      <th>dev</th>\n",
       "      <th>publisher</th>\n",
       "      <th>player_sup</th>\n",
       "      <th>deck_sup</th>\n",
       "    </tr>\n",
       "  </thead>\n",
       "  <tbody>\n",
       "    <tr>\n",
       "      <th>14</th>\n",
       "      <td>Fallout 4</td>\n",
       "      <td>26.99</td>\n",
       "      <td>6.74</td>\n",
       "      <td>2015-11-10 00:00:00</td>\n",
       "      <td>183508</td>\n",
       "      <td>Very Positive</td>\n",
       "      <td>RPG</td>\n",
       "      <td>m</td>\n",
       "      <td>Bethesda Game Studios</td>\n",
       "      <td>Bethesda Softworks</td>\n",
       "      <td>Single-player</td>\n",
       "      <td>Playable</td>\n",
       "    </tr>\n",
       "    <tr>\n",
       "      <th>18</th>\n",
       "      <td>Total War: WARHAMMER II</td>\n",
       "      <td>71.99</td>\n",
       "      <td>24.47</td>\n",
       "      <td>2017-09-28 00:00:00</td>\n",
       "      <td>79102</td>\n",
       "      <td>Very Positive</td>\n",
       "      <td>Action, Strategy</td>\n",
       "      <td>t</td>\n",
       "      <td>CREATIVE ASSEMBLY</td>\n",
       "      <td>SEGA</td>\n",
       "      <td>Single-player</td>\n",
       "      <td>Playable</td>\n",
       "    </tr>\n",
       "    <tr>\n",
       "      <th>21</th>\n",
       "      <td>No Man's Sky</td>\n",
       "      <td>66.49</td>\n",
       "      <td>33.24</td>\n",
       "      <td>2016-08-12 00:00:00</td>\n",
       "      <td>191469</td>\n",
       "      <td>Mostly Positive</td>\n",
       "      <td>Action, Adventure</td>\n",
       "      <td>missing</td>\n",
       "      <td>Hello Games</td>\n",
       "      <td>Hello Games</td>\n",
       "      <td>Single-player</td>\n",
       "      <td>missing</td>\n",
       "    </tr>\n",
       "    <tr>\n",
       "      <th>23</th>\n",
       "      <td>HUMANKIND™</td>\n",
       "      <td>61.99</td>\n",
       "      <td>30.99</td>\n",
       "      <td>2021-08-17 00:00:00</td>\n",
       "      <td>16094</td>\n",
       "      <td>Mixed</td>\n",
       "      <td>Strategy</td>\n",
       "      <td>e10</td>\n",
       "      <td>AMPLITUDE Studios</td>\n",
       "      <td>SEGA</td>\n",
       "      <td>Single-player</td>\n",
       "      <td>Playable</td>\n",
       "    </tr>\n",
       "    <tr>\n",
       "      <th>28</th>\n",
       "      <td>American Truck Simulator</td>\n",
       "      <td>24.99</td>\n",
       "      <td>6.24</td>\n",
       "      <td>2016-02-02 00:00:00</td>\n",
       "      <td>89477</td>\n",
       "      <td>Overwhelmingly Positive</td>\n",
       "      <td>Indie, Simulation</td>\n",
       "      <td>missing</td>\n",
       "      <td>SCS Software</td>\n",
       "      <td>SCS Software</td>\n",
       "      <td>Single-player</td>\n",
       "      <td>Playable</td>\n",
       "    </tr>\n",
       "    <tr>\n",
       "      <th>...</th>\n",
       "      <td>...</td>\n",
       "      <td>...</td>\n",
       "      <td>...</td>\n",
       "      <td>...</td>\n",
       "      <td>...</td>\n",
       "      <td>...</td>\n",
       "      <td>...</td>\n",
       "      <td>...</td>\n",
       "      <td>...</td>\n",
       "      <td>...</td>\n",
       "      <td>...</td>\n",
       "      <td>...</td>\n",
       "    </tr>\n",
       "    <tr>\n",
       "      <th>4993</th>\n",
       "      <td>CoH 2 - German Commander: Encirclement Doctrine</td>\n",
       "      <td>4.49</td>\n",
       "      <td>1.12</td>\n",
       "      <td>2014-09-09 00:00:00</td>\n",
       "      <td>17</td>\n",
       "      <td>Positive</td>\n",
       "      <td>Strategy</td>\n",
       "      <td>missing</td>\n",
       "      <td>Relic Entertainment</td>\n",
       "      <td>SEGA</td>\n",
       "      <td>Single-player</td>\n",
       "      <td>missing</td>\n",
       "    </tr>\n",
       "    <tr>\n",
       "      <th>4994</th>\n",
       "      <td>CoH 2 - Soviet Commander: Soviet Industry Tactics</td>\n",
       "      <td>4.49</td>\n",
       "      <td>1.12</td>\n",
       "      <td>2013-11-12 00:00:00</td>\n",
       "      <td>35</td>\n",
       "      <td>Mixed</td>\n",
       "      <td>Strategy</td>\n",
       "      <td>missing</td>\n",
       "      <td>Relic Entertainment</td>\n",
       "      <td>SEGA</td>\n",
       "      <td>Single-player</td>\n",
       "      <td>missing</td>\n",
       "    </tr>\n",
       "    <tr>\n",
       "      <th>4995</th>\n",
       "      <td>CoH 2 - OKW Commander: Fortifications Doctrine</td>\n",
       "      <td>4.49</td>\n",
       "      <td>1.12</td>\n",
       "      <td>2014-07-23 00:00:00</td>\n",
       "      <td>36</td>\n",
       "      <td>Positive</td>\n",
       "      <td>Strategy</td>\n",
       "      <td>missing</td>\n",
       "      <td>Relic Entertainment</td>\n",
       "      <td>SEGA</td>\n",
       "      <td>Single-player</td>\n",
       "      <td>missing</td>\n",
       "    </tr>\n",
       "    <tr>\n",
       "      <th>5001</th>\n",
       "      <td>ENDLESS™ Space 2 - Original Soundtrack</td>\n",
       "      <td>7.70</td>\n",
       "      <td>3.85</td>\n",
       "      <td>2020-07-03 00:00:00</td>\n",
       "      <td>4</td>\n",
       "      <td>Other</td>\n",
       "      <td>Strategy</td>\n",
       "      <td>missing</td>\n",
       "      <td>AMPLITUDE Studios</td>\n",
       "      <td>SEGA</td>\n",
       "      <td>missing</td>\n",
       "      <td>missing</td>\n",
       "    </tr>\n",
       "    <tr>\n",
       "      <th>5007</th>\n",
       "      <td>Frontline: The Great Patriotic War</td>\n",
       "      <td>6.69</td>\n",
       "      <td>2.67</td>\n",
       "      <td>2019-12-20 00:00:00</td>\n",
       "      <td>19</td>\n",
       "      <td>Positive</td>\n",
       "      <td>Action, Adventure, Casual, Indie, Simulation, ...</td>\n",
       "      <td>missing</td>\n",
       "      <td>Frontline: Games Series</td>\n",
       "      <td>Frontline: Games Series</td>\n",
       "      <td>Single-player</td>\n",
       "      <td>missing</td>\n",
       "    </tr>\n",
       "  </tbody>\n",
       "</table>\n",
       "<p>735 rows × 12 columns</p>\n",
       "</div>"
      ],
      "text/plain": [
       "                                                   name  price  \\\n",
       "14                                            Fallout 4  26.99   \n",
       "18                              Total War: WARHAMMER II  71.99   \n",
       "21                                         No Man's Sky  66.49   \n",
       "23                                           HUMANKIND™  61.99   \n",
       "28                             American Truck Simulator  24.99   \n",
       "...                                                 ...    ...   \n",
       "4993    CoH 2 - German Commander: Encirclement Doctrine   4.49   \n",
       "4994  CoH 2 - Soviet Commander: Soviet Industry Tactics   4.49   \n",
       "4995     CoH 2 - OKW Commander: Fortifications Doctrine   4.49   \n",
       "5001             ENDLESS™ Space 2 - Original Soundtrack   7.70   \n",
       "5007                 Frontline: The Great Patriotic War   6.69   \n",
       "\n",
       "      discount_price         release_date  review_count  \\\n",
       "14              6.74  2015-11-10 00:00:00        183508   \n",
       "18             24.47  2017-09-28 00:00:00         79102   \n",
       "21             33.24  2016-08-12 00:00:00        191469   \n",
       "23             30.99  2021-08-17 00:00:00         16094   \n",
       "28              6.24  2016-02-02 00:00:00         89477   \n",
       "...              ...                  ...           ...   \n",
       "4993            1.12  2014-09-09 00:00:00            17   \n",
       "4994            1.12  2013-11-12 00:00:00            35   \n",
       "4995            1.12  2014-07-23 00:00:00            36   \n",
       "5001            3.85  2020-07-03 00:00:00             4   \n",
       "5007            2.67  2019-12-20 00:00:00            19   \n",
       "\n",
       "               review_quality  \\\n",
       "14              Very Positive   \n",
       "18              Very Positive   \n",
       "21            Mostly Positive   \n",
       "23                      Mixed   \n",
       "28    Overwhelmingly Positive   \n",
       "...                       ...   \n",
       "4993                 Positive   \n",
       "4994                    Mixed   \n",
       "4995                 Positive   \n",
       "5001                    Other   \n",
       "5007                 Positive   \n",
       "\n",
       "                                                  genre   rating  \\\n",
       "14                                                  RPG        m   \n",
       "18                                     Action, Strategy        t   \n",
       "21                                    Action, Adventure  missing   \n",
       "23                                             Strategy      e10   \n",
       "28                                    Indie, Simulation  missing   \n",
       "...                                                 ...      ...   \n",
       "4993                                           Strategy  missing   \n",
       "4994                                           Strategy  missing   \n",
       "4995                                           Strategy  missing   \n",
       "5001                                           Strategy  missing   \n",
       "5007  Action, Adventure, Casual, Indie, Simulation, ...  missing   \n",
       "\n",
       "                          dev                publisher     player_sup  \\\n",
       "14      Bethesda Game Studios       Bethesda Softworks  Single-player   \n",
       "18          CREATIVE ASSEMBLY                     SEGA  Single-player   \n",
       "21                Hello Games              Hello Games  Single-player   \n",
       "23          AMPLITUDE Studios                     SEGA  Single-player   \n",
       "28               SCS Software             SCS Software  Single-player   \n",
       "...                       ...                      ...            ...   \n",
       "4993      Relic Entertainment                     SEGA  Single-player   \n",
       "4994      Relic Entertainment                     SEGA  Single-player   \n",
       "4995      Relic Entertainment                     SEGA  Single-player   \n",
       "5001        AMPLITUDE Studios                     SEGA        missing   \n",
       "5007  Frontline: Games Series  Frontline: Games Series  Single-player   \n",
       "\n",
       "      deck_sup  \n",
       "14    Playable  \n",
       "18    Playable  \n",
       "21     missing  \n",
       "23    Playable  \n",
       "28    Playable  \n",
       "...        ...  \n",
       "4993   missing  \n",
       "4994   missing  \n",
       "4995   missing  \n",
       "5001   missing  \n",
       "5007   missing  \n",
       "\n",
       "[735 rows x 12 columns]"
      ]
     },
     "execution_count": 1016,
     "metadata": {},
     "output_type": "execute_result"
    }
   ],
   "source": [
    "g2[g2['discount_price'] != g2['price']]"
   ]
  },
  {
   "cell_type": "code",
   "execution_count": 1030,
   "id": "ef625af3",
   "metadata": {},
   "outputs": [],
   "source": [
    "# assign to new table\n",
    "d1 = g2[g2['discount_price'] != g2['price']]"
   ]
  },
  {
   "cell_type": "code",
   "execution_count": 1031,
   "id": "4f077736",
   "metadata": {
    "collapsed": true
   },
   "outputs": [
    {
     "name": "stderr",
     "output_type": "stream",
     "text": [
      "C:\\Users\\yuki-\\AppData\\Local\\Temp\\ipykernel_34192\\285556358.py:1: SettingWithCopyWarning: \n",
      "A value is trying to be set on a copy of a slice from a DataFrame.\n",
      "Try using .loc[row_indexer,col_indexer] = value instead\n",
      "\n",
      "See the caveats in the documentation: https://pandas.pydata.org/pandas-docs/stable/user_guide/indexing.html#returning-a-view-versus-a-copy\n",
      "  d1['on_discount'] = 'Yes'\n"
     ]
    }
   ],
   "source": [
    "# add new column to indicate if game is on sale\n",
    "d1['on_discount'] = 'Yes'"
   ]
  },
  {
   "cell_type": "code",
   "execution_count": 1027,
   "id": "b31ff3c1",
   "metadata": {},
   "outputs": [],
   "source": [
    "d2 = g2[g2['discount_price'] == g2['price']]"
   ]
  },
  {
   "cell_type": "code",
   "execution_count": 1029,
   "id": "ec456d06",
   "metadata": {
    "collapsed": true
   },
   "outputs": [
    {
     "name": "stderr",
     "output_type": "stream",
     "text": [
      "C:\\Users\\yuki-\\AppData\\Local\\Temp\\ipykernel_34192\\652282144.py:1: SettingWithCopyWarning: \n",
      "A value is trying to be set on a copy of a slice from a DataFrame.\n",
      "Try using .loc[row_indexer,col_indexer] = value instead\n",
      "\n",
      "See the caveats in the documentation: https://pandas.pydata.org/pandas-docs/stable/user_guide/indexing.html#returning-a-view-versus-a-copy\n",
      "  d2['on_discount'] = 'No'\n"
     ]
    }
   ],
   "source": [
    "d2['on_discount'] = 'No'"
   ]
  },
  {
   "cell_type": "code",
   "execution_count": 1023,
   "id": "bdeeb425",
   "metadata": {},
   "outputs": [],
   "source": [
    "# calculate the percentage of discount\n",
    "def find_discount(p,dp):\n",
    "    return round((p-dp)/p *100)"
   ]
  },
  {
   "cell_type": "code",
   "execution_count": 1035,
   "id": "4f0eef2b",
   "metadata": {
    "collapsed": true
   },
   "outputs": [
    {
     "name": "stderr",
     "output_type": "stream",
     "text": [
      "C:\\Users\\yuki-\\AppData\\Local\\Temp\\ipykernel_34192\\178073348.py:1: SettingWithCopyWarning: \n",
      "A value is trying to be set on a copy of a slice from a DataFrame.\n",
      "Try using .loc[row_indexer,col_indexer] = value instead\n",
      "\n",
      "See the caveats in the documentation: https://pandas.pydata.org/pandas-docs/stable/user_guide/indexing.html#returning-a-view-versus-a-copy\n",
      "  d1['percentage_discount'] = d1[['price','discount_price']].apply(lambda x: find_discount(x['price'],x['discount_price']),axis=1)\n"
     ]
    }
   ],
   "source": [
    "d1['percentage_discount'] = d1[['price','discount_price']].apply(lambda x: find_discount(x['price'],x['discount_price']),axis=1)"
   ]
  },
  {
   "cell_type": "code",
   "execution_count": 1037,
   "id": "b01b5603",
   "metadata": {
    "collapsed": true
   },
   "outputs": [
    {
     "name": "stderr",
     "output_type": "stream",
     "text": [
      "C:\\Users\\yuki-\\AppData\\Local\\Temp\\ipykernel_34192\\905582899.py:1: SettingWithCopyWarning: \n",
      "A value is trying to be set on a copy of a slice from a DataFrame.\n",
      "Try using .loc[row_indexer,col_indexer] = value instead\n",
      "\n",
      "See the caveats in the documentation: https://pandas.pydata.org/pandas-docs/stable/user_guide/indexing.html#returning-a-view-versus-a-copy\n",
      "  d2['percentage_discount'] = 0\n"
     ]
    }
   ],
   "source": [
    "d2['percentage_discount'] = 0"
   ]
  },
  {
   "cell_type": "code",
   "execution_count": null,
   "id": "76f12cda",
   "metadata": {},
   "outputs": [],
   "source": [
    "# combine and save as new table\n",
    "t_disc = pd.concat([d1,d2])\n",
    "t_disc.reset_index(drop=True)"
   ]
  },
  {
   "cell_type": "code",
   "execution_count": null,
   "id": "29750219",
   "metadata": {},
   "outputs": [],
   "source": [
    "# plot average review count vs if game is on discount"
   ]
  },
  {
   "cell_type": "code",
   "execution_count": 1208,
   "id": "497b1e58",
   "metadata": {},
   "outputs": [
    {
     "data": {
      "image/png": "[encoded data removed]",
      "text/plain": [
       "<Figure size 432x288 with 1 Axes>"
      ]
     },
     "metadata": {
      "needs_background": "light"
     },
     "output_type": "display_data"
    }
   ],
   "source": [
    "t_disc.groupby('on_discount')['review_count'].agg('mean').plot(kind='bar',title='Discount and Review Count')\n",
    "plt.xlabel('On Discount', fontsize=10)\n",
    "plt.ylabel('Avg Review Count',fontsize=10);"
   ]
  },
  {
   "cell_type": "code",
   "execution_count": 1211,
   "id": "cd2f70bb",
   "metadata": {
    "collapsed": true
   },
   "outputs": [
    {
     "data": {
      "text/html": [
       "<div>\n",
       "<style scoped>\n",
       "    .dataframe tbody tr th:only-of-type {\n",
       "        vertical-align: middle;\n",
       "    }\n",
       "\n",
       "    .dataframe tbody tr th {\n",
       "        vertical-align: top;\n",
       "    }\n",
       "\n",
       "    .dataframe thead th {\n",
       "        text-align: right;\n",
       "    }\n",
       "</style>\n",
       "<table border=\"1\" class=\"dataframe\">\n",
       "  <thead>\n",
       "    <tr style=\"text-align: right;\">\n",
       "      <th></th>\n",
       "      <th>name</th>\n",
       "      <th>price</th>\n",
       "      <th>discount_price</th>\n",
       "      <th>release_date</th>\n",
       "      <th>review_count</th>\n",
       "      <th>review_quality</th>\n",
       "      <th>genre</th>\n",
       "      <th>rating</th>\n",
       "      <th>dev</th>\n",
       "      <th>publisher</th>\n",
       "      <th>player_sup</th>\n",
       "      <th>deck_sup</th>\n",
       "      <th>on_discount</th>\n",
       "      <th>percentage_discount</th>\n",
       "    </tr>\n",
       "  </thead>\n",
       "  <tbody>\n",
       "    <tr>\n",
       "      <th>2868</th>\n",
       "      <td>Sid Meier's Civilization® VI: Australia Civili...</td>\n",
       "      <td>265.35</td>\n",
       "      <td>24.50</td>\n",
       "      <td>2017-02-23 00:00:00</td>\n",
       "      <td>759</td>\n",
       "      <td>Mixed</td>\n",
       "      <td>Strategy</td>\n",
       "      <td>missing</td>\n",
       "      <td>Firaxis Games</td>\n",
       "      <td>2K</td>\n",
       "      <td>Single-player</td>\n",
       "      <td>missing</td>\n",
       "      <td>Yes</td>\n",
       "      <td>91</td>\n",
       "    </tr>\n",
       "    <tr>\n",
       "      <th>1915</th>\n",
       "      <td>Sid Meier's Civilization® VI: Khmer and Indone...</td>\n",
       "      <td>265.35</td>\n",
       "      <td>24.50</td>\n",
       "      <td>2017-10-19 00:00:00</td>\n",
       "      <td>286</td>\n",
       "      <td>Mixed</td>\n",
       "      <td>Strategy</td>\n",
       "      <td>missing</td>\n",
       "      <td>Firaxis Games</td>\n",
       "      <td>2K</td>\n",
       "      <td>Single-player</td>\n",
       "      <td>missing</td>\n",
       "      <td>Yes</td>\n",
       "      <td>91</td>\n",
       "    </tr>\n",
       "    <tr>\n",
       "      <th>1749</th>\n",
       "      <td>Sid Meier's Civilization® VI: Persia and Maced...</td>\n",
       "      <td>265.35</td>\n",
       "      <td>24.50</td>\n",
       "      <td>2017-03-28 00:00:00</td>\n",
       "      <td>497</td>\n",
       "      <td>Mostly Negative</td>\n",
       "      <td>Strategy</td>\n",
       "      <td>missing</td>\n",
       "      <td>Firaxis Games</td>\n",
       "      <td>2K</td>\n",
       "      <td>Single-player</td>\n",
       "      <td>missing</td>\n",
       "      <td>Yes</td>\n",
       "      <td>91</td>\n",
       "    </tr>\n",
       "    <tr>\n",
       "      <th>2517</th>\n",
       "      <td>Sid Meier's Civilization® VI: Nubia Civilizati...</td>\n",
       "      <td>265.35</td>\n",
       "      <td>24.50</td>\n",
       "      <td>2017-07-27 00:00:00</td>\n",
       "      <td>326</td>\n",
       "      <td>Mostly Negative</td>\n",
       "      <td>Strategy</td>\n",
       "      <td>missing</td>\n",
       "      <td>Firaxis Games</td>\n",
       "      <td>2K</td>\n",
       "      <td>Single-player</td>\n",
       "      <td>missing</td>\n",
       "      <td>Yes</td>\n",
       "      <td>91</td>\n",
       "    </tr>\n",
       "    <tr>\n",
       "      <th>2866</th>\n",
       "      <td>Sid Meier's Civilization® VI: Vikings Scenario...</td>\n",
       "      <td>265.35</td>\n",
       "      <td>24.50</td>\n",
       "      <td>2016-12-20 00:00:00</td>\n",
       "      <td>1171</td>\n",
       "      <td>Overwhelmingly Negative</td>\n",
       "      <td>Strategy</td>\n",
       "      <td>missing</td>\n",
       "      <td>Firaxis Games</td>\n",
       "      <td>2K</td>\n",
       "      <td>Single-player</td>\n",
       "      <td>missing</td>\n",
       "      <td>Yes</td>\n",
       "      <td>91</td>\n",
       "    </tr>\n",
       "    <tr>\n",
       "      <th>2872</th>\n",
       "      <td>Sid Meier's Civilization® VI: Poland Civilizat...</td>\n",
       "      <td>265.35</td>\n",
       "      <td>24.50</td>\n",
       "      <td>2016-12-20 00:00:00</td>\n",
       "      <td>818</td>\n",
       "      <td>Mostly Negative</td>\n",
       "      <td>Strategy</td>\n",
       "      <td>missing</td>\n",
       "      <td>Firaxis Games</td>\n",
       "      <td>2K</td>\n",
       "      <td>Single-player</td>\n",
       "      <td>missing</td>\n",
       "      <td>Yes</td>\n",
       "      <td>91</td>\n",
       "    </tr>\n",
       "    <tr>\n",
       "      <th>4065</th>\n",
       "      <td>The Emerald Maiden: Symphony of Dreams</td>\n",
       "      <td>10.99</td>\n",
       "      <td>1.09</td>\n",
       "      <td>2016-02-18 00:00:00</td>\n",
       "      <td>223</td>\n",
       "      <td>Very Positive</td>\n",
       "      <td>Adventure, Casual</td>\n",
       "      <td>missing</td>\n",
       "      <td>Gogii Games</td>\n",
       "      <td>Artifex Mundi</td>\n",
       "      <td>Single-player</td>\n",
       "      <td>missing</td>\n",
       "      <td>Yes</td>\n",
       "      <td>90</td>\n",
       "    </tr>\n",
       "    <tr>\n",
       "      <th>537</th>\n",
       "      <td>NARUTO TO BORUTO: SHINOBI STRIKER</td>\n",
       "      <td>79.99</td>\n",
       "      <td>7.99</td>\n",
       "      <td>2018-08-31 00:00:00</td>\n",
       "      <td>36635</td>\n",
       "      <td>Very Positive</td>\n",
       "      <td>Action</td>\n",
       "      <td>t</td>\n",
       "      <td>Soleil Ltd.</td>\n",
       "      <td>BANDAI NAMCO Entertainment</td>\n",
       "      <td>Single-player</td>\n",
       "      <td>Unsupported</td>\n",
       "      <td>Yes</td>\n",
       "      <td>90</td>\n",
       "    </tr>\n",
       "    <tr>\n",
       "      <th>4340</th>\n",
       "      <td>Queen's Quest: Tower of Darkness</td>\n",
       "      <td>10.99</td>\n",
       "      <td>1.09</td>\n",
       "      <td>2015-09-10 00:00:00</td>\n",
       "      <td>170</td>\n",
       "      <td>Mixed</td>\n",
       "      <td>Adventure, Casual</td>\n",
       "      <td>missing</td>\n",
       "      <td>Brave Giant LTD</td>\n",
       "      <td>Artifex Mundi</td>\n",
       "      <td>Single-player</td>\n",
       "      <td>Unsupported</td>\n",
       "      <td>Yes</td>\n",
       "      <td>90</td>\n",
       "    </tr>\n",
       "    <tr>\n",
       "      <th>4630</th>\n",
       "      <td>Queen's Quest: Tower of Darkness</td>\n",
       "      <td>10.99</td>\n",
       "      <td>1.09</td>\n",
       "      <td>2015-09-10 00:00:00</td>\n",
       "      <td>170</td>\n",
       "      <td>Mixed</td>\n",
       "      <td>Adventure, Casual</td>\n",
       "      <td>missing</td>\n",
       "      <td>Brave Giant LTD</td>\n",
       "      <td>Artifex Mundi</td>\n",
       "      <td>Single-player</td>\n",
       "      <td>Unsupported</td>\n",
       "      <td>Yes</td>\n",
       "      <td>90</td>\n",
       "    </tr>\n",
       "  </tbody>\n",
       "</table>\n",
       "</div>"
      ],
      "text/plain": [
       "                                                   name   price  \\\n",
       "2868  Sid Meier's Civilization® VI: Australia Civili...  265.35   \n",
       "1915  Sid Meier's Civilization® VI: Khmer and Indone...  265.35   \n",
       "1749  Sid Meier's Civilization® VI: Persia and Maced...  265.35   \n",
       "2517  Sid Meier's Civilization® VI: Nubia Civilizati...  265.35   \n",
       "2866  Sid Meier's Civilization® VI: Vikings Scenario...  265.35   \n",
       "2872  Sid Meier's Civilization® VI: Poland Civilizat...  265.35   \n",
       "4065             The Emerald Maiden: Symphony of Dreams   10.99   \n",
       "537                   NARUTO TO BORUTO: SHINOBI STRIKER   79.99   \n",
       "4340                   Queen's Quest: Tower of Darkness   10.99   \n",
       "4630                   Queen's Quest: Tower of Darkness   10.99   \n",
       "\n",
       "      discount_price         release_date  review_count  \\\n",
       "2868           24.50  2017-02-23 00:00:00           759   \n",
       "1915           24.50  2017-10-19 00:00:00           286   \n",
       "1749           24.50  2017-03-28 00:00:00           497   \n",
       "2517           24.50  2017-07-27 00:00:00           326   \n",
       "2866           24.50  2016-12-20 00:00:00          1171   \n",
       "2872           24.50  2016-12-20 00:00:00           818   \n",
       "4065            1.09  2016-02-18 00:00:00           223   \n",
       "537             7.99  2018-08-31 00:00:00         36635   \n",
       "4340            1.09  2015-09-10 00:00:00           170   \n",
       "4630            1.09  2015-09-10 00:00:00           170   \n",
       "\n",
       "               review_quality              genre   rating              dev  \\\n",
       "2868                    Mixed           Strategy  missing    Firaxis Games   \n",
       "1915                    Mixed           Strategy  missing    Firaxis Games   \n",
       "1749          Mostly Negative           Strategy  missing    Firaxis Games   \n",
       "2517          Mostly Negative           Strategy  missing    Firaxis Games   \n",
       "2866  Overwhelmingly Negative           Strategy  missing    Firaxis Games   \n",
       "2872          Mostly Negative           Strategy  missing    Firaxis Games   \n",
       "4065            Very Positive  Adventure, Casual  missing      Gogii Games   \n",
       "537             Very Positive             Action        t      Soleil Ltd.   \n",
       "4340                    Mixed  Adventure, Casual  missing  Brave Giant LTD   \n",
       "4630                    Mixed  Adventure, Casual  missing  Brave Giant LTD   \n",
       "\n",
       "                       publisher     player_sup     deck_sup on_discount  \\\n",
       "2868                          2K  Single-player      missing         Yes   \n",
       "1915                          2K  Single-player      missing         Yes   \n",
       "1749                          2K  Single-player      missing         Yes   \n",
       "2517                          2K  Single-player      missing         Yes   \n",
       "2866                          2K  Single-player      missing         Yes   \n",
       "2872                          2K  Single-player      missing         Yes   \n",
       "4065               Artifex Mundi  Single-player      missing         Yes   \n",
       "537   BANDAI NAMCO Entertainment  Single-player  Unsupported         Yes   \n",
       "4340               Artifex Mundi  Single-player  Unsupported         Yes   \n",
       "4630               Artifex Mundi  Single-player  Unsupported         Yes   \n",
       "\n",
       "      percentage_discount  \n",
       "2868                   91  \n",
       "1915                   91  \n",
       "1749                   91  \n",
       "2517                   91  \n",
       "2866                   91  \n",
       "2872                   91  \n",
       "4065                   90  \n",
       "537                    90  \n",
       "4340                   90  \n",
       "4630                   90  "
      ]
     },
     "execution_count": 1211,
     "metadata": {},
     "output_type": "execute_result"
    }
   ],
   "source": [
    "# Games with the most discounts\n",
    "t_disc.sort_values('percentage_discount',ascending=False).head(10)"
   ]
  },
  {
   "cell_type": "markdown",
   "id": "5d2d5d98",
   "metadata": {},
   "source": [
    "### 5.7 Number of Games by Review Quality"
   ]
  },
  {
   "cell_type": "code",
   "execution_count": 1049,
   "id": "d48930b1",
   "metadata": {},
   "outputs": [
    {
     "data": {
      "text/html": [
       "<div>\n",
       "<style scoped>\n",
       "    .dataframe tbody tr th:only-of-type {\n",
       "        vertical-align: middle;\n",
       "    }\n",
       "\n",
       "    .dataframe tbody tr th {\n",
       "        vertical-align: top;\n",
       "    }\n",
       "\n",
       "    .dataframe thead th {\n",
       "        text-align: right;\n",
       "    }\n",
       "</style>\n",
       "<table border=\"1\" class=\"dataframe\">\n",
       "  <thead>\n",
       "    <tr style=\"text-align: right;\">\n",
       "      <th>on_discount</th>\n",
       "      <th>No</th>\n",
       "      <th>Yes</th>\n",
       "    </tr>\n",
       "    <tr>\n",
       "      <th>review_quality</th>\n",
       "      <th></th>\n",
       "      <th></th>\n",
       "    </tr>\n",
       "  </thead>\n",
       "  <tbody>\n",
       "    <tr>\n",
       "      <th>Mixed</th>\n",
       "      <td>608.0</td>\n",
       "      <td>130.0</td>\n",
       "    </tr>\n",
       "    <tr>\n",
       "      <th>Mostly Negative</th>\n",
       "      <td>63.0</td>\n",
       "      <td>21.0</td>\n",
       "    </tr>\n",
       "    <tr>\n",
       "      <th>Mostly Positive</th>\n",
       "      <td>669.0</td>\n",
       "      <td>114.0</td>\n",
       "    </tr>\n",
       "    <tr>\n",
       "      <th>Negative</th>\n",
       "      <td>4.0</td>\n",
       "      <td>NaN</td>\n",
       "    </tr>\n",
       "    <tr>\n",
       "      <th>Other</th>\n",
       "      <td>148.0</td>\n",
       "      <td>73.0</td>\n",
       "    </tr>\n",
       "    <tr>\n",
       "      <th>Overwhelmingly Negative</th>\n",
       "      <td>1.0</td>\n",
       "      <td>1.0</td>\n",
       "    </tr>\n",
       "    <tr>\n",
       "      <th>Overwhelmingly Positive</th>\n",
       "      <td>395.0</td>\n",
       "      <td>30.0</td>\n",
       "    </tr>\n",
       "    <tr>\n",
       "      <th>Positive</th>\n",
       "      <td>309.0</td>\n",
       "      <td>72.0</td>\n",
       "    </tr>\n",
       "    <tr>\n",
       "      <th>Very Negative</th>\n",
       "      <td>1.0</td>\n",
       "      <td>2.0</td>\n",
       "    </tr>\n",
       "    <tr>\n",
       "      <th>Very Positive</th>\n",
       "      <td>1997.0</td>\n",
       "      <td>275.0</td>\n",
       "    </tr>\n",
       "    <tr>\n",
       "      <th>missing</th>\n",
       "      <td>78.0</td>\n",
       "      <td>17.0</td>\n",
       "    </tr>\n",
       "  </tbody>\n",
       "</table>\n",
       "</div>"
      ],
      "text/plain": [
       "on_discount                  No    Yes\n",
       "review_quality                        \n",
       "Mixed                     608.0  130.0\n",
       "Mostly Negative            63.0   21.0\n",
       "Mostly Positive           669.0  114.0\n",
       "Negative                    4.0    NaN\n",
       "Other                     148.0   73.0\n",
       "Overwhelmingly Negative     1.0    1.0\n",
       "Overwhelmingly Positive   395.0   30.0\n",
       "Positive                  309.0   72.0\n",
       "Very Negative               1.0    2.0\n",
       "Very Positive            1997.0  275.0\n",
       "missing                    78.0   17.0"
      ]
     },
     "execution_count": 1049,
     "metadata": {},
     "output_type": "execute_result"
    }
   ],
   "source": [
    "t_disc.groupby(['review_quality','on_discount'])['name'].agg('count').unstack()"
   ]
  },
  {
   "cell_type": "code",
   "execution_count": 1053,
   "id": "69a0a10a",
   "metadata": {},
   "outputs": [
    {
     "data": {
      "image/png": "[encoded data removed]",
      "text/plain": [
       "<Figure size 432x288 with 1 Axes>"
      ]
     },
     "metadata": {
      "needs_background": "light"
     },
     "output_type": "display_data"
    }
   ],
   "source": [
    "# plot number of games vs review quality, for both games on sale and not on sale\n",
    "t_disc.groupby(['review_quality','on_discount'])['name'].agg('count').unstack().plot(kind='bar')\n",
    "plt.xlabel('Review Quality', fontsize=10)\n",
    "plt.ylabel('Number of Games',fontsize=10);"
   ]
  },
  {
   "cell_type": "markdown",
   "id": "7c3df200",
   "metadata": {},
   "source": [
    "### 5.8 Game Price and Release Date"
   ]
  },
  {
   "cell_type": "code",
   "execution_count": 1102,
   "id": "a4591ffa",
   "metadata": {},
   "outputs": [],
   "source": [
    "# make copy of table for release date, and filter items that have a release date\n",
    "g5 = g3[g3['release_date'] != 'missing']"
   ]
  },
  {
   "cell_type": "code",
   "execution_count": 1103,
   "id": "f2c146eb",
   "metadata": {
    "collapsed": true
   },
   "outputs": [
    {
     "name": "stderr",
     "output_type": "stream",
     "text": [
      "C:\\Users\\yuki-\\AppData\\Local\\Temp\\ipykernel_34192\\4278786022.py:2: SettingWithCopyWarning: \n",
      "A value is trying to be set on a copy of a slice from a DataFrame.\n",
      "Try using .loc[row_indexer,col_indexer] = value instead\n",
      "\n",
      "See the caveats in the documentation: https://pandas.pydata.org/pandas-docs/stable/user_guide/indexing.html#returning-a-view-versus-a-copy\n",
      "  g5['release_date'] = g5['release_date'].apply(lambda x:datetime.datetime.strptime(x[:10],'%Y-%m-%d'))\n"
     ]
    }
   ],
   "source": [
    "# convert to datetime format\n",
    "g5['release_date'] = g5['release_date'].apply(lambda x:datetime.datetime.strptime(x[:10],'%Y-%m-%d'))"
   ]
  },
  {
   "cell_type": "code",
   "execution_count": 1107,
   "id": "60c8682a",
   "metadata": {
    "collapsed": true
   },
   "outputs": [
    {
     "name": "stderr",
     "output_type": "stream",
     "text": [
      "C:\\Users\\yuki-\\AppData\\Local\\Temp\\ipykernel_34192\\3651603617.py:2: SettingWithCopyWarning: \n",
      "A value is trying to be set on a copy of a slice from a DataFrame.\n",
      "Try using .loc[row_indexer,col_indexer] = value instead\n",
      "\n",
      "See the caveats in the documentation: https://pandas.pydata.org/pandas-docs/stable/user_guide/indexing.html#returning-a-view-versus-a-copy\n",
      "  g5['release_year'] = g5['release_date'].map(lambda x:x.year)\n"
     ]
    }
   ],
   "source": [
    "# find the year of release for each game\n",
    "g5['release_year'] = g5['release_date'].map(lambda x:x.year)"
   ]
  },
  {
   "cell_type": "code",
   "execution_count": 1213,
   "id": "d261d29b",
   "metadata": {},
   "outputs": [
    {
     "data": {
      "image/png": "[encoded data removed]",
      "text/plain": [
       "<Figure size 432x288 with 1 Axes>"
      ]
     },
     "metadata": {
      "needs_background": "light"
     },
     "output_type": "display_data"
    }
   ],
   "source": [
    "# plot price vs release year\n",
    "plt.scatter(g5['release_date'],g5['price'])\n",
    "plt.title('Price vs. Year of Publishing')\n",
    "plt.xlabel('Release Year', fontsize=10)\n",
    "plt.ylabel('Price in CDN$',fontsize=10);"
   ]
  },
  {
   "cell_type": "code",
   "execution_count": 1215,
   "id": "bf11038b",
   "metadata": {},
   "outputs": [
    {
     "data": {
      "image/png": "[encoded data removed]",
      "text/plain": [
       "<Figure size 432x288 with 1 Axes>"
      ]
     },
     "metadata": {
      "needs_background": "light"
     },
     "output_type": "display_data"
    }
   ],
   "source": [
    "# Number of Games for each Price Range vs. Release Year\n",
    "g5.groupby(['release_year','price_range'])['name'].agg('count').unstack().plot(title='Number of Games by Price Range')\n",
    "plt.xlabel('Release Year', fontsize=10)\n",
    "plt.ylabel('Num Games',fontsize=10);"
   ]
  },
  {
   "cell_type": "markdown",
   "id": "b4e447d6",
   "metadata": {},
   "source": [
    "### 5.9 Publisher and Reviews"
   ]
  },
  {
   "cell_type": "code",
   "execution_count": 1130,
   "id": "6fe149d5",
   "metadata": {},
   "outputs": [
    {
     "data": {
      "text/html": [
       "<div>\n",
       "<style scoped>\n",
       "    .dataframe tbody tr th:only-of-type {\n",
       "        vertical-align: middle;\n",
       "    }\n",
       "\n",
       "    .dataframe tbody tr th {\n",
       "        vertical-align: top;\n",
       "    }\n",
       "\n",
       "    .dataframe thead th {\n",
       "        text-align: right;\n",
       "    }\n",
       "</style>\n",
       "<table border=\"1\" class=\"dataframe\">\n",
       "  <thead>\n",
       "    <tr style=\"text-align: right;\">\n",
       "      <th></th>\n",
       "      <th>publisher</th>\n",
       "      <th>count</th>\n",
       "    </tr>\n",
       "  </thead>\n",
       "  <tbody>\n",
       "    <tr>\n",
       "      <th>1078</th>\n",
       "      <td>SEGA</td>\n",
       "      <td>214</td>\n",
       "    </tr>\n",
       "    <tr>\n",
       "      <th>1470</th>\n",
       "      <td>missing</td>\n",
       "      <td>193</td>\n",
       "    </tr>\n",
       "    <tr>\n",
       "      <th>952</th>\n",
       "      <td>Paradox Interactive</td>\n",
       "      <td>127</td>\n",
       "    </tr>\n",
       "    <tr>\n",
       "      <th>388</th>\n",
       "      <td>Electronic Arts</td>\n",
       "      <td>122</td>\n",
       "    </tr>\n",
       "    <tr>\n",
       "      <th>9</th>\n",
       "      <td>2K</td>\n",
       "      <td>87</td>\n",
       "    </tr>\n",
       "    <tr>\n",
       "      <th>1176</th>\n",
       "      <td>Square Enix</td>\n",
       "      <td>81</td>\n",
       "    </tr>\n",
       "    <tr>\n",
       "      <th>1331</th>\n",
       "      <td>Ubisoft</td>\n",
       "      <td>75</td>\n",
       "    </tr>\n",
       "    <tr>\n",
       "      <th>1152</th>\n",
       "      <td>Slitherine Ltd.</td>\n",
       "      <td>71</td>\n",
       "    </tr>\n",
       "    <tr>\n",
       "      <th>103</th>\n",
       "      <td>BANDAI NAMCO Entertainment</td>\n",
       "      <td>62</td>\n",
       "    </tr>\n",
       "    <tr>\n",
       "      <th>1228</th>\n",
       "      <td>THQ Nordic</td>\n",
       "      <td>57</td>\n",
       "    </tr>\n",
       "  </tbody>\n",
       "</table>\n",
       "</div>"
      ],
      "text/plain": [
       "                       publisher  count\n",
       "1078                        SEGA    214\n",
       "1470                     missing    193\n",
       "952          Paradox Interactive    127\n",
       "388              Electronic Arts    122\n",
       "9                             2K     87\n",
       "1176                 Square Enix     81\n",
       "1331                     Ubisoft     75\n",
       "1152             Slitherine Ltd.     71\n",
       "103   BANDAI NAMCO Entertainment     62\n",
       "1228                  THQ Nordic     57"
      ]
     },
     "execution_count": 1130,
     "metadata": {},
     "output_type": "execute_result"
    }
   ],
   "source": [
    "# publisher with the most games\n",
    "t_disc.groupby('publisher')['name'].agg('count').reset_index(name='count').sort_values('count', ascending=False).head(10)"
   ]
  },
  {
   "cell_type": "markdown",
   "id": "67a94420",
   "metadata": {},
   "source": [
    "### 5.9.1 Select publishers that make the most games and analyse their reviews"
   ]
  },
  {
   "cell_type": "code",
   "execution_count": 1133,
   "id": "03a11185",
   "metadata": {},
   "outputs": [],
   "source": [
    "pub1 = t_disc[t_disc['publisher']=='SEGA']"
   ]
  },
  {
   "cell_type": "code",
   "execution_count": 1141,
   "id": "9ab548a1",
   "metadata": {},
   "outputs": [
    {
     "data": {
      "image/png": "[encoded data removed]",
      "text/plain": [
       "<Figure size 432x288 with 1 Axes>"
      ]
     },
     "metadata": {
      "needs_background": "light"
     },
     "output_type": "display_data"
    }
   ],
   "source": [
    "pub1.groupby('review_quality')['name'].agg('count').plot(kind='bar',title='Review Quality for SEGA')\n",
    "plt.xlabel('Review Quality', fontsize=10)\n",
    "plt.ylabel('Number of Games',fontsize=10);"
   ]
  },
  {
   "cell_type": "code",
   "execution_count": 1137,
   "id": "166fada5",
   "metadata": {},
   "outputs": [],
   "source": [
    "pub2 = t_disc[t_disc['publisher']=='Paradox Interactive']"
   ]
  },
  {
   "cell_type": "code",
   "execution_count": 1142,
   "id": "3f080e5f",
   "metadata": {},
   "outputs": [
    {
     "data": {
      "image/png": "[encoded data removed]",
      "text/plain": [
       "<Figure size 432x288 with 1 Axes>"
      ]
     },
     "metadata": {
      "needs_background": "light"
     },
     "output_type": "display_data"
    }
   ],
   "source": [
    "pub2.groupby('review_quality')['name'].agg('count').plot(kind='bar',title='Review Quality for Paradox Interactive')\n",
    "plt.xlabel('Review Quality', fontsize=10)\n",
    "plt.ylabel('Number of Games',fontsize=10);"
   ]
  },
  {
   "cell_type": "code",
   "execution_count": 1139,
   "id": "8f604e82",
   "metadata": {},
   "outputs": [],
   "source": [
    "pub3 = t_disc[t_disc['publisher']=='Electronic Arts']"
   ]
  },
  {
   "cell_type": "code",
   "execution_count": 1143,
   "id": "bf12df6a",
   "metadata": {},
   "outputs": [
    {
     "data": {
      "image/png": "[encoded data removed]",
      "text/plain": [
       "<Figure size 432x288 with 1 Axes>"
      ]
     },
     "metadata": {
      "needs_background": "light"
     },
     "output_type": "display_data"
    }
   ],
   "source": [
    "pub3.groupby('review_quality')['name'].agg('count').plot(kind='bar',title='Review Quality for Electronic Arts')\n",
    "plt.xlabel('Review Quality', fontsize=10)\n",
    "plt.ylabel('Number of Games',fontsize=10);"
   ]
  },
  {
   "cell_type": "code",
   "execution_count": 1148,
   "id": "d55ca695",
   "metadata": {},
   "outputs": [],
   "source": [
    "pub4 = t_disc[t_disc['publisher']=='Square Enix']"
   ]
  },
  {
   "cell_type": "code",
   "execution_count": 1145,
   "id": "fb75c13d",
   "metadata": {},
   "outputs": [
    {
     "data": {
      "image/png": "[encoded data removed]",
      "text/plain": [
       "<Figure size 432x288 with 1 Axes>"
      ]
     },
     "metadata": {
      "needs_background": "light"
     },
     "output_type": "display_data"
    }
   ],
   "source": [
    "pub4.groupby('review_quality')['name'].agg('count').plot(kind='bar',title='Review Quality for Square Enix')\n",
    "plt.xlabel('Review Quality', fontsize=10)\n",
    "plt.ylabel('Number of Games',fontsize=10);"
   ]
  },
  {
   "cell_type": "code",
   "execution_count": 1147,
   "id": "5673bacd",
   "metadata": {},
   "outputs": [],
   "source": [
    "pub5 = t_disc[t_disc['publisher']=='Ubisoft']"
   ]
  },
  {
   "cell_type": "code",
   "execution_count": 1149,
   "id": "f6bd058b",
   "metadata": {},
   "outputs": [
    {
     "data": {
      "image/png": "[encoded data removed]",
      "text/plain": [
       "<Figure size 432x288 with 1 Axes>"
      ]
     },
     "metadata": {
      "needs_background": "light"
     },
     "output_type": "display_data"
    }
   ],
   "source": [
    "pub5.groupby('review_quality')['name'].agg('count').plot(kind='bar',title='Review Quality for Ubisoft')\n",
    "plt.xlabel('Review Quality', fontsize=10)\n",
    "plt.ylabel('Number of Games',fontsize=10);"
   ]
  },
  {
   "cell_type": "code",
   "execution_count": 1150,
   "id": "12b645f3",
   "metadata": {},
   "outputs": [],
   "source": [
    "pub6 = t_disc[t_disc['publisher']=='2K']"
   ]
  },
  {
   "cell_type": "code",
   "execution_count": 1151,
   "id": "688513d7",
   "metadata": {},
   "outputs": [
    {
     "data": {
      "image/png": "[encoded data removed]",
      "text/plain": [
       "<Figure size 432x288 with 1 Axes>"
      ]
     },
     "metadata": {
      "needs_background": "light"
     },
     "output_type": "display_data"
    }
   ],
   "source": [
    "pub5.groupby('review_quality')['name'].agg('count').plot(kind='bar',title='Review Quality for 2K')\n",
    "plt.xlabel('Review Quality', fontsize=10)\n",
    "plt.ylabel('Number of Games',fontsize=10);"
   ]
  }
 ],
 "metadata": {
  "kernelspec": {
   "display_name": "Python 3 (ipykernel)",
   "language": "python",
   "name": "python3"
  },
  "language_info": {
   "codemirror_mode": {
    "name": "ipython",
    "version": 3
   },
   "file_extension": ".py",
   "mimetype": "text/x-python",
   "name": "python",
   "nbconvert_exporter": "python",
   "pygments_lexer": "ipython3",
   "version": "3.8.2"
  }
 },
 "nbformat": 4,
 "nbformat_minor": 5
}
